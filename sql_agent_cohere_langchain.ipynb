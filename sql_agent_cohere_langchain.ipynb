{
  "cells": [
    {
      "cell_type": "markdown",
      "metadata": {
        "id": "view-in-github",
        "colab_type": "text"
      },
      "source": [
        "<a href=\"https://colab.research.google.com/github/MagaliDrumare/Cohere-SQL-Agent-/blob/main/sql_agent_cohere_langchain.ipynb\" target=\"_parent\"><img src=\"https://colab.research.google.com/assets/colab-badge.svg\" alt=\"Open In Colab\"/></a>"
      ]
    },
    {
      "cell_type": "markdown",
      "id": "5c0d5271-8d35-4471-b667-265695cbf11a",
      "metadata": {
        "id": "5c0d5271-8d35-4471-b667-265695cbf11a"
      },
      "source": [
        "![Cohere-Logo-Color-RGB.png](data:image/png;base64,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)"
      ]
    },
    {
      "cell_type": "markdown",
      "id": "1d71f595-01ef-4c24-99eb-81b01eec048b",
      "metadata": {
        "id": "1d71f595-01ef-4c24-99eb-81b01eec048b"
      },
      "source": [
        "# Notebook Overview\n",
        "\n",
        "## Motivation\n",
        "Enterprise customers often store and handle information in relational databases but querying such databases effectively requires bespoke knowledge of the underlying database structure as well as strong SQL coding skills. One way to address these challenges is to build an LLM agent capable of generating and executing SQL queries based on natural language. For example If a user asks: ``what are the top 4 rows in table X``, the agent should be able to generate ``SELECT * FROM X LIMIT 4``, execute this query and return the output to the user.\n",
        "\n",
        "## Objective\n",
        "In this notebook we explore how to setup a [Cohere ReAct Agent](https://github.com/langchain-ai/langchain-cohere/blob/main/libs/cohere/langchain_cohere/cohere_agent.py) to answer questions over SQL Databases. We show how this can be done seamlessly with langchain's existing SQLDBToolkit.\n",
        "\n",
        "## Table of Contents\n",
        "\n",
        "- [Toolkit Setup](#sec_step0)\n",
        "- [SQL Agent](#sec_step1)\n",
        "- [SQL Agent with context](#sec_step2)"
      ]
    },
    {
      "cell_type": "markdown",
      "id": "68e373fd",
      "metadata": {
        "collapsed": false,
        "id": "68e373fd"
      },
      "source": [
        "<a id=\"sec_step0\"></a>\n",
        "# Toolkit Setup\n",
        "\n"
      ]
    },
    {
      "cell_type": "code",
      "execution_count": 51,
      "id": "76287bf9-d98d-4a34-84c8-46134b85de53",
      "metadata": {
        "id": "76287bf9-d98d-4a34-84c8-46134b85de53",
        "colab": {
          "base_uri": "https://localhost:8080/"
        },
        "outputId": "55009545-dd1b-46a0-9e07-c8bb5dfc1430"
      },
      "outputs": [
        {
          "output_type": "stream",
          "name": "stdout",
          "text": [
            "Requirement already satisfied: langchain in /usr/local/lib/python3.10/dist-packages (0.2.5)\n",
            "Requirement already satisfied: langchain_cohere in /usr/local/lib/python3.10/dist-packages (0.1.8)\n",
            "Requirement already satisfied: langchain_experimental in /usr/local/lib/python3.10/dist-packages (0.0.61)\n",
            "Requirement already satisfied: langchain_community in /usr/local/lib/python3.10/dist-packages (0.2.5)\n",
            "Requirement already satisfied: PyYAML>=5.3 in /usr/local/lib/python3.10/dist-packages (from langchain) (6.0.1)\n",
            "Requirement already satisfied: SQLAlchemy<3,>=1.4 in /usr/local/lib/python3.10/dist-packages (from langchain) (2.0.30)\n",
            "Requirement already satisfied: aiohttp<4.0.0,>=3.8.3 in /usr/local/lib/python3.10/dist-packages (from langchain) (3.9.5)\n",
            "Requirement already satisfied: async-timeout<5.0.0,>=4.0.0 in /usr/local/lib/python3.10/dist-packages (from langchain) (4.0.3)\n",
            "Requirement already satisfied: langchain-core<0.3.0,>=0.2.7 in /usr/local/lib/python3.10/dist-packages (from langchain) (0.2.9)\n",
            "Requirement already satisfied: langchain-text-splitters<0.3.0,>=0.2.0 in /usr/local/lib/python3.10/dist-packages (from langchain) (0.2.1)\n",
            "Requirement already satisfied: langsmith<0.2.0,>=0.1.17 in /usr/local/lib/python3.10/dist-packages (from langchain) (0.1.80)\n",
            "Requirement already satisfied: numpy<2,>=1 in /usr/local/lib/python3.10/dist-packages (from langchain) (1.25.2)\n",
            "Requirement already satisfied: pydantic<3,>=1 in /usr/local/lib/python3.10/dist-packages (from langchain) (2.7.3)\n",
            "Requirement already satisfied: requests<3,>=2 in /usr/local/lib/python3.10/dist-packages (from langchain) (2.31.0)\n",
            "Requirement already satisfied: tenacity<9.0.0,>=8.1.0 in /usr/local/lib/python3.10/dist-packages (from langchain) (8.3.0)\n",
            "Requirement already satisfied: cohere<6.0,>=5.5.6 in /usr/local/lib/python3.10/dist-packages (from langchain_cohere) (5.5.8)\n",
            "Requirement already satisfied: dataclasses-json<0.7,>=0.5.7 in /usr/local/lib/python3.10/dist-packages (from langchain_community) (0.6.7)\n",
            "Requirement already satisfied: aiosignal>=1.1.2 in /usr/local/lib/python3.10/dist-packages (from aiohttp<4.0.0,>=3.8.3->langchain) (1.3.1)\n",
            "Requirement already satisfied: attrs>=17.3.0 in /usr/local/lib/python3.10/dist-packages (from aiohttp<4.0.0,>=3.8.3->langchain) (23.2.0)\n",
            "Requirement already satisfied: frozenlist>=1.1.1 in /usr/local/lib/python3.10/dist-packages (from aiohttp<4.0.0,>=3.8.3->langchain) (1.4.1)\n",
            "Requirement already satisfied: multidict<7.0,>=4.5 in /usr/local/lib/python3.10/dist-packages (from aiohttp<4.0.0,>=3.8.3->langchain) (6.0.5)\n",
            "Requirement already satisfied: yarl<2.0,>=1.0 in /usr/local/lib/python3.10/dist-packages (from aiohttp<4.0.0,>=3.8.3->langchain) (1.9.4)\n",
            "Requirement already satisfied: boto3<2.0.0,>=1.34.0 in /usr/local/lib/python3.10/dist-packages (from cohere<6.0,>=5.5.6->langchain_cohere) (1.34.129)\n",
            "Requirement already satisfied: fastavro<2.0.0,>=1.9.4 in /usr/local/lib/python3.10/dist-packages (from cohere<6.0,>=5.5.6->langchain_cohere) (1.9.4)\n",
            "Requirement already satisfied: httpx>=0.21.2 in /usr/local/lib/python3.10/dist-packages (from cohere<6.0,>=5.5.6->langchain_cohere) (0.27.0)\n",
            "Requirement already satisfied: httpx-sse<0.5.0,>=0.4.0 in /usr/local/lib/python3.10/dist-packages (from cohere<6.0,>=5.5.6->langchain_cohere) (0.4.0)\n",
            "Requirement already satisfied: parameterized<0.10.0,>=0.9.0 in /usr/local/lib/python3.10/dist-packages (from cohere<6.0,>=5.5.6->langchain_cohere) (0.9.0)\n",
            "Requirement already satisfied: tokenizers<1,>=0.15 in /usr/local/lib/python3.10/dist-packages (from cohere<6.0,>=5.5.6->langchain_cohere) (0.19.1)\n",
            "Requirement already satisfied: types-requests<3.0.0,>=2.0.0 in /usr/local/lib/python3.10/dist-packages (from cohere<6.0,>=5.5.6->langchain_cohere) (2.32.0.20240602)\n",
            "Requirement already satisfied: typing_extensions>=4.0.0 in /usr/local/lib/python3.10/dist-packages (from cohere<6.0,>=5.5.6->langchain_cohere) (4.12.2)\n",
            "Requirement already satisfied: marshmallow<4.0.0,>=3.18.0 in /usr/local/lib/python3.10/dist-packages (from dataclasses-json<0.7,>=0.5.7->langchain_community) (3.21.3)\n",
            "Requirement already satisfied: typing-inspect<1,>=0.4.0 in /usr/local/lib/python3.10/dist-packages (from dataclasses-json<0.7,>=0.5.7->langchain_community) (0.9.0)\n",
            "Requirement already satisfied: jsonpatch<2.0,>=1.33 in /usr/local/lib/python3.10/dist-packages (from langchain-core<0.3.0,>=0.2.7->langchain) (1.33)\n",
            "Requirement already satisfied: packaging<25,>=23.2 in /usr/local/lib/python3.10/dist-packages (from langchain-core<0.3.0,>=0.2.7->langchain) (24.1)\n",
            "Requirement already satisfied: orjson<4.0.0,>=3.9.14 in /usr/local/lib/python3.10/dist-packages (from langsmith<0.2.0,>=0.1.17->langchain) (3.10.5)\n",
            "Requirement already satisfied: annotated-types>=0.4.0 in /usr/local/lib/python3.10/dist-packages (from pydantic<3,>=1->langchain) (0.7.0)\n",
            "Requirement already satisfied: pydantic-core==2.18.4 in /usr/local/lib/python3.10/dist-packages (from pydantic<3,>=1->langchain) (2.18.4)\n",
            "Requirement already satisfied: charset-normalizer<4,>=2 in /usr/local/lib/python3.10/dist-packages (from requests<3,>=2->langchain) (3.3.2)\n",
            "Requirement already satisfied: idna<4,>=2.5 in /usr/local/lib/python3.10/dist-packages (from requests<3,>=2->langchain) (3.7)\n",
            "Requirement already satisfied: urllib3<3,>=1.21.1 in /usr/local/lib/python3.10/dist-packages (from requests<3,>=2->langchain) (2.0.7)\n",
            "Requirement already satisfied: certifi>=2017.4.17 in /usr/local/lib/python3.10/dist-packages (from requests<3,>=2->langchain) (2024.6.2)\n",
            "Requirement already satisfied: greenlet!=0.4.17 in /usr/local/lib/python3.10/dist-packages (from SQLAlchemy<3,>=1.4->langchain) (3.0.3)\n",
            "Requirement already satisfied: botocore<1.35.0,>=1.34.129 in /usr/local/lib/python3.10/dist-packages (from boto3<2.0.0,>=1.34.0->cohere<6.0,>=5.5.6->langchain_cohere) (1.34.129)\n",
            "Requirement already satisfied: jmespath<2.0.0,>=0.7.1 in /usr/local/lib/python3.10/dist-packages (from boto3<2.0.0,>=1.34.0->cohere<6.0,>=5.5.6->langchain_cohere) (1.0.1)\n",
            "Requirement already satisfied: s3transfer<0.11.0,>=0.10.0 in /usr/local/lib/python3.10/dist-packages (from boto3<2.0.0,>=1.34.0->cohere<6.0,>=5.5.6->langchain_cohere) (0.10.1)\n",
            "Requirement already satisfied: anyio in /usr/local/lib/python3.10/dist-packages (from httpx>=0.21.2->cohere<6.0,>=5.5.6->langchain_cohere) (3.7.1)\n",
            "Requirement already satisfied: httpcore==1.* in /usr/local/lib/python3.10/dist-packages (from httpx>=0.21.2->cohere<6.0,>=5.5.6->langchain_cohere) (1.0.5)\n",
            "Requirement already satisfied: sniffio in /usr/local/lib/python3.10/dist-packages (from httpx>=0.21.2->cohere<6.0,>=5.5.6->langchain_cohere) (1.3.1)\n",
            "Requirement already satisfied: h11<0.15,>=0.13 in /usr/local/lib/python3.10/dist-packages (from httpcore==1.*->httpx>=0.21.2->cohere<6.0,>=5.5.6->langchain_cohere) (0.14.0)\n",
            "Requirement already satisfied: jsonpointer>=1.9 in /usr/local/lib/python3.10/dist-packages (from jsonpatch<2.0,>=1.33->langchain-core<0.3.0,>=0.2.7->langchain) (3.0.0)\n",
            "Requirement already satisfied: huggingface-hub<1.0,>=0.16.4 in /usr/local/lib/python3.10/dist-packages (from tokenizers<1,>=0.15->cohere<6.0,>=5.5.6->langchain_cohere) (0.23.3)\n",
            "Requirement already satisfied: mypy-extensions>=0.3.0 in /usr/local/lib/python3.10/dist-packages (from typing-inspect<1,>=0.4.0->dataclasses-json<0.7,>=0.5.7->langchain_community) (1.0.0)\n",
            "Requirement already satisfied: python-dateutil<3.0.0,>=2.1 in /usr/local/lib/python3.10/dist-packages (from botocore<1.35.0,>=1.34.129->boto3<2.0.0,>=1.34.0->cohere<6.0,>=5.5.6->langchain_cohere) (2.8.2)\n",
            "Requirement already satisfied: filelock in /usr/local/lib/python3.10/dist-packages (from huggingface-hub<1.0,>=0.16.4->tokenizers<1,>=0.15->cohere<6.0,>=5.5.6->langchain_cohere) (3.14.0)\n",
            "Requirement already satisfied: fsspec>=2023.5.0 in /usr/local/lib/python3.10/dist-packages (from huggingface-hub<1.0,>=0.16.4->tokenizers<1,>=0.15->cohere<6.0,>=5.5.6->langchain_cohere) (2023.6.0)\n",
            "Requirement already satisfied: tqdm>=4.42.1 in /usr/local/lib/python3.10/dist-packages (from huggingface-hub<1.0,>=0.16.4->tokenizers<1,>=0.15->cohere<6.0,>=5.5.6->langchain_cohere) (4.66.4)\n",
            "Requirement already satisfied: exceptiongroup in /usr/local/lib/python3.10/dist-packages (from anyio->httpx>=0.21.2->cohere<6.0,>=5.5.6->langchain_cohere) (1.2.1)\n",
            "Requirement already satisfied: six>=1.5 in /usr/local/lib/python3.10/dist-packages (from python-dateutil<3.0.0,>=2.1->botocore<1.35.0,>=1.34.129->boto3<2.0.0,>=1.34.0->cohere<6.0,>=5.5.6->langchain_cohere) (1.16.0)\n"
          ]
        }
      ],
      "source": [
        "pip install langchain langchain_cohere langchain_experimental langchain_community"
      ]
    },
    {
      "cell_type": "code",
      "source": [
        "pip install langchain_community"
      ],
      "metadata": {
        "colab": {
          "base_uri": "https://localhost:8080/"
        },
        "id": "m8DbpLVyBYO9",
        "outputId": "22dbb043-f9c1-4e24-e8c4-5bdda62aacd4"
      },
      "id": "m8DbpLVyBYO9",
      "execution_count": 52,
      "outputs": [
        {
          "output_type": "stream",
          "name": "stdout",
          "text": [
            "Requirement already satisfied: langchain_community in /usr/local/lib/python3.10/dist-packages (0.2.5)\n",
            "Requirement already satisfied: PyYAML>=5.3 in /usr/local/lib/python3.10/dist-packages (from langchain_community) (6.0.1)\n",
            "Requirement already satisfied: SQLAlchemy<3,>=1.4 in /usr/local/lib/python3.10/dist-packages (from langchain_community) (2.0.30)\n",
            "Requirement already satisfied: aiohttp<4.0.0,>=3.8.3 in /usr/local/lib/python3.10/dist-packages (from langchain_community) (3.9.5)\n",
            "Requirement already satisfied: dataclasses-json<0.7,>=0.5.7 in /usr/local/lib/python3.10/dist-packages (from langchain_community) (0.6.7)\n",
            "Requirement already satisfied: langchain<0.3.0,>=0.2.5 in /usr/local/lib/python3.10/dist-packages (from langchain_community) (0.2.5)\n",
            "Requirement already satisfied: langchain-core<0.3.0,>=0.2.7 in /usr/local/lib/python3.10/dist-packages (from langchain_community) (0.2.9)\n",
            "Requirement already satisfied: langsmith<0.2.0,>=0.1.0 in /usr/local/lib/python3.10/dist-packages (from langchain_community) (0.1.80)\n",
            "Requirement already satisfied: numpy<2,>=1 in /usr/local/lib/python3.10/dist-packages (from langchain_community) (1.25.2)\n",
            "Requirement already satisfied: requests<3,>=2 in /usr/local/lib/python3.10/dist-packages (from langchain_community) (2.31.0)\n",
            "Requirement already satisfied: tenacity<9.0.0,>=8.1.0 in /usr/local/lib/python3.10/dist-packages (from langchain_community) (8.3.0)\n",
            "Requirement already satisfied: aiosignal>=1.1.2 in /usr/local/lib/python3.10/dist-packages (from aiohttp<4.0.0,>=3.8.3->langchain_community) (1.3.1)\n",
            "Requirement already satisfied: attrs>=17.3.0 in /usr/local/lib/python3.10/dist-packages (from aiohttp<4.0.0,>=3.8.3->langchain_community) (23.2.0)\n",
            "Requirement already satisfied: frozenlist>=1.1.1 in /usr/local/lib/python3.10/dist-packages (from aiohttp<4.0.0,>=3.8.3->langchain_community) (1.4.1)\n",
            "Requirement already satisfied: multidict<7.0,>=4.5 in /usr/local/lib/python3.10/dist-packages (from aiohttp<4.0.0,>=3.8.3->langchain_community) (6.0.5)\n",
            "Requirement already satisfied: yarl<2.0,>=1.0 in /usr/local/lib/python3.10/dist-packages (from aiohttp<4.0.0,>=3.8.3->langchain_community) (1.9.4)\n",
            "Requirement already satisfied: async-timeout<5.0,>=4.0 in /usr/local/lib/python3.10/dist-packages (from aiohttp<4.0.0,>=3.8.3->langchain_community) (4.0.3)\n",
            "Requirement already satisfied: marshmallow<4.0.0,>=3.18.0 in /usr/local/lib/python3.10/dist-packages (from dataclasses-json<0.7,>=0.5.7->langchain_community) (3.21.3)\n",
            "Requirement already satisfied: typing-inspect<1,>=0.4.0 in /usr/local/lib/python3.10/dist-packages (from dataclasses-json<0.7,>=0.5.7->langchain_community) (0.9.0)\n",
            "Requirement already satisfied: langchain-text-splitters<0.3.0,>=0.2.0 in /usr/local/lib/python3.10/dist-packages (from langchain<0.3.0,>=0.2.5->langchain_community) (0.2.1)\n",
            "Requirement already satisfied: pydantic<3,>=1 in /usr/local/lib/python3.10/dist-packages (from langchain<0.3.0,>=0.2.5->langchain_community) (2.7.3)\n",
            "Requirement already satisfied: jsonpatch<2.0,>=1.33 in /usr/local/lib/python3.10/dist-packages (from langchain-core<0.3.0,>=0.2.7->langchain_community) (1.33)\n",
            "Requirement already satisfied: packaging<25,>=23.2 in /usr/local/lib/python3.10/dist-packages (from langchain-core<0.3.0,>=0.2.7->langchain_community) (24.1)\n",
            "Requirement already satisfied: orjson<4.0.0,>=3.9.14 in /usr/local/lib/python3.10/dist-packages (from langsmith<0.2.0,>=0.1.0->langchain_community) (3.10.5)\n",
            "Requirement already satisfied: charset-normalizer<4,>=2 in /usr/local/lib/python3.10/dist-packages (from requests<3,>=2->langchain_community) (3.3.2)\n",
            "Requirement already satisfied: idna<4,>=2.5 in /usr/local/lib/python3.10/dist-packages (from requests<3,>=2->langchain_community) (3.7)\n",
            "Requirement already satisfied: urllib3<3,>=1.21.1 in /usr/local/lib/python3.10/dist-packages (from requests<3,>=2->langchain_community) (2.0.7)\n",
            "Requirement already satisfied: certifi>=2017.4.17 in /usr/local/lib/python3.10/dist-packages (from requests<3,>=2->langchain_community) (2024.6.2)\n",
            "Requirement already satisfied: typing-extensions>=4.6.0 in /usr/local/lib/python3.10/dist-packages (from SQLAlchemy<3,>=1.4->langchain_community) (4.12.2)\n",
            "Requirement already satisfied: greenlet!=0.4.17 in /usr/local/lib/python3.10/dist-packages (from SQLAlchemy<3,>=1.4->langchain_community) (3.0.3)\n",
            "Requirement already satisfied: jsonpointer>=1.9 in /usr/local/lib/python3.10/dist-packages (from jsonpatch<2.0,>=1.33->langchain-core<0.3.0,>=0.2.7->langchain_community) (3.0.0)\n",
            "Requirement already satisfied: annotated-types>=0.4.0 in /usr/local/lib/python3.10/dist-packages (from pydantic<3,>=1->langchain<0.3.0,>=0.2.5->langchain_community) (0.7.0)\n",
            "Requirement already satisfied: pydantic-core==2.18.4 in /usr/local/lib/python3.10/dist-packages (from pydantic<3,>=1->langchain<0.3.0,>=0.2.5->langchain_community) (2.18.4)\n",
            "Requirement already satisfied: mypy-extensions>=0.3.0 in /usr/local/lib/python3.10/dist-packages (from typing-inspect<1,>=0.4.0->dataclasses-json<0.7,>=0.5.7->langchain_community) (1.0.0)\n"
          ]
        }
      ]
    },
    {
      "cell_type": "code",
      "source": [
        " pip install psycopg2"
      ],
      "metadata": {
        "colab": {
          "base_uri": "https://localhost:8080/"
        },
        "id": "vGkUI0ckE6vH",
        "outputId": "1ebabd15-2c23-43ab-8dd0-0e33463443d8"
      },
      "id": "vGkUI0ckE6vH",
      "execution_count": null,
      "outputs": [
        {
          "output_type": "stream",
          "name": "stdout",
          "text": [
            "Requirement already satisfied: psycopg2 in /usr/local/lib/python3.10/dist-packages (2.9.9)\n"
          ]
        }
      ]
    },
    {
      "cell_type": "code",
      "execution_count": 53,
      "id": "bce0ca82-fc00-40bb-9d0e-a274bd2eb8a7",
      "metadata": {
        "id": "bce0ca82-fc00-40bb-9d0e-a274bd2eb8a7"
      },
      "outputs": [],
      "source": [
        "from langchain.agents import AgentExecutor\n",
        "from langchain_cohere.react_multi_hop.agent import create_cohere_react_agent\n",
        "from langchain_core.prompts import ChatPromptTemplate\n",
        "from langchain_cohere.chat_models import ChatCohere\n",
        "from langchain_community.utilities.sql_database import SQLDatabase\n",
        "from langchain_community.agent_toolkits import SQLDatabaseToolkit\n",
        "import os"
      ]
    },
    {
      "cell_type": "markdown",
      "id": "c8e8405d-080c-4426-aa94-57d975727dae",
      "metadata": {
        "id": "c8e8405d-080c-4426-aa94-57d975727dae"
      },
      "source": [
        "Langchain already has a SQLDBToolkit that consists of 4 tools to handle SQL query generation, execution and validation. To use this, you simply need to define your LLM and DB and pass these into the Toolkit.\n",
        "\n",
        "These are the following tools:\n",
        "- 'sql_db_query': executes SQL code on the database\n",
        "- 'sql_db_schema': returns the schema of tables given the list of tables\n",
        "- 'sql_db_list_tables': lists the tables in the database\n",
        "- 'sql_db_query_checker': validates the SQL query\n",
        "\n",
        "\n"
      ]
    },
    {
      "cell_type": "code",
      "source": [
        "pip install sqlalchemy"
      ],
      "metadata": {
        "colab": {
          "base_uri": "https://localhost:8080/"
        },
        "id": "iH2hx6rxGukp",
        "outputId": "14c09d5f-8fdf-40dc-bbc0-4b6af3e08da2"
      },
      "id": "iH2hx6rxGukp",
      "execution_count": null,
      "outputs": [
        {
          "output_type": "stream",
          "name": "stdout",
          "text": [
            "Requirement already satisfied: sqlalchemy in /usr/local/lib/python3.10/dist-packages (2.0.30)\n",
            "Requirement already satisfied: typing-extensions>=4.6.0 in /usr/local/lib/python3.10/dist-packages (from sqlalchemy) (4.12.2)\n",
            "Requirement already satisfied: greenlet!=0.4.17 in /usr/local/lib/python3.10/dist-packages (from sqlalchemy) (3.0.3)\n"
          ]
        }
      ]
    },
    {
      "cell_type": "code",
      "source": [
        "!wget https://www.sqlitetutorial.net/wp-content/uploads/2018/03/chinook.zip\n",
        "!unzip chinook.zip"
      ],
      "metadata": {
        "colab": {
          "base_uri": "https://localhost:8080/"
        },
        "id": "UuIZyaeID1jB",
        "outputId": "43199a42-cec0-41f3-9c47-548b04285786"
      },
      "id": "UuIZyaeID1jB",
      "execution_count": 60,
      "outputs": [
        {
          "output_type": "stream",
          "name": "stdout",
          "text": [
            "--2024-06-19 15:45:32--  https://www.sqlitetutorial.net/wp-content/uploads/2018/03/chinook.zip\n",
            "Resolving www.sqlitetutorial.net (www.sqlitetutorial.net)... 172.67.172.250, 104.21.30.141, 2606:4700:3037::6815:1e8d, ...\n",
            "Connecting to www.sqlitetutorial.net (www.sqlitetutorial.net)|172.67.172.250|:443... connected.\n",
            "HTTP request sent, awaiting response... 200 OK\n",
            "Length: 305596 (298K) [application/zip]\n",
            "Saving to: ‘chinook.zip.4’\n",
            "\n",
            "\rchinook.zip.4         0%[                    ]       0  --.-KB/s               \rchinook.zip.4       100%[===================>] 298.43K  --.-KB/s    in 0.01s   \n",
            "\n",
            "2024-06-19 15:45:32 (21.0 MB/s) - ‘chinook.zip.4’ saved [305596/305596]\n",
            "\n",
            "Archive:  chinook.zip\n",
            "replace chinook.db? [y]es, [n]o, [A]ll, [N]one, [r]ename: y\n",
            "  inflating: chinook.db              \n"
          ]
        }
      ]
    },
    {
      "cell_type": "code",
      "source": [
        "import sqlite3\n",
        "conn = sqlite3.connect('chinook.db')"
      ],
      "metadata": {
        "id": "-FejbimlDkuN"
      },
      "id": "-FejbimlDkuN",
      "execution_count": 62,
      "outputs": []
    },
    {
      "cell_type": "code",
      "source": [
        "c = conn.cursor()\n",
        "for row in c.execute('SELECT * FROM albums;'):\n",
        "    print(row)\n",
        "conn.close()"
      ],
      "metadata": {
        "colab": {
          "base_uri": "https://localhost:8080/"
        },
        "id": "2bxUJO-9Dlv4",
        "outputId": "e770cbd7-f37a-4b5f-b0dc-3f7afb6405a2"
      },
      "id": "2bxUJO-9Dlv4",
      "execution_count": 63,
      "outputs": [
        {
          "output_type": "stream",
          "name": "stdout",
          "text": [
            "(1, 'For Those About To Rock We Salute You', 1)\n",
            "(2, 'Balls to the Wall', 2)\n",
            "(3, 'Restless and Wild', 2)\n",
            "(4, 'Let There Be Rock', 1)\n",
            "(5, 'Big Ones', 3)\n",
            "(6, 'Jagged Little Pill', 4)\n",
            "(7, 'Facelift', 5)\n",
            "(8, 'Warner 25 Anos', 6)\n",
            "(9, 'Plays Metallica By Four Cellos', 7)\n",
            "(10, 'Audioslave', 8)\n",
            "(11, 'Out Of Exile', 8)\n",
            "(12, 'BackBeat Soundtrack', 9)\n",
            "(13, 'The Best Of Billy Cobham', 10)\n",
            "(14, 'Alcohol Fueled Brewtality Live! [Disc 1]', 11)\n",
            "(15, 'Alcohol Fueled Brewtality Live! [Disc 2]', 11)\n",
            "(16, 'Black Sabbath', 12)\n",
            "(17, 'Black Sabbath Vol. 4 (Remaster)', 12)\n",
            "(18, 'Body Count', 13)\n",
            "(19, 'Chemical Wedding', 14)\n",
            "(20, 'The Best Of Buddy Guy - The Millenium Collection', 15)\n",
            "(21, 'Prenda Minha', 16)\n",
            "(22, 'Sozinho Remix Ao Vivo', 16)\n",
            "(23, 'Minha Historia', 17)\n",
            "(24, 'Afrociberdelia', 18)\n",
            "(25, 'Da Lama Ao Caos', 18)\n",
            "(26, 'Acústico MTV [Live]', 19)\n",
            "(27, 'Cidade Negra - Hits', 19)\n",
            "(28, 'Na Pista', 20)\n",
            "(29, 'Axé Bahia 2001', 21)\n",
            "(30, 'BBC Sessions [Disc 1] [Live]', 22)\n",
            "(31, 'Bongo Fury', 23)\n",
            "(32, 'Carnaval 2001', 21)\n",
            "(33, 'Chill: Brazil (Disc 1)', 24)\n",
            "(34, 'Chill: Brazil (Disc 2)', 6)\n",
            "(35, 'Garage Inc. (Disc 1)', 50)\n",
            "(36, 'Greatest Hits II', 51)\n",
            "(37, 'Greatest Kiss', 52)\n",
            "(38, 'Heart of the Night', 53)\n",
            "(39, 'International Superhits', 54)\n",
            "(40, 'Into The Light', 55)\n",
            "(41, 'Meus Momentos', 56)\n",
            "(42, 'Minha História', 57)\n",
            "(43, 'MK III The Final Concerts [Disc 1]', 58)\n",
            "(44, 'Physical Graffiti [Disc 1]', 22)\n",
            "(45, 'Sambas De Enredo 2001', 21)\n",
            "(46, 'Supernatural', 59)\n",
            "(47, 'The Best of Ed Motta', 37)\n",
            "(48, 'The Essential Miles Davis [Disc 1]', 68)\n",
            "(49, 'The Essential Miles Davis [Disc 2]', 68)\n",
            "(50, 'The Final Concerts (Disc 2)', 58)\n",
            "(51, \"Up An' Atom\", 69)\n",
            "(52, 'Vinícius De Moraes - Sem Limite', 70)\n",
            "(53, 'Vozes do MPB', 21)\n",
            "(54, 'Chronicle, Vol. 1', 76)\n",
            "(55, 'Chronicle, Vol. 2', 76)\n",
            "(56, 'Cássia Eller - Coleção Sem Limite [Disc 2]', 77)\n",
            "(57, 'Cássia Eller - Sem Limite [Disc 1]', 77)\n",
            "(58, 'Come Taste The Band', 58)\n",
            "(59, 'Deep Purple In Rock', 58)\n",
            "(60, 'Fireball', 58)\n",
            "(61, \"Knocking at Your Back Door: The Best Of Deep Purple in the 80's\", 58)\n",
            "(62, 'Machine Head', 58)\n",
            "(63, 'Purpendicular', 58)\n",
            "(64, 'Slaves And Masters', 58)\n",
            "(65, 'Stormbringer', 58)\n",
            "(66, 'The Battle Rages On', 58)\n",
            "(67, \"Vault: Def Leppard's Greatest Hits\", 78)\n",
            "(68, 'Outbreak', 79)\n",
            "(69, 'Djavan Ao Vivo - Vol. 02', 80)\n",
            "(70, 'Djavan Ao Vivo - Vol. 1', 80)\n",
            "(71, 'Elis Regina-Minha História', 41)\n",
            "(72, 'The Cream Of Clapton', 81)\n",
            "(73, 'Unplugged', 81)\n",
            "(74, 'Album Of The Year', 82)\n",
            "(75, 'Angel Dust', 82)\n",
            "(76, 'King For A Day Fool For A Lifetime', 82)\n",
            "(77, 'The Real Thing', 82)\n",
            "(78, 'Deixa Entrar', 83)\n",
            "(79, 'In Your Honor [Disc 1]', 84)\n",
            "(80, 'In Your Honor [Disc 2]', 84)\n",
            "(81, 'One By One', 84)\n",
            "(82, 'The Colour And The Shape', 84)\n",
            "(83, 'My Way: The Best Of Frank Sinatra [Disc 1]', 85)\n",
            "(84, 'Roda De Funk', 86)\n",
            "(85, 'As Canções de Eu Tu Eles', 27)\n",
            "(86, 'Quanta Gente Veio Ver (Live)', 27)\n",
            "(87, 'Quanta Gente Veio ver--Bônus De Carnaval', 27)\n",
            "(88, 'Faceless', 87)\n",
            "(89, 'American Idiot', 54)\n",
            "(90, 'Appetite for Destruction', 88)\n",
            "(91, 'Use Your Illusion I', 88)\n",
            "(92, 'Use Your Illusion II', 88)\n",
            "(93, 'Blue Moods', 89)\n",
            "(94, 'A Matter of Life and Death', 90)\n",
            "(95, 'A Real Dead One', 90)\n",
            "(96, 'A Real Live One', 90)\n",
            "(97, 'Brave New World', 90)\n",
            "(98, 'Dance Of Death', 90)\n",
            "(99, 'Fear Of The Dark', 90)\n",
            "(100, 'Iron Maiden', 90)\n",
            "(101, 'Killers', 90)\n",
            "(102, 'Live After Death', 90)\n",
            "(103, 'Live At Donington 1992 (Disc 1)', 90)\n",
            "(104, 'Live At Donington 1992 (Disc 2)', 90)\n",
            "(105, 'No Prayer For The Dying', 90)\n",
            "(106, 'Piece Of Mind', 90)\n",
            "(107, 'Powerslave', 90)\n",
            "(108, 'Rock In Rio [CD1]', 90)\n",
            "(109, 'Rock In Rio [CD2]', 90)\n",
            "(110, 'Seventh Son of a Seventh Son', 90)\n",
            "(111, 'Somewhere in Time', 90)\n",
            "(112, 'The Number of The Beast', 90)\n",
            "(113, 'The X Factor', 90)\n",
            "(114, 'Virtual XI', 90)\n",
            "(115, 'Sex Machine', 91)\n",
            "(116, 'Emergency On Planet Earth', 92)\n",
            "(117, 'Synkronized', 92)\n",
            "(118, 'The Return Of The Space Cowboy', 92)\n",
            "(119, 'Get Born', 93)\n",
            "(120, 'Are You Experienced?', 94)\n",
            "(121, 'Surfing with the Alien (Remastered)', 95)\n",
            "(122, 'Jorge Ben Jor 25 Anos', 46)\n",
            "(123, 'Jota Quest-1995', 96)\n",
            "(124, 'Cafezinho', 97)\n",
            "(125, 'Living After Midnight', 98)\n",
            "(126, 'Unplugged [Live]', 52)\n",
            "(127, 'BBC Sessions [Disc 2] [Live]', 22)\n",
            "(128, 'Coda', 22)\n",
            "(129, 'Houses Of The Holy', 22)\n",
            "(130, 'In Through The Out Door', 22)\n",
            "(131, 'IV', 22)\n",
            "(132, 'Led Zeppelin I', 22)\n",
            "(133, 'Led Zeppelin II', 22)\n",
            "(134, 'Led Zeppelin III', 22)\n",
            "(135, 'Physical Graffiti [Disc 2]', 22)\n",
            "(136, 'Presence', 22)\n",
            "(137, 'The Song Remains The Same (Disc 1)', 22)\n",
            "(138, 'The Song Remains The Same (Disc 2)', 22)\n",
            "(139, 'A TempestadeTempestade Ou O Livro Dos Dias', 99)\n",
            "(140, 'Mais Do Mesmo', 99)\n",
            "(141, 'Greatest Hits', 100)\n",
            "(142, 'Lulu Santos - RCA 100 Anos De Música - Álbum 01', 101)\n",
            "(143, 'Lulu Santos - RCA 100 Anos De Música - Álbum 02', 101)\n",
            "(144, 'Misplaced Childhood', 102)\n",
            "(145, 'Barulhinho Bom', 103)\n",
            "(146, 'Seek And Shall Find: More Of The Best (1963-1981)', 104)\n",
            "(147, 'The Best Of Men At Work', 105)\n",
            "(148, 'Black Album', 50)\n",
            "(149, 'Garage Inc. (Disc 2)', 50)\n",
            "(150, \"Kill 'Em All\", 50)\n",
            "(151, 'Load', 50)\n",
            "(152, 'Master Of Puppets', 50)\n",
            "(153, 'ReLoad', 50)\n",
            "(154, 'Ride The Lightning', 50)\n",
            "(155, 'St. Anger', 50)\n",
            "(156, '...And Justice For All', 50)\n",
            "(157, 'Miles Ahead', 68)\n",
            "(158, 'Milton Nascimento Ao Vivo', 42)\n",
            "(159, 'Minas', 42)\n",
            "(160, 'Ace Of Spades', 106)\n",
            "(161, 'Demorou...', 108)\n",
            "(162, 'Motley Crue Greatest Hits', 109)\n",
            "(163, 'From The Muddy Banks Of The Wishkah [Live]', 110)\n",
            "(164, 'Nevermind', 110)\n",
            "(165, 'Compositores', 111)\n",
            "(166, 'Olodum', 112)\n",
            "(167, 'Acústico MTV', 113)\n",
            "(168, 'Arquivo II', 113)\n",
            "(169, 'Arquivo Os Paralamas Do Sucesso', 113)\n",
            "(170, 'Bark at the Moon (Remastered)', 114)\n",
            "(171, 'Blizzard of Ozz', 114)\n",
            "(172, 'Diary of a Madman (Remastered)', 114)\n",
            "(173, 'No More Tears (Remastered)', 114)\n",
            "(174, 'Tribute', 114)\n",
            "(175, 'Walking Into Clarksdale', 115)\n",
            "(176, 'Original Soundtracks 1', 116)\n",
            "(177, 'The Beast Live', 117)\n",
            "(178, 'Live On Two Legs [Live]', 118)\n",
            "(179, 'Pearl Jam', 118)\n",
            "(180, 'Riot Act', 118)\n",
            "(181, 'Ten', 118)\n",
            "(182, 'Vs.', 118)\n",
            "(183, 'Dark Side Of The Moon', 120)\n",
            "(184, 'Os Cães Ladram Mas A Caravana Não Pára', 121)\n",
            "(185, 'Greatest Hits I', 51)\n",
            "(186, 'News Of The World', 51)\n",
            "(187, 'Out Of Time', 122)\n",
            "(188, 'Green', 124)\n",
            "(189, 'New Adventures In Hi-Fi', 124)\n",
            "(190, 'The Best Of R.E.M.: The IRS Years', 124)\n",
            "(191, 'Cesta Básica', 125)\n",
            "(192, 'Raul Seixas', 126)\n",
            "(193, 'Blood Sugar Sex Magik', 127)\n",
            "(194, 'By The Way', 127)\n",
            "(195, 'Californication', 127)\n",
            "(196, 'Retrospective I (1974-1980)', 128)\n",
            "(197, 'Santana - As Years Go By', 59)\n",
            "(198, 'Santana Live', 59)\n",
            "(199, 'Maquinarama', 130)\n",
            "(200, 'O Samba Poconé', 130)\n",
            "(201, 'Judas 0: B-Sides and Rarities', 131)\n",
            "(202, 'Rotten Apples: Greatest Hits', 131)\n",
            "(203, 'A-Sides', 132)\n",
            "(204, 'Morning Dance', 53)\n",
            "(205, 'In Step', 133)\n",
            "(206, 'Core', 134)\n",
            "(207, 'Mezmerize', 135)\n",
            "(208, '[1997] Black Light Syndrome', 136)\n",
            "(209, 'Live [Disc 1]', 137)\n",
            "(210, 'Live [Disc 2]', 137)\n",
            "(211, 'The Singles', 138)\n",
            "(212, 'Beyond Good And Evil', 139)\n",
            "(213, 'Pure Cult: The Best Of The Cult (For Rockers, Ravers, Lovers & Sinners) [UK]', 139)\n",
            "(214, 'The Doors', 140)\n",
            "(215, 'The Police Greatest Hits', 141)\n",
            "(216, 'Hot Rocks, 1964-1971 (Disc 1)', 142)\n",
            "(217, 'No Security', 142)\n",
            "(218, 'Voodoo Lounge', 142)\n",
            "(219, 'Tangents', 143)\n",
            "(220, 'Transmission', 143)\n",
            "(221, 'My Generation - The Very Best Of The Who', 144)\n",
            "(222, 'Serie Sem Limite (Disc 1)', 145)\n",
            "(223, 'Serie Sem Limite (Disc 2)', 145)\n",
            "(224, 'Acústico', 146)\n",
            "(225, 'Volume Dois', 146)\n",
            "(226, 'Battlestar Galactica: The Story So Far', 147)\n",
            "(227, 'Battlestar Galactica, Season 3', 147)\n",
            "(228, 'Heroes, Season 1', 148)\n",
            "(229, 'Lost, Season 3', 149)\n",
            "(230, 'Lost, Season 1', 149)\n",
            "(231, 'Lost, Season 2', 149)\n",
            "(232, 'Achtung Baby', 150)\n",
            "(233, \"All That You Can't Leave Behind\", 150)\n",
            "(234, 'B-Sides 1980-1990', 150)\n",
            "(235, 'How To Dismantle An Atomic Bomb', 150)\n",
            "(236, 'Pop', 150)\n",
            "(237, 'Rattle And Hum', 150)\n",
            "(238, 'The Best Of 1980-1990', 150)\n",
            "(239, 'War', 150)\n",
            "(240, 'Zooropa', 150)\n",
            "(241, 'UB40 The Best Of - Volume Two [UK]', 151)\n",
            "(242, 'Diver Down', 152)\n",
            "(243, 'The Best Of Van Halen, Vol. I', 152)\n",
            "(244, 'Van Halen', 152)\n",
            "(245, 'Van Halen III', 152)\n",
            "(246, 'Contraband', 153)\n",
            "(247, 'Vinicius De Moraes', 72)\n",
            "(248, 'Ao Vivo [IMPORT]', 155)\n",
            "(249, 'The Office, Season 1', 156)\n",
            "(250, 'The Office, Season 2', 156)\n",
            "(251, 'The Office, Season 3', 156)\n",
            "(252, 'Un-Led-Ed', 157)\n",
            "(253, 'Battlestar Galactica (Classic), Season 1', 158)\n",
            "(254, 'Aquaman', 159)\n",
            "(255, 'Instant Karma: The Amnesty International Campaign to Save Darfur', 150)\n",
            "(256, 'Speak of the Devil', 114)\n",
            "(257, '20th Century Masters - The Millennium Collection: The Best of Scorpions', 179)\n",
            "(258, 'House of Pain', 180)\n",
            "(259, 'Radio Brasil (O Som da Jovem Vanguarda) - Seleccao de Henrique Amaro', 36)\n",
            "(260, 'Cake: B-Sides and Rarities', 196)\n",
            "(261, 'LOST, Season 4', 149)\n",
            "(262, 'Quiet Songs', 197)\n",
            "(263, 'Muso Ko', 198)\n",
            "(264, 'Realize', 199)\n",
            "(265, 'Every Kind of Light', 200)\n",
            "(266, 'Duos II', 201)\n",
            "(267, 'Worlds', 202)\n",
            "(268, 'The Best of Beethoven', 203)\n",
            "(269, 'Temple of the Dog', 204)\n",
            "(270, 'Carry On', 205)\n",
            "(271, 'Revelations', 8)\n",
            "(272, 'Adorate Deum: Gregorian Chant from the Proper of the Mass', 206)\n",
            "(273, 'Allegri: Miserere', 207)\n",
            "(274, 'Pachelbel: Canon & Gigue', 208)\n",
            "(275, 'Vivaldi: The Four Seasons', 209)\n",
            "(276, 'Bach: Violin Concertos', 210)\n",
            "(277, 'Bach: Goldberg Variations', 211)\n",
            "(278, 'Bach: The Cello Suites', 212)\n",
            "(279, 'Handel: The Messiah (Highlights)', 213)\n",
            "(280, 'The World of Classical Favourites', 214)\n",
            "(281, 'Sir Neville Marriner: A Celebration', 215)\n",
            "(282, 'Mozart: Wind Concertos', 216)\n",
            "(283, 'Haydn: Symphonies 99 - 104', 217)\n",
            "(284, 'Beethoven: Symhonies Nos. 5 & 6', 218)\n",
            "(285, 'A Soprano Inspired', 219)\n",
            "(286, 'Great Opera Choruses', 220)\n",
            "(287, 'Wagner: Favourite Overtures', 221)\n",
            "(288, 'Fauré: Requiem, Ravel: Pavane & Others', 222)\n",
            "(289, 'Tchaikovsky: The Nutcracker', 223)\n",
            "(290, 'The Last Night of the Proms', 224)\n",
            "(291, 'Puccini: Madama Butterfly - Highlights', 225)\n",
            "(292, 'Holst: The Planets, Op. 32 & Vaughan Williams: Fantasies', 226)\n",
            "(293, \"Pavarotti's Opera Made Easy\", 227)\n",
            "(294, \"Great Performances - Barber's Adagio and Other Romantic Favorites for Strings\", 228)\n",
            "(295, 'Carmina Burana', 229)\n",
            "(296, 'A Copland Celebration, Vol. I', 230)\n",
            "(297, 'Bach: Toccata & Fugue in D Minor', 231)\n",
            "(298, 'Prokofiev: Symphony No.1', 232)\n",
            "(299, 'Scheherazade', 233)\n",
            "(300, 'Bach: The Brandenburg Concertos', 234)\n",
            "(301, 'Chopin: Piano Concertos Nos. 1 & 2', 235)\n",
            "(302, 'Mascagni: Cavalleria Rusticana', 236)\n",
            "(303, 'Sibelius: Finlandia', 237)\n",
            "(304, 'Beethoven Piano Sonatas: Moonlight & Pastorale', 238)\n",
            "(305, 'Great Recordings of the Century - Mahler: Das Lied von der Erde', 240)\n",
            "(306, 'Elgar: Cello Concerto & Vaughan Williams: Fantasias', 241)\n",
            "(307, 'Adams, John: The Chairman Dances', 242)\n",
            "(308, \"Tchaikovsky: 1812 Festival Overture, Op.49, Capriccio Italien & Beethoven: Wellington's Victory\", 243)\n",
            "(309, 'Palestrina: Missa Papae Marcelli & Allegri: Miserere', 244)\n",
            "(310, 'Prokofiev: Romeo & Juliet', 245)\n",
            "(311, 'Strauss: Waltzes', 226)\n",
            "(312, 'Berlioz: Symphonie Fantastique', 245)\n",
            "(313, 'Bizet: Carmen Highlights', 246)\n",
            "(314, 'English Renaissance', 247)\n",
            "(315, 'Handel: Music for the Royal Fireworks (Original Version 1749)', 208)\n",
            "(316, 'Grieg: Peer Gynt Suites & Sibelius: Pelléas et Mélisande', 248)\n",
            "(317, 'Mozart Gala: Famous Arias', 249)\n",
            "(318, 'SCRIABIN: Vers la flamme', 250)\n",
            "(319, 'Armada: Music from the Courts of England and Spain', 251)\n",
            "(320, 'Mozart: Symphonies Nos. 40 & 41', 248)\n",
            "(321, 'Back to Black', 252)\n",
            "(322, 'Frank', 252)\n",
            "(323, 'Carried to Dust (Bonus Track Version)', 253)\n",
            "(324, \"Beethoven: Symphony No. 6 'Pastoral' Etc.\", 254)\n",
            "(325, 'Bartok: Violin & Viola Concertos', 255)\n",
            "(326, \"Mendelssohn: A Midsummer Night's Dream\", 256)\n",
            "(327, 'Bach: Orchestral Suites Nos. 1 - 4', 257)\n",
            "(328, 'Charpentier: Divertissements, Airs & Concerts', 258)\n",
            "(329, 'South American Getaway', 259)\n",
            "(330, 'Górecki: Symphony No. 3', 260)\n",
            "(331, 'Purcell: The Fairy Queen', 261)\n",
            "(332, 'The Ultimate Relexation Album', 262)\n",
            "(333, 'Purcell: Music for the Queen Mary', 263)\n",
            "(334, 'Weill: The Seven Deadly Sins', 264)\n",
            "(335, 'J.S. Bach: Chaconne, Suite in E Minor, Partita in E Major & Prelude, Fugue and Allegro', 265)\n",
            "(336, 'Prokofiev: Symphony No.5 & Stravinksy: Le Sacre Du Printemps', 248)\n",
            "(337, 'Szymanowski: Piano Works, Vol. 1', 266)\n",
            "(338, 'Nielsen: The Six Symphonies', 267)\n",
            "(339, \"Great Recordings of the Century: Paganini's 24 Caprices\", 268)\n",
            "(340, \"Liszt - 12 Études D'Execution Transcendante\", 269)\n",
            "(341, 'Great Recordings of the Century - Shubert: Schwanengesang, 4 Lieder', 270)\n",
            "(342, 'Locatelli: Concertos for Violin, Strings and Continuo, Vol. 3', 271)\n",
            "(343, 'Respighi:Pines of Rome', 226)\n",
            "(344, \"Schubert: The Late String Quartets & String Quintet (3 CD's)\", 272)\n",
            "(345, \"Monteverdi: L'Orfeo\", 273)\n",
            "(346, 'Mozart: Chamber Music', 274)\n",
            "(347, 'Koyaanisqatsi (Soundtrack from the Motion Picture)', 275)\n"
          ]
        }
      ]
    },
    {
      "cell_type": "code",
      "execution_count": 64,
      "id": "6195f401-f0be-4a31-ab9f-80e722bb0fbb",
      "metadata": {
        "id": "6195f401-f0be-4a31-ab9f-80e722bb0fbb"
      },
      "outputs": [],
      "source": [
        "# load the cohere api key\n",
        "import cohere\n",
        "#co = cohere.Client('ZYL71VHay27tInH8H52ePXdHHV77fmChVoQABYbc')\n",
        "os.environ[\"COHERE_API_KEY\"] = \"XXXXXXXXXXXX\""
      ]
    },
    {
      "cell_type": "code",
      "source": [
        "\n",
        "#from sqlalchemy import create_engine\n",
        "#import pandas as pd\n",
        "engine= create_engine('Chinook.sqlite')\n"
      ],
      "metadata": {
        "id": "xzTDIt2sGj-g"
      },
      "id": "xzTDIt2sGj-g",
      "execution_count": 55,
      "outputs": []
    },
    {
      "cell_type": "code",
      "execution_count": 67,
      "id": "936212a7-fda6-4e12-a5e3-2fdd373660ae",
      "metadata": {
        "id": "936212a7-fda6-4e12-a5e3-2fdd373660ae",
        "outputId": "1a0d06fe-a6cd-4494-c748-7692cb4f4f21",
        "colab": {
          "base_uri": "https://localhost:8080/"
        }
      },
      "outputs": [
        {
          "output_type": "stream",
          "name": "stdout",
          "text": [
            "**List of pre-defined Langchain Tools**\n",
            "['sql_db_query', 'sql_db_schema', 'sql_db_list_tables', 'sql_db_query_checker']\n",
            "\n",
            "**Context to pass to LLM on tables**\n",
            "{'table_info': '\\nCREATE TABLE albums (\\n\\t\"AlbumId\" INTEGER NOT NULL, \\n\\t\"Title\" NVARCHAR(160) NOT NULL, \\n\\t\"ArtistId\" INTEGER NOT NULL, \\n\\tPRIMARY KEY (\"AlbumId\"), \\n\\tFOREIGN KEY(\"ArtistId\") REFERENCES artists (\"ArtistId\")\\n)\\n\\n/*\\n3 rows from albums table:\\nAlbumId\\tTitle\\tArtistId\\n1\\tFor Those About To Rock We Salute You\\t1\\n2\\tBalls to the Wall\\t2\\n3\\tRestless and Wild\\t2\\n*/\\n\\n\\nCREATE TABLE artists (\\n\\t\"ArtistId\" INTEGER NOT NULL, \\n\\t\"Name\" NVARCHAR(120), \\n\\tPRIMARY KEY (\"ArtistId\")\\n)\\n\\n/*\\n3 rows from artists table:\\nArtistId\\tName\\n1\\tAC/DC\\n2\\tAccept\\n3\\tAerosmith\\n*/\\n\\n\\nCREATE TABLE customers (\\n\\t\"CustomerId\" INTEGER NOT NULL, \\n\\t\"FirstName\" NVARCHAR(40) NOT NULL, \\n\\t\"LastName\" NVARCHAR(20) NOT NULL, \\n\\t\"Company\" NVARCHAR(80), \\n\\t\"Address\" NVARCHAR(70), \\n\\t\"City\" NVARCHAR(40), \\n\\t\"State\" NVARCHAR(40), \\n\\t\"Country\" NVARCHAR(40), \\n\\t\"PostalCode\" NVARCHAR(10), \\n\\t\"Phone\" NVARCHAR(24), \\n\\t\"Fax\" NVARCHAR(24), \\n\\t\"Email\" NVARCHAR(60) NOT NULL, \\n\\t\"SupportRepId\" INTEGER, \\n\\tPRIMARY KEY (\"CustomerId\"), \\n\\tFOREIGN KEY(\"SupportRepId\") REFERENCES employees (\"EmployeeId\")\\n)\\n\\n/*\\n3 rows from customers table:\\nCustomerId\\tFirstName\\tLastName\\tCompany\\tAddress\\tCity\\tState\\tCountry\\tPostalCode\\tPhone\\tFax\\tEmail\\tSupportRepId\\n1\\tLuís\\tGonçalves\\tEmbraer - Empresa Brasileira de Aeronáutica S.A.\\tAv. Brigadeiro Faria Lima, 2170\\tSão José dos Campos\\tSP\\tBrazil\\t12227-000\\t+55 (12) 3923-5555\\t+55 (12) 3923-5566\\tluisg@embraer.com.br\\t3\\n2\\tLeonie\\tKöhler\\tNone\\tTheodor-Heuss-Straße 34\\tStuttgart\\tNone\\tGermany\\t70174\\t+49 0711 2842222\\tNone\\tleonekohler@surfeu.de\\t5\\n3\\tFrançois\\tTremblay\\tNone\\t1498 rue Bélanger\\tMontréal\\tQC\\tCanada\\tH2G 1A7\\t+1 (514) 721-4711\\tNone\\tftremblay@gmail.com\\t3\\n*/\\n\\n\\nCREATE TABLE employees (\\n\\t\"EmployeeId\" INTEGER NOT NULL, \\n\\t\"LastName\" NVARCHAR(20) NOT NULL, \\n\\t\"FirstName\" NVARCHAR(20) NOT NULL, \\n\\t\"Title\" NVARCHAR(30), \\n\\t\"ReportsTo\" INTEGER, \\n\\t\"BirthDate\" DATETIME, \\n\\t\"HireDate\" DATETIME, \\n\\t\"Address\" NVARCHAR(70), \\n\\t\"City\" NVARCHAR(40), \\n\\t\"State\" NVARCHAR(40), \\n\\t\"Country\" NVARCHAR(40), \\n\\t\"PostalCode\" NVARCHAR(10), \\n\\t\"Phone\" NVARCHAR(24), \\n\\t\"Fax\" NVARCHAR(24), \\n\\t\"Email\" NVARCHAR(60), \\n\\tPRIMARY KEY (\"EmployeeId\"), \\n\\tFOREIGN KEY(\"ReportsTo\") REFERENCES employees (\"EmployeeId\")\\n)\\n\\n/*\\n3 rows from employees table:\\nEmployeeId\\tLastName\\tFirstName\\tTitle\\tReportsTo\\tBirthDate\\tHireDate\\tAddress\\tCity\\tState\\tCountry\\tPostalCode\\tPhone\\tFax\\tEmail\\n1\\tAdams\\tAndrew\\tGeneral Manager\\tNone\\t1962-02-18 00:00:00\\t2002-08-14 00:00:00\\t11120 Jasper Ave NW\\tEdmonton\\tAB\\tCanada\\tT5K 2N1\\t+1 (780) 428-9482\\t+1 (780) 428-3457\\tandrew@chinookcorp.com\\n2\\tEdwards\\tNancy\\tSales Manager\\t1\\t1958-12-08 00:00:00\\t2002-05-01 00:00:00\\t825 8 Ave SW\\tCalgary\\tAB\\tCanada\\tT2P 2T3\\t+1 (403) 262-3443\\t+1 (403) 262-3322\\tnancy@chinookcorp.com\\n3\\tPeacock\\tJane\\tSales Support Agent\\t2\\t1973-08-29 00:00:00\\t2002-04-01 00:00:00\\t1111 6 Ave SW\\tCalgary\\tAB\\tCanada\\tT2P 5M5\\t+1 (403) 262-3443\\t+1 (403) 262-6712\\tjane@chinookcorp.com\\n*/\\n\\n\\nCREATE TABLE genres (\\n\\t\"GenreId\" INTEGER NOT NULL, \\n\\t\"Name\" NVARCHAR(120), \\n\\tPRIMARY KEY (\"GenreId\")\\n)\\n\\n/*\\n3 rows from genres table:\\nGenreId\\tName\\n1\\tRock\\n2\\tJazz\\n3\\tMetal\\n*/\\n\\n\\nCREATE TABLE invoice_items (\\n\\t\"InvoiceLineId\" INTEGER NOT NULL, \\n\\t\"InvoiceId\" INTEGER NOT NULL, \\n\\t\"TrackId\" INTEGER NOT NULL, \\n\\t\"UnitPrice\" NUMERIC(10, 2) NOT NULL, \\n\\t\"Quantity\" INTEGER NOT NULL, \\n\\tPRIMARY KEY (\"InvoiceLineId\"), \\n\\tFOREIGN KEY(\"TrackId\") REFERENCES tracks (\"TrackId\"), \\n\\tFOREIGN KEY(\"InvoiceId\") REFERENCES invoices (\"InvoiceId\")\\n)\\n\\n/*\\n3 rows from invoice_items table:\\nInvoiceLineId\\tInvoiceId\\tTrackId\\tUnitPrice\\tQuantity\\n1\\t1\\t2\\t0.99\\t1\\n2\\t1\\t4\\t0.99\\t1\\n3\\t2\\t6\\t0.99\\t1\\n*/\\n\\n\\nCREATE TABLE invoices (\\n\\t\"InvoiceId\" INTEGER NOT NULL, \\n\\t\"CustomerId\" INTEGER NOT NULL, \\n\\t\"InvoiceDate\" DATETIME NOT NULL, \\n\\t\"BillingAddress\" NVARCHAR(70), \\n\\t\"BillingCity\" NVARCHAR(40), \\n\\t\"BillingState\" NVARCHAR(40), \\n\\t\"BillingCountry\" NVARCHAR(40), \\n\\t\"BillingPostalCode\" NVARCHAR(10), \\n\\t\"Total\" NUMERIC(10, 2) NOT NULL, \\n\\tPRIMARY KEY (\"InvoiceId\"), \\n\\tFOREIGN KEY(\"CustomerId\") REFERENCES customers (\"CustomerId\")\\n)\\n\\n/*\\n3 rows from invoices table:\\nInvoiceId\\tCustomerId\\tInvoiceDate\\tBillingAddress\\tBillingCity\\tBillingState\\tBillingCountry\\tBillingPostalCode\\tTotal\\n1\\t2\\t2009-01-01 00:00:00\\tTheodor-Heuss-Straße 34\\tStuttgart\\tNone\\tGermany\\t70174\\t1.98\\n2\\t4\\t2009-01-02 00:00:00\\tUllevålsveien 14\\tOslo\\tNone\\tNorway\\t0171\\t3.96\\n3\\t8\\t2009-01-03 00:00:00\\tGrétrystraat 63\\tBrussels\\tNone\\tBelgium\\t1000\\t5.94\\n*/\\n\\n\\nCREATE TABLE media_types (\\n\\t\"MediaTypeId\" INTEGER NOT NULL, \\n\\t\"Name\" NVARCHAR(120), \\n\\tPRIMARY KEY (\"MediaTypeId\")\\n)\\n\\n/*\\n3 rows from media_types table:\\nMediaTypeId\\tName\\n1\\tMPEG audio file\\n2\\tProtected AAC audio file\\n3\\tProtected MPEG-4 video file\\n*/\\n\\n\\nCREATE TABLE playlist_track (\\n\\t\"PlaylistId\" INTEGER NOT NULL, \\n\\t\"TrackId\" INTEGER NOT NULL, \\n\\tPRIMARY KEY (\"PlaylistId\", \"TrackId\"), \\n\\tFOREIGN KEY(\"TrackId\") REFERENCES tracks (\"TrackId\"), \\n\\tFOREIGN KEY(\"PlaylistId\") REFERENCES playlists (\"PlaylistId\")\\n)\\n\\n/*\\n3 rows from playlist_track table:\\nPlaylistId\\tTrackId\\n1\\t3402\\n1\\t3389\\n1\\t3390\\n*/\\n\\n\\nCREATE TABLE playlists (\\n\\t\"PlaylistId\" INTEGER NOT NULL, \\n\\t\"Name\" NVARCHAR(120), \\n\\tPRIMARY KEY (\"PlaylistId\")\\n)\\n\\n/*\\n3 rows from playlists table:\\nPlaylistId\\tName\\n1\\tMusic\\n2\\tMovies\\n3\\tTV Shows\\n*/\\n\\n\\nCREATE TABLE tracks (\\n\\t\"TrackId\" INTEGER NOT NULL, \\n\\t\"Name\" NVARCHAR(200) NOT NULL, \\n\\t\"AlbumId\" INTEGER, \\n\\t\"MediaTypeId\" INTEGER NOT NULL, \\n\\t\"GenreId\" INTEGER, \\n\\t\"Composer\" NVARCHAR(220), \\n\\t\"Milliseconds\" INTEGER NOT NULL, \\n\\t\"Bytes\" INTEGER, \\n\\t\"UnitPrice\" NUMERIC(10, 2) NOT NULL, \\n\\tPRIMARY KEY (\"TrackId\"), \\n\\tFOREIGN KEY(\"MediaTypeId\") REFERENCES media_types (\"MediaTypeId\"), \\n\\tFOREIGN KEY(\"GenreId\") REFERENCES genres (\"GenreId\"), \\n\\tFOREIGN KEY(\"AlbumId\") REFERENCES albums (\"AlbumId\")\\n)\\n\\n/*\\n3 rows from tracks table:\\nTrackId\\tName\\tAlbumId\\tMediaTypeId\\tGenreId\\tComposer\\tMilliseconds\\tBytes\\tUnitPrice\\n1\\tFor Those About To Rock (We Salute You)\\t1\\t1\\t1\\tAngus Young, Malcolm Young, Brian Johnson\\t343719\\t11170334\\t0.99\\n2\\tBalls to the Wall\\t2\\t2\\t1\\tNone\\t342562\\t5510424\\t0.99\\n3\\tFast As a Shark\\t3\\t2\\t1\\tF. Baltes, S. Kaufman, U. Dirkscneider & W. Hoffman\\t230619\\t3990994\\t0.99\\n*/', 'table_names': 'albums, artists, customers, employees, genres, invoice_items, invoices, media_types, playlist_track, playlists, tracks'}\n"
          ]
        }
      ],
      "source": [
        "\n",
        "DB_NAME='Chinook.db'\n",
        "MODEL=\"command-r-plus\"\n",
        "\n",
        "llm = ChatCohere(model=MODEL, temperature=0.1,verbose=True)\n",
        "db = SQLDatabase.from_uri(\"sqlite:///chinook.db\")\n",
        "\n",
        "\n",
        "toolkit = SQLDatabaseToolkit(db=db, llm=llm)\n",
        "context = toolkit.get_context()\n",
        "tools = toolkit.get_tools()\n",
        "\n",
        "print('**List of pre-defined Langchain Tools**')\n",
        "print([tool.name for tool in tools])\n",
        "print('')\n",
        "print('**Context to pass to LLM on tables**')\n",
        "print(context)"
      ]
    },
    {
      "cell_type": "markdown",
      "id": "7554c397-76ae-46c8-9c76-b906f926febf",
      "metadata": {
        "id": "7554c397-76ae-46c8-9c76-b906f926febf"
      },
      "source": [
        "<a id=\"sec_step1\"></a>\n",
        "# SQL Agent\n",
        "\n",
        "we follow the general cohere react agent setup in Langchain to build our SQL agent."
      ]
    },
    {
      "cell_type": "code",
      "execution_count": 68,
      "id": "9be6f9eb-b1ba-4a4f-a5f3-5b775f0db69f",
      "metadata": {
        "id": "9be6f9eb-b1ba-4a4f-a5f3-5b775f0db69f"
      },
      "outputs": [],
      "source": [
        "\n",
        "# define the prompt template\n",
        "prompt = ChatPromptTemplate.from_template(\"{input}\")\n",
        "\n",
        "# instantiate the ReAct agent\n",
        "agent = create_cohere_react_agent(\n",
        "   llm=llm,\n",
        "   tools=tools,\n",
        "   prompt=prompt,\n",
        ")\n",
        "agent_executor = AgentExecutor(agent=agent,\n",
        "                               tools=tools,\n",
        "                               verbose=True,\n",
        "                               return_intermediate_steps=True\n",
        "                    )\n",
        "\n"
      ]
    },
    {
      "cell_type": "code",
      "execution_count": 69,
      "id": "5ebb2d00-315d-462c-919b-749027133d89",
      "metadata": {
        "id": "5ebb2d00-315d-462c-919b-749027133d89",
        "outputId": "888e017a-ebf3-4dbb-eb8e-5c79142f217a",
        "colab": {
          "base_uri": "https://localhost:8080/"
        }
      },
      "outputs": [
        {
          "output_type": "stream",
          "name": "stdout",
          "text": [
            "\n",
            "\n",
            "\u001b[1m> Entering new AgentExecutor chain...\u001b[0m\n",
            "\u001b[32;1m\u001b[1;3m\n",
            "I will use the sql_db_list_tables tool to find out what tables are available.\n",
            "{'tool_name': 'sql_db_list_tables', 'parameters': {'tool_input': ''}}\n",
            "\u001b[0m\u001b[38;5;200m\u001b[1;3malbums, artists, customers, employees, genres, invoice_items, invoices, media_types, playlist_track, playlists, tracks\u001b[0m\u001b[32;1m\u001b[1;3mRelevant Documents: 0\n",
            "Cited Documents: 0\n",
            "Answer: The following tables are available: albums, artists, customers, employees, genres, invoice_items, invoices, media_types, playlist_track, playlists, tracks.\n",
            "Grounded answer: The following tables are available: <co: 0>albums, artists, customers, employees, genres, invoice_items, invoices, media_types, playlist_track, playlists, tracks</co: 0>.\u001b[0m\n",
            "\n",
            "\u001b[1m> Finished chain.\u001b[0m\n"
          ]
        },
        {
          "output_type": "execute_result",
          "data": {
            "text/plain": [
              "{'input': 'what tables are available?',\n",
              " 'output': 'The following tables are available: albums, artists, customers, employees, genres, invoice_items, invoices, media_types, playlist_track, playlists, tracks.',\n",
              " 'citations': [CohereCitation(start=36, end=154, text='albums, artists, customers, employees, genres, invoice_items, invoices, media_types, playlist_track, playlists, tracks', documents=[{'output': 'albums, artists, customers, employees, genres, invoice_items, invoices, media_types, playlist_track, playlists, tracks', 'id': 'doc_0'}], document_ids={'doc_0'})],\n",
              " 'intermediate_steps': [(AgentActionMessageLog(tool='sql_db_list_tables', tool_input={'tool_input': ''}, log=\"\\nI will use the sql_db_list_tables tool to find out what tables are available.\\n{'tool_name': 'sql_db_list_tables', 'parameters': {'tool_input': ''}}\\n\", message_log=[AIMessage(content='\\nPlan: I will use the sql_db_list_tables tool to find out what tables are available.\\nAction: ```json\\n[\\n    {\\n        \"tool_name\": \"sql_db_list_tables\",\\n        \"parameters\": {\\n            \"tool_input\": \"\"\\n        }\\n    }\\n]\\n```')]),\n",
              "   'albums, artists, customers, employees, genres, invoice_items, invoices, media_types, playlist_track, playlists, tracks')]}"
            ]
          },
          "metadata": {},
          "execution_count": 69
        }
      ],
      "source": [
        "agent_executor.invoke({\n",
        "   \"input\": 'what tables are available?',\n",
        "})"
      ]
    },
    {
      "cell_type": "markdown",
      "id": "8a1fc000",
      "metadata": {
        "collapsed": false,
        "id": "8a1fc000"
      },
      "source": [
        "The agent uses the list_tables tool to effectively highlight all the tables in the DB"
      ]
    },
    {
      "cell_type": "code",
      "execution_count": 75,
      "id": "77a3f5ac",
      "metadata": {
        "id": "77a3f5ac",
        "outputId": "a28e265f-2f16-4d8c-b1ee-df69828629cb",
        "colab": {
          "base_uri": "https://localhost:8080/"
        }
      },
      "outputs": [
        {
          "output_type": "stream",
          "name": "stdout",
          "text": [
            "\n",
            "\n",
            "\u001b[1m> Entering new AgentExecutor chain...\u001b[0m\n",
            "\u001b[32;1m\u001b[1;3m\n",
            "I will use the SQL query tool to select the first 10 rows of the tracks table.\n",
            "{'tool_name': 'sql_db_query', 'parameters': {'query': 'SELECT * FROM tracks LIMIT 10'}}\n",
            "\u001b[0m\u001b[36;1m\u001b[1;3m[(1, 'For Those About To Rock (We Salute You)', 1, 1, 1, 'Angus Young, Malcolm Young, Brian Johnson', 343719, 11170334, 0.99), (2, 'Balls to the Wall', 2, 2, 1, None, 342562, 5510424, 0.99), (3, 'Fast As a Shark', 3, 2, 1, 'F. Baltes, S. Kaufman, U. Dirkscneider & W. Hoffman', 230619, 3990994, 0.99), (4, 'Restless and Wild', 3, 2, 1, 'F. Baltes, R.A. Smith-Diesel, S. Kaufman, U. Dirkscneider & W. Hoffman', 252051, 4331779, 0.99), (5, 'Princess of the Dawn', 3, 2, 1, 'Deaffy & R.A. Smith-Diesel', 375418, 6290521, 0.99), (6, 'Put The Finger On You', 1, 1, 1, 'Angus Young, Malcolm Young, Brian Johnson', 205662, 6713451, 0.99), (7, \"Let's Get It Up\", 1, 1, 1, 'Angus Young, Malcolm Young, Brian Johnson', 233926, 7636561, 0.99), (8, 'Inject The Venom', 1, 1, 1, 'Angus Young, Malcolm Young, Brian Johnson', 210834, 6852860, 0.99), (9, 'Snowballed', 1, 1, 1, 'Angus Young, Malcolm Young, Brian Johnson', 203102, 6599424, 0.99), (10, 'Evil Walks', 1, 1, 1, 'Angus Young, Malcolm Young, Brian Johnson', 263497, 8611245, 0.99)]\u001b[0m\u001b[32;1m\u001b[1;3mRelevant Documents: 0\n",
            "Cited Documents: 0\n",
            "Answer: Here are the first 10 rows of the tracks table:\n",
            "\n",
            "| TrackId | Name | AlbumId | MediaTypeId | GenreId | Composer | Milliseconds | Bytes | UnitPrice |\n",
            "| --- | --- | --- | --- | --- | --- | --- | --- | --- |\n",
            "| 1 | For Those About To Rock (We Salute You) | 1 | 1 | 1 | Angus Young, Malcolm Young, Brian Johnson | 343719 | 11170334 | 0.99 |\n",
            "| 2 | Balls to the Wall | 2 | 2 | 1 | None | 342562 | 5510424 | 0.99 |\n",
            "| 3 | Fast As a Shark | 3 | 2 | 1 | F. Baltes, S. Kaufman, U. Dirkscneider & W. Hoffman | 230619 | 3990994 | 0.99 |\n",
            "| 4 | Restless and Wild | 3 | 2 | 1 | F. Baltes, R.A. Smith-Diesel, S. Kaufman, U. Dirkscneider & W. Hoffman | 252051 | 4331779 | 0.99 |\n",
            "| 5 | Princess of the Dawn | 3 | 2 | 1 | Deaffy & R.A. Smith-Diesel | 375418 | 6290521 | 0.99 |\n",
            "| 6 | Put The Finger On You | 1 | 1 | 1 | Angus Young, Malcolm Young, Brian Johnson | 205662 | 6713451 | 0.99 |\n",
            "| 7 | Let's Get It Up | 1 | 1 | 1 | Angus Young, Malcolm Young, Brian Johnson | 233926 | 7636561 | 0.99 |\n",
            "| 8 | Inject The Venom | 1 | 1 | 1 | Angus Young, Malcolm Young, Brian Johnson | 210834 | 6852860 | 0.99 |\n",
            "| 9 | Snowballed | 1 | 1 | 1 | Angus Young, Malcolm Young, Brian Johnson | 203102 | 6599424 | 0.99 |\n",
            "| 10 | Evil Walks | 1 | 1 | 1 | Angus Young, Malcolm Young, Brian Johnson | 263497 | 8611245 | 0.99 |\n",
            "Grounded answer: Here are the first 10 rows of the tracks table:\n",
            "\n",
            "| <co: 0>TrackId</co: 0> | <co: 0>Name</co: 0> | <co: 0>AlbumId</co: 0> | <co: 0>MediaTypeId</co: 0> | <co: 0>GenreId</co: 0> | <co: 0>Composer</co: 0> | <co: 0>Milliseconds</co: 0> | <co: 0>Bytes</co: 0> | <co: 0>UnitPrice</co: 0> |\n",
            "| --- | --- | --- | --- | --- | --- | --- | --- | --- |\n",
            "| <co: 0>1</co: 0> | <co: 0>For Those About To Rock (We Salute You</co: 0>) | <co: 0>1</co: 0> | <co: 0>1</co: 0> | <co: 0>1</co: 0> | <co: 0>Angus Young, Malcolm Young, Brian Johnson</co: 0> | <co: 0>343719</co: 0> | <co: 0>11170334</co: 0> | <co: 0>0.99</co: 0> |\n",
            "| <co: 0>2</co: 0> | <co: 0>Balls to the Wall</co: 0> | <co: 0>2</co: 0> | <co: 0>2</co: 0> | <co: 0>1</co: 0> | <co: 0>None</co: 0> | <co: 0>342562</co: 0> | <co: 0>5510424</co: 0> | <co: 0>0.99</co: 0> |\n",
            "| <co: 0>3</co: 0> | <co: 0>Fast As a Shark</co: 0> | <co: 0>3</co: 0> | <co: 0>2</co: 0> | <co: 0>1</co: 0> | <co: 0>F. Baltes, S. Kaufman, U. Dirkscneider & W. Hoffman</co: 0> | <co: 0>230619</co: 0> | <co: 0>3990994</co: 0> | <co: 0>0.99</co: 0> |\n",
            "| <co: 0>4</co: 0> | <co: 0>Restless and Wild</co: 0> | <co: 0>3</co: 0> | <co: 0>2</co: 0> | <co: 0>1</co: 0> | <co: 0>F. Baltes, R.A. Smith-Diesel, S. Kaufman, U. Dirkscneider & W. Hoffman</co: 0> | <co: 0>252051</co: 0> | <co: 0>4331779</co: 0> | <co: 0>0.99</co: 0> |\n",
            "| <co: 0>5</co: 0> | <co: 0>Princess of the Dawn</co: 0> | <co: 0>3</co: 0> | <co: 0>2</co: 0> | <co: 0>1</co: 0> | <co: 0>Deaffy & R.A. Smith-Diesel</co: 0> | <co: 0>375418</co: 0> | <co: 0>6290521</co: 0> | <co: 0>0.99</co: 0> |\n",
            "| <co: 0>6</co: 0> | <co: 0>Put The Finger On You</co: 0> | <co: 0>1</co: 0> | <co: 0>1</co: 0> | <co: 0>1</co: 0> | <co: 0>Angus Young, Malcolm Young, Brian Johnson</co: 0> | <co: 0>205662</co: 0> | <co: 0>6713451</co: 0> | <co: 0>0.99</co: 0> |\n",
            "| <co: 0>7</co: 0> | <co: 0>Let's Get It Up</co: 0> | <co: 0>1</co: 0> | <co: 0>1</co: 0> | <co: 0>1</co: 0> | <co: 0>Angus Young, Malcolm Young, Brian Johnson</co: 0> | <co: 0>233926</co: 0> | <co: 0>7636561</co: 0> | <co: 0>0.99</co: 0> |\n",
            "| <co: 0>8</co: 0> | <co: 0>Inject The Venom</co: 0> | <co: 0>1</co: 0> | <co: 0>1</co: 0> | <co: 0>1</co: 0> | <co: 0>Angus Young, Malcolm Young, Brian Johnson</co: 0> | <co: 0>210834</co: 0> | <co: 0>6852860</co: 0> | <co: 0>0.99</co: 0> |\n",
            "| <co: 0>9</co: 0> | <co: 0>Snowballed</co: 0> | <co: 0>1</co: 0> | <co: 0>1</co: 0> | <co: 0>1</co: 0> | <co: 0>Angus Young, Malcolm Young, Brian Johnson</co: 0> | <co: 0>203102</co: 0> | <co: 0>6599424</co: 0> | <co: 0>0.99</co: 0> |\n",
            "| <co: 0>10</co: 0> | <co: 0>Evil Walks</co: 0> | <co: 0>1</co: 0> | <co: 0>1</co: 0> | <co: 0>1</co: 0> | <co: 0>Angus Young, Malcolm Young, Brian Johnson</co: 0> | <co: 0>263497</co: 0> | <co: 0>8611245</co: 0> | <co: 0>0.99</co: 0> |\u001b[0m\n",
            "\n",
            "\u001b[1m> Finished chain.\u001b[0m\n"
          ]
        },
        {
          "output_type": "execute_result",
          "data": {
            "text/plain": [
              "{'input': 'show the first 10 rows of tracks tables?',\n",
              " 'output': \"Here are the first 10 rows of the tracks table:\\n\\n| TrackId | Name | AlbumId | MediaTypeId | GenreId | Composer | Milliseconds | Bytes | UnitPrice |\\n| --- | --- | --- | --- | --- | --- | --- | --- | --- |\\n| 1 | For Those About To Rock (We Salute You) | 1 | 1 | 1 | Angus Young, Malcolm Young, Brian Johnson | 343719 | 11170334 | 0.99 |\\n| 2 | Balls to the Wall | 2 | 2 | 1 | None | 342562 | 5510424 | 0.99 |\\n| 3 | Fast As a Shark | 3 | 2 | 1 | F. Baltes, S. Kaufman, U. Dirkscneider & W. Hoffman | 230619 | 3990994 | 0.99 |\\n| 4 | Restless and Wild | 3 | 2 | 1 | F. Baltes, R.A. Smith-Diesel, S. Kaufman, U. Dirkscneider & W. Hoffman | 252051 | 4331779 | 0.99 |\\n| 5 | Princess of the Dawn | 3 | 2 | 1 | Deaffy & R.A. Smith-Diesel | 375418 | 6290521 | 0.99 |\\n| 6 | Put The Finger On You | 1 | 1 | 1 | Angus Young, Malcolm Young, Brian Johnson | 205662 | 6713451 | 0.99 |\\n| 7 | Let's Get It Up | 1 | 1 | 1 | Angus Young, Malcolm Young, Brian Johnson | 233926 | 7636561 | 0.99 |\\n| 8 | Inject The Venom | 1 | 1 | 1 | Angus Young, Malcolm Young, Brian Johnson | 210834 | 6852860 | 0.99 |\\n| 9 | Snowballed | 1 | 1 | 1 | Angus Young, Malcolm Young, Brian Johnson | 203102 | 6599424 | 0.99 |\\n| 10 | Evil Walks | 1 | 1 | 1 | Angus Young, Malcolm Young, Brian Johnson | 263497 | 8611245 | 0.99 |\",\n",
              " 'citations': [CohereCitation(start=51, end=58, text='TrackId', documents=[{'output': '[(1, \\'For Those About To Rock (We Salute You)\\', 1, 1, 1, \\'Angus Young, Malcolm Young, Brian Johnson\\', 343719, 11170334, 0.99), (2, \\'Balls to the Wall\\', 2, 2, 1, None, 342562, 5510424, 0.99), (3, \\'Fast As a Shark\\', 3, 2, 1, \\'F. Baltes, S. Kaufman, U. Dirkscneider & W. Hoffman\\', 230619, 3990994, 0.99), (4, \\'Restless and Wild\\', 3, 2, 1, \\'F. Baltes, R.A. Smith-Diesel, S. Kaufman, U. Dirkscneider & W. Hoffman\\', 252051, 4331779, 0.99), (5, \\'Princess of the Dawn\\', 3, 2, 1, \\'Deaffy & R.A. Smith-Diesel\\', 375418, 6290521, 0.99), (6, \\'Put The Finger On You\\', 1, 1, 1, \\'Angus Young, Malcolm Young, Brian Johnson\\', 205662, 6713451, 0.99), (7, \"Let\\'s Get It Up\", 1, 1, 1, \\'Angus Young, Malcolm Young, Brian Johnson\\', 233926, 7636561, 0.99), (8, \\'Inject The Venom\\', 1, 1, 1, \\'Angus Young, Malcolm Young, Brian Johnson\\', 210834, 6852860, 0.99), (9, \\'Snowballed\\', 1, 1, 1, \\'Angus Young, Malcolm Young, Brian Johnson\\', 203102, 6599424, 0.99), (10, \\'Evil Walks\\', 1, 1, 1, \\'Angus Young, Malcolm Young, Brian Johnson\\', 263497, 8611245, 0.99)]', 'id': 'doc_0'}], document_ids={'doc_0'}),\n",
              "  CohereCitation(start=61, end=65, text='Name', documents=[{'output': '[(1, \\'For Those About To Rock (We Salute You)\\', 1, 1, 1, \\'Angus Young, Malcolm Young, Brian Johnson\\', 343719, 11170334, 0.99), (2, \\'Balls to the Wall\\', 2, 2, 1, None, 342562, 5510424, 0.99), (3, \\'Fast As a Shark\\', 3, 2, 1, \\'F. Baltes, S. Kaufman, U. Dirkscneider & W. Hoffman\\', 230619, 3990994, 0.99), (4, \\'Restless and Wild\\', 3, 2, 1, \\'F. Baltes, R.A. Smith-Diesel, S. Kaufman, U. Dirkscneider & W. Hoffman\\', 252051, 4331779, 0.99), (5, \\'Princess of the Dawn\\', 3, 2, 1, \\'Deaffy & R.A. Smith-Diesel\\', 375418, 6290521, 0.99), (6, \\'Put The Finger On You\\', 1, 1, 1, \\'Angus Young, Malcolm Young, Brian Johnson\\', 205662, 6713451, 0.99), (7, \"Let\\'s Get It Up\", 1, 1, 1, \\'Angus Young, Malcolm Young, Brian Johnson\\', 233926, 7636561, 0.99), (8, \\'Inject The Venom\\', 1, 1, 1, \\'Angus Young, Malcolm Young, Brian Johnson\\', 210834, 6852860, 0.99), (9, \\'Snowballed\\', 1, 1, 1, \\'Angus Young, Malcolm Young, Brian Johnson\\', 203102, 6599424, 0.99), (10, \\'Evil Walks\\', 1, 1, 1, \\'Angus Young, Malcolm Young, Brian Johnson\\', 263497, 8611245, 0.99)]', 'id': 'doc_0'}], document_ids={'doc_0'}),\n",
              "  CohereCitation(start=68, end=75, text='AlbumId', documents=[{'output': '[(1, \\'For Those About To Rock (We Salute You)\\', 1, 1, 1, \\'Angus Young, Malcolm Young, Brian Johnson\\', 343719, 11170334, 0.99), (2, \\'Balls to the Wall\\', 2, 2, 1, None, 342562, 5510424, 0.99), (3, \\'Fast As a Shark\\', 3, 2, 1, \\'F. Baltes, S. Kaufman, U. Dirkscneider & W. Hoffman\\', 230619, 3990994, 0.99), (4, \\'Restless and Wild\\', 3, 2, 1, \\'F. Baltes, R.A. Smith-Diesel, S. Kaufman, U. Dirkscneider & W. Hoffman\\', 252051, 4331779, 0.99), (5, \\'Princess of the Dawn\\', 3, 2, 1, \\'Deaffy & R.A. Smith-Diesel\\', 375418, 6290521, 0.99), (6, \\'Put The Finger On You\\', 1, 1, 1, \\'Angus Young, Malcolm Young, Brian Johnson\\', 205662, 6713451, 0.99), (7, \"Let\\'s Get It Up\", 1, 1, 1, \\'Angus Young, Malcolm Young, Brian Johnson\\', 233926, 7636561, 0.99), (8, \\'Inject The Venom\\', 1, 1, 1, \\'Angus Young, Malcolm Young, Brian Johnson\\', 210834, 6852860, 0.99), (9, \\'Snowballed\\', 1, 1, 1, \\'Angus Young, Malcolm Young, Brian Johnson\\', 203102, 6599424, 0.99), (10, \\'Evil Walks\\', 1, 1, 1, \\'Angus Young, Malcolm Young, Brian Johnson\\', 263497, 8611245, 0.99)]', 'id': 'doc_0'}], document_ids={'doc_0'}),\n",
              "  CohereCitation(start=78, end=89, text='MediaTypeId', documents=[{'output': '[(1, \\'For Those About To Rock (We Salute You)\\', 1, 1, 1, \\'Angus Young, Malcolm Young, Brian Johnson\\', 343719, 11170334, 0.99), (2, \\'Balls to the Wall\\', 2, 2, 1, None, 342562, 5510424, 0.99), (3, \\'Fast As a Shark\\', 3, 2, 1, \\'F. Baltes, S. Kaufman, U. Dirkscneider & W. Hoffman\\', 230619, 3990994, 0.99), (4, \\'Restless and Wild\\', 3, 2, 1, \\'F. Baltes, R.A. Smith-Diesel, S. Kaufman, U. Dirkscneider & W. Hoffman\\', 252051, 4331779, 0.99), (5, \\'Princess of the Dawn\\', 3, 2, 1, \\'Deaffy & R.A. Smith-Diesel\\', 375418, 6290521, 0.99), (6, \\'Put The Finger On You\\', 1, 1, 1, \\'Angus Young, Malcolm Young, Brian Johnson\\', 205662, 6713451, 0.99), (7, \"Let\\'s Get It Up\", 1, 1, 1, \\'Angus Young, Malcolm Young, Brian Johnson\\', 233926, 7636561, 0.99), (8, \\'Inject The Venom\\', 1, 1, 1, \\'Angus Young, Malcolm Young, Brian Johnson\\', 210834, 6852860, 0.99), (9, \\'Snowballed\\', 1, 1, 1, \\'Angus Young, Malcolm Young, Brian Johnson\\', 203102, 6599424, 0.99), (10, \\'Evil Walks\\', 1, 1, 1, \\'Angus Young, Malcolm Young, Brian Johnson\\', 263497, 8611245, 0.99)]', 'id': 'doc_0'}], document_ids={'doc_0'}),\n",
              "  CohereCitation(start=92, end=99, text='GenreId', documents=[{'output': '[(1, \\'For Those About To Rock (We Salute You)\\', 1, 1, 1, \\'Angus Young, Malcolm Young, Brian Johnson\\', 343719, 11170334, 0.99), (2, \\'Balls to the Wall\\', 2, 2, 1, None, 342562, 5510424, 0.99), (3, \\'Fast As a Shark\\', 3, 2, 1, \\'F. Baltes, S. Kaufman, U. Dirkscneider & W. Hoffman\\', 230619, 3990994, 0.99), (4, \\'Restless and Wild\\', 3, 2, 1, \\'F. Baltes, R.A. Smith-Diesel, S. Kaufman, U. Dirkscneider & W. Hoffman\\', 252051, 4331779, 0.99), (5, \\'Princess of the Dawn\\', 3, 2, 1, \\'Deaffy & R.A. Smith-Diesel\\', 375418, 6290521, 0.99), (6, \\'Put The Finger On You\\', 1, 1, 1, \\'Angus Young, Malcolm Young, Brian Johnson\\', 205662, 6713451, 0.99), (7, \"Let\\'s Get It Up\", 1, 1, 1, \\'Angus Young, Malcolm Young, Brian Johnson\\', 233926, 7636561, 0.99), (8, \\'Inject The Venom\\', 1, 1, 1, \\'Angus Young, Malcolm Young, Brian Johnson\\', 210834, 6852860, 0.99), (9, \\'Snowballed\\', 1, 1, 1, \\'Angus Young, Malcolm Young, Brian Johnson\\', 203102, 6599424, 0.99), (10, \\'Evil Walks\\', 1, 1, 1, \\'Angus Young, Malcolm Young, Brian Johnson\\', 263497, 8611245, 0.99)]', 'id': 'doc_0'}], document_ids={'doc_0'}),\n",
              "  CohereCitation(start=102, end=110, text='Composer', documents=[{'output': '[(1, \\'For Those About To Rock (We Salute You)\\', 1, 1, 1, \\'Angus Young, Malcolm Young, Brian Johnson\\', 343719, 11170334, 0.99), (2, \\'Balls to the Wall\\', 2, 2, 1, None, 342562, 5510424, 0.99), (3, \\'Fast As a Shark\\', 3, 2, 1, \\'F. Baltes, S. Kaufman, U. Dirkscneider & W. Hoffman\\', 230619, 3990994, 0.99), (4, \\'Restless and Wild\\', 3, 2, 1, \\'F. Baltes, R.A. Smith-Diesel, S. Kaufman, U. Dirkscneider & W. Hoffman\\', 252051, 4331779, 0.99), (5, \\'Princess of the Dawn\\', 3, 2, 1, \\'Deaffy & R.A. Smith-Diesel\\', 375418, 6290521, 0.99), (6, \\'Put The Finger On You\\', 1, 1, 1, \\'Angus Young, Malcolm Young, Brian Johnson\\', 205662, 6713451, 0.99), (7, \"Let\\'s Get It Up\", 1, 1, 1, \\'Angus Young, Malcolm Young, Brian Johnson\\', 233926, 7636561, 0.99), (8, \\'Inject The Venom\\', 1, 1, 1, \\'Angus Young, Malcolm Young, Brian Johnson\\', 210834, 6852860, 0.99), (9, \\'Snowballed\\', 1, 1, 1, \\'Angus Young, Malcolm Young, Brian Johnson\\', 203102, 6599424, 0.99), (10, \\'Evil Walks\\', 1, 1, 1, \\'Angus Young, Malcolm Young, Brian Johnson\\', 263497, 8611245, 0.99)]', 'id': 'doc_0'}], document_ids={'doc_0'}),\n",
              "  CohereCitation(start=113, end=125, text='Milliseconds', documents=[{'output': '[(1, \\'For Those About To Rock (We Salute You)\\', 1, 1, 1, \\'Angus Young, Malcolm Young, Brian Johnson\\', 343719, 11170334, 0.99), (2, \\'Balls to the Wall\\', 2, 2, 1, None, 342562, 5510424, 0.99), (3, \\'Fast As a Shark\\', 3, 2, 1, \\'F. Baltes, S. Kaufman, U. Dirkscneider & W. Hoffman\\', 230619, 3990994, 0.99), (4, \\'Restless and Wild\\', 3, 2, 1, \\'F. Baltes, R.A. Smith-Diesel, S. Kaufman, U. Dirkscneider & W. Hoffman\\', 252051, 4331779, 0.99), (5, \\'Princess of the Dawn\\', 3, 2, 1, \\'Deaffy & R.A. Smith-Diesel\\', 375418, 6290521, 0.99), (6, \\'Put The Finger On You\\', 1, 1, 1, \\'Angus Young, Malcolm Young, Brian Johnson\\', 205662, 6713451, 0.99), (7, \"Let\\'s Get It Up\", 1, 1, 1, \\'Angus Young, Malcolm Young, Brian Johnson\\', 233926, 7636561, 0.99), (8, \\'Inject The Venom\\', 1, 1, 1, \\'Angus Young, Malcolm Young, Brian Johnson\\', 210834, 6852860, 0.99), (9, \\'Snowballed\\', 1, 1, 1, \\'Angus Young, Malcolm Young, Brian Johnson\\', 203102, 6599424, 0.99), (10, \\'Evil Walks\\', 1, 1, 1, \\'Angus Young, Malcolm Young, Brian Johnson\\', 263497, 8611245, 0.99)]', 'id': 'doc_0'}], document_ids={'doc_0'}),\n",
              "  CohereCitation(start=128, end=133, text='Bytes', documents=[{'output': '[(1, \\'For Those About To Rock (We Salute You)\\', 1, 1, 1, \\'Angus Young, Malcolm Young, Brian Johnson\\', 343719, 11170334, 0.99), (2, \\'Balls to the Wall\\', 2, 2, 1, None, 342562, 5510424, 0.99), (3, \\'Fast As a Shark\\', 3, 2, 1, \\'F. Baltes, S. Kaufman, U. Dirkscneider & W. Hoffman\\', 230619, 3990994, 0.99), (4, \\'Restless and Wild\\', 3, 2, 1, \\'F. Baltes, R.A. Smith-Diesel, S. Kaufman, U. Dirkscneider & W. Hoffman\\', 252051, 4331779, 0.99), (5, \\'Princess of the Dawn\\', 3, 2, 1, \\'Deaffy & R.A. Smith-Diesel\\', 375418, 6290521, 0.99), (6, \\'Put The Finger On You\\', 1, 1, 1, \\'Angus Young, Malcolm Young, Brian Johnson\\', 205662, 6713451, 0.99), (7, \"Let\\'s Get It Up\", 1, 1, 1, \\'Angus Young, Malcolm Young, Brian Johnson\\', 233926, 7636561, 0.99), (8, \\'Inject The Venom\\', 1, 1, 1, \\'Angus Young, Malcolm Young, Brian Johnson\\', 210834, 6852860, 0.99), (9, \\'Snowballed\\', 1, 1, 1, \\'Angus Young, Malcolm Young, Brian Johnson\\', 203102, 6599424, 0.99), (10, \\'Evil Walks\\', 1, 1, 1, \\'Angus Young, Malcolm Young, Brian Johnson\\', 263497, 8611245, 0.99)]', 'id': 'doc_0'}], document_ids={'doc_0'}),\n",
              "  CohereCitation(start=136, end=145, text='UnitPrice', documents=[{'output': '[(1, \\'For Those About To Rock (We Salute You)\\', 1, 1, 1, \\'Angus Young, Malcolm Young, Brian Johnson\\', 343719, 11170334, 0.99), (2, \\'Balls to the Wall\\', 2, 2, 1, None, 342562, 5510424, 0.99), (3, \\'Fast As a Shark\\', 3, 2, 1, \\'F. Baltes, S. Kaufman, U. Dirkscneider & W. Hoffman\\', 230619, 3990994, 0.99), (4, \\'Restless and Wild\\', 3, 2, 1, \\'F. Baltes, R.A. Smith-Diesel, S. Kaufman, U. Dirkscneider & W. Hoffman\\', 252051, 4331779, 0.99), (5, \\'Princess of the Dawn\\', 3, 2, 1, \\'Deaffy & R.A. Smith-Diesel\\', 375418, 6290521, 0.99), (6, \\'Put The Finger On You\\', 1, 1, 1, \\'Angus Young, Malcolm Young, Brian Johnson\\', 205662, 6713451, 0.99), (7, \"Let\\'s Get It Up\", 1, 1, 1, \\'Angus Young, Malcolm Young, Brian Johnson\\', 233926, 7636561, 0.99), (8, \\'Inject The Venom\\', 1, 1, 1, \\'Angus Young, Malcolm Young, Brian Johnson\\', 210834, 6852860, 0.99), (9, \\'Snowballed\\', 1, 1, 1, \\'Angus Young, Malcolm Young, Brian Johnson\\', 203102, 6599424, 0.99), (10, \\'Evil Walks\\', 1, 1, 1, \\'Angus Young, Malcolm Young, Brian Johnson\\', 263497, 8611245, 0.99)]', 'id': 'doc_0'}], document_ids={'doc_0'}),\n",
              "  CohereCitation(start=206, end=207, text='1', documents=[{'output': '[(1, \\'For Those About To Rock (We Salute You)\\', 1, 1, 1, \\'Angus Young, Malcolm Young, Brian Johnson\\', 343719, 11170334, 0.99), (2, \\'Balls to the Wall\\', 2, 2, 1, None, 342562, 5510424, 0.99), (3, \\'Fast As a Shark\\', 3, 2, 1, \\'F. Baltes, S. Kaufman, U. Dirkscneider & W. Hoffman\\', 230619, 3990994, 0.99), (4, \\'Restless and Wild\\', 3, 2, 1, \\'F. Baltes, R.A. Smith-Diesel, S. Kaufman, U. Dirkscneider & W. Hoffman\\', 252051, 4331779, 0.99), (5, \\'Princess of the Dawn\\', 3, 2, 1, \\'Deaffy & R.A. Smith-Diesel\\', 375418, 6290521, 0.99), (6, \\'Put The Finger On You\\', 1, 1, 1, \\'Angus Young, Malcolm Young, Brian Johnson\\', 205662, 6713451, 0.99), (7, \"Let\\'s Get It Up\", 1, 1, 1, \\'Angus Young, Malcolm Young, Brian Johnson\\', 233926, 7636561, 0.99), (8, \\'Inject The Venom\\', 1, 1, 1, \\'Angus Young, Malcolm Young, Brian Johnson\\', 210834, 6852860, 0.99), (9, \\'Snowballed\\', 1, 1, 1, \\'Angus Young, Malcolm Young, Brian Johnson\\', 203102, 6599424, 0.99), (10, \\'Evil Walks\\', 1, 1, 1, \\'Angus Young, Malcolm Young, Brian Johnson\\', 263497, 8611245, 0.99)]', 'id': 'doc_0'}], document_ids={'doc_0'}),\n",
              "  CohereCitation(start=210, end=248, text='For Those About To Rock (We Salute You', documents=[{'output': '[(1, \\'For Those About To Rock (We Salute You)\\', 1, 1, 1, \\'Angus Young, Malcolm Young, Brian Johnson\\', 343719, 11170334, 0.99), (2, \\'Balls to the Wall\\', 2, 2, 1, None, 342562, 5510424, 0.99), (3, \\'Fast As a Shark\\', 3, 2, 1, \\'F. Baltes, S. Kaufman, U. Dirkscneider & W. Hoffman\\', 230619, 3990994, 0.99), (4, \\'Restless and Wild\\', 3, 2, 1, \\'F. Baltes, R.A. Smith-Diesel, S. Kaufman, U. Dirkscneider & W. Hoffman\\', 252051, 4331779, 0.99), (5, \\'Princess of the Dawn\\', 3, 2, 1, \\'Deaffy & R.A. Smith-Diesel\\', 375418, 6290521, 0.99), (6, \\'Put The Finger On You\\', 1, 1, 1, \\'Angus Young, Malcolm Young, Brian Johnson\\', 205662, 6713451, 0.99), (7, \"Let\\'s Get It Up\", 1, 1, 1, \\'Angus Young, Malcolm Young, Brian Johnson\\', 233926, 7636561, 0.99), (8, \\'Inject The Venom\\', 1, 1, 1, \\'Angus Young, Malcolm Young, Brian Johnson\\', 210834, 6852860, 0.99), (9, \\'Snowballed\\', 1, 1, 1, \\'Angus Young, Malcolm Young, Brian Johnson\\', 203102, 6599424, 0.99), (10, \\'Evil Walks\\', 1, 1, 1, \\'Angus Young, Malcolm Young, Brian Johnson\\', 263497, 8611245, 0.99)]', 'id': 'doc_0'}], document_ids={'doc_0'}),\n",
              "  CohereCitation(start=252, end=253, text='1', documents=[{'output': '[(1, \\'For Those About To Rock (We Salute You)\\', 1, 1, 1, \\'Angus Young, Malcolm Young, Brian Johnson\\', 343719, 11170334, 0.99), (2, \\'Balls to the Wall\\', 2, 2, 1, None, 342562, 5510424, 0.99), (3, \\'Fast As a Shark\\', 3, 2, 1, \\'F. Baltes, S. Kaufman, U. Dirkscneider & W. Hoffman\\', 230619, 3990994, 0.99), (4, \\'Restless and Wild\\', 3, 2, 1, \\'F. Baltes, R.A. Smith-Diesel, S. Kaufman, U. Dirkscneider & W. Hoffman\\', 252051, 4331779, 0.99), (5, \\'Princess of the Dawn\\', 3, 2, 1, \\'Deaffy & R.A. Smith-Diesel\\', 375418, 6290521, 0.99), (6, \\'Put The Finger On You\\', 1, 1, 1, \\'Angus Young, Malcolm Young, Brian Johnson\\', 205662, 6713451, 0.99), (7, \"Let\\'s Get It Up\", 1, 1, 1, \\'Angus Young, Malcolm Young, Brian Johnson\\', 233926, 7636561, 0.99), (8, \\'Inject The Venom\\', 1, 1, 1, \\'Angus Young, Malcolm Young, Brian Johnson\\', 210834, 6852860, 0.99), (9, \\'Snowballed\\', 1, 1, 1, \\'Angus Young, Malcolm Young, Brian Johnson\\', 203102, 6599424, 0.99), (10, \\'Evil Walks\\', 1, 1, 1, \\'Angus Young, Malcolm Young, Brian Johnson\\', 263497, 8611245, 0.99)]', 'id': 'doc_0'}], document_ids={'doc_0'}),\n",
              "  CohereCitation(start=256, end=257, text='1', documents=[{'output': '[(1, \\'For Those About To Rock (We Salute You)\\', 1, 1, 1, \\'Angus Young, Malcolm Young, Brian Johnson\\', 343719, 11170334, 0.99), (2, \\'Balls to the Wall\\', 2, 2, 1, None, 342562, 5510424, 0.99), (3, \\'Fast As a Shark\\', 3, 2, 1, \\'F. Baltes, S. Kaufman, U. Dirkscneider & W. Hoffman\\', 230619, 3990994, 0.99), (4, \\'Restless and Wild\\', 3, 2, 1, \\'F. Baltes, R.A. Smith-Diesel, S. Kaufman, U. Dirkscneider & W. Hoffman\\', 252051, 4331779, 0.99), (5, \\'Princess of the Dawn\\', 3, 2, 1, \\'Deaffy & R.A. Smith-Diesel\\', 375418, 6290521, 0.99), (6, \\'Put The Finger On You\\', 1, 1, 1, \\'Angus Young, Malcolm Young, Brian Johnson\\', 205662, 6713451, 0.99), (7, \"Let\\'s Get It Up\", 1, 1, 1, \\'Angus Young, Malcolm Young, Brian Johnson\\', 233926, 7636561, 0.99), (8, \\'Inject The Venom\\', 1, 1, 1, \\'Angus Young, Malcolm Young, Brian Johnson\\', 210834, 6852860, 0.99), (9, \\'Snowballed\\', 1, 1, 1, \\'Angus Young, Malcolm Young, Brian Johnson\\', 203102, 6599424, 0.99), (10, \\'Evil Walks\\', 1, 1, 1, \\'Angus Young, Malcolm Young, Brian Johnson\\', 263497, 8611245, 0.99)]', 'id': 'doc_0'}], document_ids={'doc_0'}),\n",
              "  CohereCitation(start=260, end=261, text='1', documents=[{'output': '[(1, \\'For Those About To Rock (We Salute You)\\', 1, 1, 1, \\'Angus Young, Malcolm Young, Brian Johnson\\', 343719, 11170334, 0.99), (2, \\'Balls to the Wall\\', 2, 2, 1, None, 342562, 5510424, 0.99), (3, \\'Fast As a Shark\\', 3, 2, 1, \\'F. Baltes, S. Kaufman, U. Dirkscneider & W. Hoffman\\', 230619, 3990994, 0.99), (4, \\'Restless and Wild\\', 3, 2, 1, \\'F. Baltes, R.A. Smith-Diesel, S. Kaufman, U. Dirkscneider & W. Hoffman\\', 252051, 4331779, 0.99), (5, \\'Princess of the Dawn\\', 3, 2, 1, \\'Deaffy & R.A. Smith-Diesel\\', 375418, 6290521, 0.99), (6, \\'Put The Finger On You\\', 1, 1, 1, \\'Angus Young, Malcolm Young, Brian Johnson\\', 205662, 6713451, 0.99), (7, \"Let\\'s Get It Up\", 1, 1, 1, \\'Angus Young, Malcolm Young, Brian Johnson\\', 233926, 7636561, 0.99), (8, \\'Inject The Venom\\', 1, 1, 1, \\'Angus Young, Malcolm Young, Brian Johnson\\', 210834, 6852860, 0.99), (9, \\'Snowballed\\', 1, 1, 1, \\'Angus Young, Malcolm Young, Brian Johnson\\', 203102, 6599424, 0.99), (10, \\'Evil Walks\\', 1, 1, 1, \\'Angus Young, Malcolm Young, Brian Johnson\\', 263497, 8611245, 0.99)]', 'id': 'doc_0'}], document_ids={'doc_0'}),\n",
              "  CohereCitation(start=264, end=305, text='Angus Young, Malcolm Young, Brian Johnson', documents=[{'output': '[(1, \\'For Those About To Rock (We Salute You)\\', 1, 1, 1, \\'Angus Young, Malcolm Young, Brian Johnson\\', 343719, 11170334, 0.99), (2, \\'Balls to the Wall\\', 2, 2, 1, None, 342562, 5510424, 0.99), (3, \\'Fast As a Shark\\', 3, 2, 1, \\'F. Baltes, S. Kaufman, U. Dirkscneider & W. Hoffman\\', 230619, 3990994, 0.99), (4, \\'Restless and Wild\\', 3, 2, 1, \\'F. Baltes, R.A. Smith-Diesel, S. Kaufman, U. Dirkscneider & W. Hoffman\\', 252051, 4331779, 0.99), (5, \\'Princess of the Dawn\\', 3, 2, 1, \\'Deaffy & R.A. Smith-Diesel\\', 375418, 6290521, 0.99), (6, \\'Put The Finger On You\\', 1, 1, 1, \\'Angus Young, Malcolm Young, Brian Johnson\\', 205662, 6713451, 0.99), (7, \"Let\\'s Get It Up\", 1, 1, 1, \\'Angus Young, Malcolm Young, Brian Johnson\\', 233926, 7636561, 0.99), (8, \\'Inject The Venom\\', 1, 1, 1, \\'Angus Young, Malcolm Young, Brian Johnson\\', 210834, 6852860, 0.99), (9, \\'Snowballed\\', 1, 1, 1, \\'Angus Young, Malcolm Young, Brian Johnson\\', 203102, 6599424, 0.99), (10, \\'Evil Walks\\', 1, 1, 1, \\'Angus Young, Malcolm Young, Brian Johnson\\', 263497, 8611245, 0.99)]', 'id': 'doc_0'}], document_ids={'doc_0'}),\n",
              "  CohereCitation(start=308, end=314, text='343719', documents=[{'output': '[(1, \\'For Those About To Rock (We Salute You)\\', 1, 1, 1, \\'Angus Young, Malcolm Young, Brian Johnson\\', 343719, 11170334, 0.99), (2, \\'Balls to the Wall\\', 2, 2, 1, None, 342562, 5510424, 0.99), (3, \\'Fast As a Shark\\', 3, 2, 1, \\'F. Baltes, S. Kaufman, U. Dirkscneider & W. Hoffman\\', 230619, 3990994, 0.99), (4, \\'Restless and Wild\\', 3, 2, 1, \\'F. Baltes, R.A. Smith-Diesel, S. Kaufman, U. Dirkscneider & W. Hoffman\\', 252051, 4331779, 0.99), (5, \\'Princess of the Dawn\\', 3, 2, 1, \\'Deaffy & R.A. Smith-Diesel\\', 375418, 6290521, 0.99), (6, \\'Put The Finger On You\\', 1, 1, 1, \\'Angus Young, Malcolm Young, Brian Johnson\\', 205662, 6713451, 0.99), (7, \"Let\\'s Get It Up\", 1, 1, 1, \\'Angus Young, Malcolm Young, Brian Johnson\\', 233926, 7636561, 0.99), (8, \\'Inject The Venom\\', 1, 1, 1, \\'Angus Young, Malcolm Young, Brian Johnson\\', 210834, 6852860, 0.99), (9, \\'Snowballed\\', 1, 1, 1, \\'Angus Young, Malcolm Young, Brian Johnson\\', 203102, 6599424, 0.99), (10, \\'Evil Walks\\', 1, 1, 1, \\'Angus Young, Malcolm Young, Brian Johnson\\', 263497, 8611245, 0.99)]', 'id': 'doc_0'}], document_ids={'doc_0'}),\n",
              "  CohereCitation(start=317, end=325, text='11170334', documents=[{'output': '[(1, \\'For Those About To Rock (We Salute You)\\', 1, 1, 1, \\'Angus Young, Malcolm Young, Brian Johnson\\', 343719, 11170334, 0.99), (2, \\'Balls to the Wall\\', 2, 2, 1, None, 342562, 5510424, 0.99), (3, \\'Fast As a Shark\\', 3, 2, 1, \\'F. Baltes, S. Kaufman, U. Dirkscneider & W. Hoffman\\', 230619, 3990994, 0.99), (4, \\'Restless and Wild\\', 3, 2, 1, \\'F. Baltes, R.A. Smith-Diesel, S. Kaufman, U. Dirkscneider & W. Hoffman\\', 252051, 4331779, 0.99), (5, \\'Princess of the Dawn\\', 3, 2, 1, \\'Deaffy & R.A. Smith-Diesel\\', 375418, 6290521, 0.99), (6, \\'Put The Finger On You\\', 1, 1, 1, \\'Angus Young, Malcolm Young, Brian Johnson\\', 205662, 6713451, 0.99), (7, \"Let\\'s Get It Up\", 1, 1, 1, \\'Angus Young, Malcolm Young, Brian Johnson\\', 233926, 7636561, 0.99), (8, \\'Inject The Venom\\', 1, 1, 1, \\'Angus Young, Malcolm Young, Brian Johnson\\', 210834, 6852860, 0.99), (9, \\'Snowballed\\', 1, 1, 1, \\'Angus Young, Malcolm Young, Brian Johnson\\', 203102, 6599424, 0.99), (10, \\'Evil Walks\\', 1, 1, 1, \\'Angus Young, Malcolm Young, Brian Johnson\\', 263497, 8611245, 0.99)]', 'id': 'doc_0'}], document_ids={'doc_0'}),\n",
              "  CohereCitation(start=328, end=332, text='0.99', documents=[{'output': '[(1, \\'For Those About To Rock (We Salute You)\\', 1, 1, 1, \\'Angus Young, Malcolm Young, Brian Johnson\\', 343719, 11170334, 0.99), (2, \\'Balls to the Wall\\', 2, 2, 1, None, 342562, 5510424, 0.99), (3, \\'Fast As a Shark\\', 3, 2, 1, \\'F. Baltes, S. Kaufman, U. Dirkscneider & W. Hoffman\\', 230619, 3990994, 0.99), (4, \\'Restless and Wild\\', 3, 2, 1, \\'F. Baltes, R.A. Smith-Diesel, S. Kaufman, U. Dirkscneider & W. Hoffman\\', 252051, 4331779, 0.99), (5, \\'Princess of the Dawn\\', 3, 2, 1, \\'Deaffy & R.A. Smith-Diesel\\', 375418, 6290521, 0.99), (6, \\'Put The Finger On You\\', 1, 1, 1, \\'Angus Young, Malcolm Young, Brian Johnson\\', 205662, 6713451, 0.99), (7, \"Let\\'s Get It Up\", 1, 1, 1, \\'Angus Young, Malcolm Young, Brian Johnson\\', 233926, 7636561, 0.99), (8, \\'Inject The Venom\\', 1, 1, 1, \\'Angus Young, Malcolm Young, Brian Johnson\\', 210834, 6852860, 0.99), (9, \\'Snowballed\\', 1, 1, 1, \\'Angus Young, Malcolm Young, Brian Johnson\\', 203102, 6599424, 0.99), (10, \\'Evil Walks\\', 1, 1, 1, \\'Angus Young, Malcolm Young, Brian Johnson\\', 263497, 8611245, 0.99)]', 'id': 'doc_0'}], document_ids={'doc_0'}),\n",
              "  CohereCitation(start=337, end=338, text='2', documents=[{'output': '[(1, \\'For Those About To Rock (We Salute You)\\', 1, 1, 1, \\'Angus Young, Malcolm Young, Brian Johnson\\', 343719, 11170334, 0.99), (2, \\'Balls to the Wall\\', 2, 2, 1, None, 342562, 5510424, 0.99), (3, \\'Fast As a Shark\\', 3, 2, 1, \\'F. Baltes, S. Kaufman, U. Dirkscneider & W. Hoffman\\', 230619, 3990994, 0.99), (4, \\'Restless and Wild\\', 3, 2, 1, \\'F. Baltes, R.A. Smith-Diesel, S. Kaufman, U. Dirkscneider & W. Hoffman\\', 252051, 4331779, 0.99), (5, \\'Princess of the Dawn\\', 3, 2, 1, \\'Deaffy & R.A. Smith-Diesel\\', 375418, 6290521, 0.99), (6, \\'Put The Finger On You\\', 1, 1, 1, \\'Angus Young, Malcolm Young, Brian Johnson\\', 205662, 6713451, 0.99), (7, \"Let\\'s Get It Up\", 1, 1, 1, \\'Angus Young, Malcolm Young, Brian Johnson\\', 233926, 7636561, 0.99), (8, \\'Inject The Venom\\', 1, 1, 1, \\'Angus Young, Malcolm Young, Brian Johnson\\', 210834, 6852860, 0.99), (9, \\'Snowballed\\', 1, 1, 1, \\'Angus Young, Malcolm Young, Brian Johnson\\', 203102, 6599424, 0.99), (10, \\'Evil Walks\\', 1, 1, 1, \\'Angus Young, Malcolm Young, Brian Johnson\\', 263497, 8611245, 0.99)]', 'id': 'doc_0'}], document_ids={'doc_0'}),\n",
              "  CohereCitation(start=341, end=358, text='Balls to the Wall', documents=[{'output': '[(1, \\'For Those About To Rock (We Salute You)\\', 1, 1, 1, \\'Angus Young, Malcolm Young, Brian Johnson\\', 343719, 11170334, 0.99), (2, \\'Balls to the Wall\\', 2, 2, 1, None, 342562, 5510424, 0.99), (3, \\'Fast As a Shark\\', 3, 2, 1, \\'F. Baltes, S. Kaufman, U. Dirkscneider & W. Hoffman\\', 230619, 3990994, 0.99), (4, \\'Restless and Wild\\', 3, 2, 1, \\'F. Baltes, R.A. Smith-Diesel, S. Kaufman, U. Dirkscneider & W. Hoffman\\', 252051, 4331779, 0.99), (5, \\'Princess of the Dawn\\', 3, 2, 1, \\'Deaffy & R.A. Smith-Diesel\\', 375418, 6290521, 0.99), (6, \\'Put The Finger On You\\', 1, 1, 1, \\'Angus Young, Malcolm Young, Brian Johnson\\', 205662, 6713451, 0.99), (7, \"Let\\'s Get It Up\", 1, 1, 1, \\'Angus Young, Malcolm Young, Brian Johnson\\', 233926, 7636561, 0.99), (8, \\'Inject The Venom\\', 1, 1, 1, \\'Angus Young, Malcolm Young, Brian Johnson\\', 210834, 6852860, 0.99), (9, \\'Snowballed\\', 1, 1, 1, \\'Angus Young, Malcolm Young, Brian Johnson\\', 203102, 6599424, 0.99), (10, \\'Evil Walks\\', 1, 1, 1, \\'Angus Young, Malcolm Young, Brian Johnson\\', 263497, 8611245, 0.99)]', 'id': 'doc_0'}], document_ids={'doc_0'}),\n",
              "  CohereCitation(start=361, end=362, text='2', documents=[{'output': '[(1, \\'For Those About To Rock (We Salute You)\\', 1, 1, 1, \\'Angus Young, Malcolm Young, Brian Johnson\\', 343719, 11170334, 0.99), (2, \\'Balls to the Wall\\', 2, 2, 1, None, 342562, 5510424, 0.99), (3, \\'Fast As a Shark\\', 3, 2, 1, \\'F. Baltes, S. Kaufman, U. Dirkscneider & W. Hoffman\\', 230619, 3990994, 0.99), (4, \\'Restless and Wild\\', 3, 2, 1, \\'F. Baltes, R.A. Smith-Diesel, S. Kaufman, U. Dirkscneider & W. Hoffman\\', 252051, 4331779, 0.99), (5, \\'Princess of the Dawn\\', 3, 2, 1, \\'Deaffy & R.A. Smith-Diesel\\', 375418, 6290521, 0.99), (6, \\'Put The Finger On You\\', 1, 1, 1, \\'Angus Young, Malcolm Young, Brian Johnson\\', 205662, 6713451, 0.99), (7, \"Let\\'s Get It Up\", 1, 1, 1, \\'Angus Young, Malcolm Young, Brian Johnson\\', 233926, 7636561, 0.99), (8, \\'Inject The Venom\\', 1, 1, 1, \\'Angus Young, Malcolm Young, Brian Johnson\\', 210834, 6852860, 0.99), (9, \\'Snowballed\\', 1, 1, 1, \\'Angus Young, Malcolm Young, Brian Johnson\\', 203102, 6599424, 0.99), (10, \\'Evil Walks\\', 1, 1, 1, \\'Angus Young, Malcolm Young, Brian Johnson\\', 263497, 8611245, 0.99)]', 'id': 'doc_0'}], document_ids={'doc_0'}),\n",
              "  CohereCitation(start=365, end=366, text='2', documents=[{'output': '[(1, \\'For Those About To Rock (We Salute You)\\', 1, 1, 1, \\'Angus Young, Malcolm Young, Brian Johnson\\', 343719, 11170334, 0.99), (2, \\'Balls to the Wall\\', 2, 2, 1, None, 342562, 5510424, 0.99), (3, \\'Fast As a Shark\\', 3, 2, 1, \\'F. Baltes, S. Kaufman, U. Dirkscneider & W. Hoffman\\', 230619, 3990994, 0.99), (4, \\'Restless and Wild\\', 3, 2, 1, \\'F. Baltes, R.A. Smith-Diesel, S. Kaufman, U. Dirkscneider & W. Hoffman\\', 252051, 4331779, 0.99), (5, \\'Princess of the Dawn\\', 3, 2, 1, \\'Deaffy & R.A. Smith-Diesel\\', 375418, 6290521, 0.99), (6, \\'Put The Finger On You\\', 1, 1, 1, \\'Angus Young, Malcolm Young, Brian Johnson\\', 205662, 6713451, 0.99), (7, \"Let\\'s Get It Up\", 1, 1, 1, \\'Angus Young, Malcolm Young, Brian Johnson\\', 233926, 7636561, 0.99), (8, \\'Inject The Venom\\', 1, 1, 1, \\'Angus Young, Malcolm Young, Brian Johnson\\', 210834, 6852860, 0.99), (9, \\'Snowballed\\', 1, 1, 1, \\'Angus Young, Malcolm Young, Brian Johnson\\', 203102, 6599424, 0.99), (10, \\'Evil Walks\\', 1, 1, 1, \\'Angus Young, Malcolm Young, Brian Johnson\\', 263497, 8611245, 0.99)]', 'id': 'doc_0'}], document_ids={'doc_0'}),\n",
              "  CohereCitation(start=369, end=370, text='1', documents=[{'output': '[(1, \\'For Those About To Rock (We Salute You)\\', 1, 1, 1, \\'Angus Young, Malcolm Young, Brian Johnson\\', 343719, 11170334, 0.99), (2, \\'Balls to the Wall\\', 2, 2, 1, None, 342562, 5510424, 0.99), (3, \\'Fast As a Shark\\', 3, 2, 1, \\'F. Baltes, S. Kaufman, U. Dirkscneider & W. Hoffman\\', 230619, 3990994, 0.99), (4, \\'Restless and Wild\\', 3, 2, 1, \\'F. Baltes, R.A. Smith-Diesel, S. Kaufman, U. Dirkscneider & W. Hoffman\\', 252051, 4331779, 0.99), (5, \\'Princess of the Dawn\\', 3, 2, 1, \\'Deaffy & R.A. Smith-Diesel\\', 375418, 6290521, 0.99), (6, \\'Put The Finger On You\\', 1, 1, 1, \\'Angus Young, Malcolm Young, Brian Johnson\\', 205662, 6713451, 0.99), (7, \"Let\\'s Get It Up\", 1, 1, 1, \\'Angus Young, Malcolm Young, Brian Johnson\\', 233926, 7636561, 0.99), (8, \\'Inject The Venom\\', 1, 1, 1, \\'Angus Young, Malcolm Young, Brian Johnson\\', 210834, 6852860, 0.99), (9, \\'Snowballed\\', 1, 1, 1, \\'Angus Young, Malcolm Young, Brian Johnson\\', 203102, 6599424, 0.99), (10, \\'Evil Walks\\', 1, 1, 1, \\'Angus Young, Malcolm Young, Brian Johnson\\', 263497, 8611245, 0.99)]', 'id': 'doc_0'}], document_ids={'doc_0'}),\n",
              "  CohereCitation(start=373, end=377, text='None', documents=[{'output': '[(1, \\'For Those About To Rock (We Salute You)\\', 1, 1, 1, \\'Angus Young, Malcolm Young, Brian Johnson\\', 343719, 11170334, 0.99), (2, \\'Balls to the Wall\\', 2, 2, 1, None, 342562, 5510424, 0.99), (3, \\'Fast As a Shark\\', 3, 2, 1, \\'F. Baltes, S. Kaufman, U. Dirkscneider & W. Hoffman\\', 230619, 3990994, 0.99), (4, \\'Restless and Wild\\', 3, 2, 1, \\'F. Baltes, R.A. Smith-Diesel, S. Kaufman, U. Dirkscneider & W. Hoffman\\', 252051, 4331779, 0.99), (5, \\'Princess of the Dawn\\', 3, 2, 1, \\'Deaffy & R.A. Smith-Diesel\\', 375418, 6290521, 0.99), (6, \\'Put The Finger On You\\', 1, 1, 1, \\'Angus Young, Malcolm Young, Brian Johnson\\', 205662, 6713451, 0.99), (7, \"Let\\'s Get It Up\", 1, 1, 1, \\'Angus Young, Malcolm Young, Brian Johnson\\', 233926, 7636561, 0.99), (8, \\'Inject The Venom\\', 1, 1, 1, \\'Angus Young, Malcolm Young, Brian Johnson\\', 210834, 6852860, 0.99), (9, \\'Snowballed\\', 1, 1, 1, \\'Angus Young, Malcolm Young, Brian Johnson\\', 203102, 6599424, 0.99), (10, \\'Evil Walks\\', 1, 1, 1, \\'Angus Young, Malcolm Young, Brian Johnson\\', 263497, 8611245, 0.99)]', 'id': 'doc_0'}], document_ids={'doc_0'}),\n",
              "  CohereCitation(start=380, end=386, text='342562', documents=[{'output': '[(1, \\'For Those About To Rock (We Salute You)\\', 1, 1, 1, \\'Angus Young, Malcolm Young, Brian Johnson\\', 343719, 11170334, 0.99), (2, \\'Balls to the Wall\\', 2, 2, 1, None, 342562, 5510424, 0.99), (3, \\'Fast As a Shark\\', 3, 2, 1, \\'F. Baltes, S. Kaufman, U. Dirkscneider & W. Hoffman\\', 230619, 3990994, 0.99), (4, \\'Restless and Wild\\', 3, 2, 1, \\'F. Baltes, R.A. Smith-Diesel, S. Kaufman, U. Dirkscneider & W. Hoffman\\', 252051, 4331779, 0.99), (5, \\'Princess of the Dawn\\', 3, 2, 1, \\'Deaffy & R.A. Smith-Diesel\\', 375418, 6290521, 0.99), (6, \\'Put The Finger On You\\', 1, 1, 1, \\'Angus Young, Malcolm Young, Brian Johnson\\', 205662, 6713451, 0.99), (7, \"Let\\'s Get It Up\", 1, 1, 1, \\'Angus Young, Malcolm Young, Brian Johnson\\', 233926, 7636561, 0.99), (8, \\'Inject The Venom\\', 1, 1, 1, \\'Angus Young, Malcolm Young, Brian Johnson\\', 210834, 6852860, 0.99), (9, \\'Snowballed\\', 1, 1, 1, \\'Angus Young, Malcolm Young, Brian Johnson\\', 203102, 6599424, 0.99), (10, \\'Evil Walks\\', 1, 1, 1, \\'Angus Young, Malcolm Young, Brian Johnson\\', 263497, 8611245, 0.99)]', 'id': 'doc_0'}], document_ids={'doc_0'}),\n",
              "  CohereCitation(start=389, end=396, text='5510424', documents=[{'output': '[(1, \\'For Those About To Rock (We Salute You)\\', 1, 1, 1, \\'Angus Young, Malcolm Young, Brian Johnson\\', 343719, 11170334, 0.99), (2, \\'Balls to the Wall\\', 2, 2, 1, None, 342562, 5510424, 0.99), (3, \\'Fast As a Shark\\', 3, 2, 1, \\'F. Baltes, S. Kaufman, U. Dirkscneider & W. Hoffman\\', 230619, 3990994, 0.99), (4, \\'Restless and Wild\\', 3, 2, 1, \\'F. Baltes, R.A. Smith-Diesel, S. Kaufman, U. Dirkscneider & W. Hoffman\\', 252051, 4331779, 0.99), (5, \\'Princess of the Dawn\\', 3, 2, 1, \\'Deaffy & R.A. Smith-Diesel\\', 375418, 6290521, 0.99), (6, \\'Put The Finger On You\\', 1, 1, 1, \\'Angus Young, Malcolm Young, Brian Johnson\\', 205662, 6713451, 0.99), (7, \"Let\\'s Get It Up\", 1, 1, 1, \\'Angus Young, Malcolm Young, Brian Johnson\\', 233926, 7636561, 0.99), (8, \\'Inject The Venom\\', 1, 1, 1, \\'Angus Young, Malcolm Young, Brian Johnson\\', 210834, 6852860, 0.99), (9, \\'Snowballed\\', 1, 1, 1, \\'Angus Young, Malcolm Young, Brian Johnson\\', 203102, 6599424, 0.99), (10, \\'Evil Walks\\', 1, 1, 1, \\'Angus Young, Malcolm Young, Brian Johnson\\', 263497, 8611245, 0.99)]', 'id': 'doc_0'}], document_ids={'doc_0'}),\n",
              "  CohereCitation(start=399, end=403, text='0.99', documents=[{'output': '[(1, \\'For Those About To Rock (We Salute You)\\', 1, 1, 1, \\'Angus Young, Malcolm Young, Brian Johnson\\', 343719, 11170334, 0.99), (2, \\'Balls to the Wall\\', 2, 2, 1, None, 342562, 5510424, 0.99), (3, \\'Fast As a Shark\\', 3, 2, 1, \\'F. Baltes, S. Kaufman, U. Dirkscneider & W. Hoffman\\', 230619, 3990994, 0.99), (4, \\'Restless and Wild\\', 3, 2, 1, \\'F. Baltes, R.A. Smith-Diesel, S. Kaufman, U. Dirkscneider & W. Hoffman\\', 252051, 4331779, 0.99), (5, \\'Princess of the Dawn\\', 3, 2, 1, \\'Deaffy & R.A. Smith-Diesel\\', 375418, 6290521, 0.99), (6, \\'Put The Finger On You\\', 1, 1, 1, \\'Angus Young, Malcolm Young, Brian Johnson\\', 205662, 6713451, 0.99), (7, \"Let\\'s Get It Up\", 1, 1, 1, \\'Angus Young, Malcolm Young, Brian Johnson\\', 233926, 7636561, 0.99), (8, \\'Inject The Venom\\', 1, 1, 1, \\'Angus Young, Malcolm Young, Brian Johnson\\', 210834, 6852860, 0.99), (9, \\'Snowballed\\', 1, 1, 1, \\'Angus Young, Malcolm Young, Brian Johnson\\', 203102, 6599424, 0.99), (10, \\'Evil Walks\\', 1, 1, 1, \\'Angus Young, Malcolm Young, Brian Johnson\\', 263497, 8611245, 0.99)]', 'id': 'doc_0'}], document_ids={'doc_0'}),\n",
              "  CohereCitation(start=408, end=409, text='3', documents=[{'output': '[(1, \\'For Those About To Rock (We Salute You)\\', 1, 1, 1, \\'Angus Young, Malcolm Young, Brian Johnson\\', 343719, 11170334, 0.99), (2, \\'Balls to the Wall\\', 2, 2, 1, None, 342562, 5510424, 0.99), (3, \\'Fast As a Shark\\', 3, 2, 1, \\'F. Baltes, S. Kaufman, U. Dirkscneider & W. Hoffman\\', 230619, 3990994, 0.99), (4, \\'Restless and Wild\\', 3, 2, 1, \\'F. Baltes, R.A. Smith-Diesel, S. Kaufman, U. Dirkscneider & W. Hoffman\\', 252051, 4331779, 0.99), (5, \\'Princess of the Dawn\\', 3, 2, 1, \\'Deaffy & R.A. Smith-Diesel\\', 375418, 6290521, 0.99), (6, \\'Put The Finger On You\\', 1, 1, 1, \\'Angus Young, Malcolm Young, Brian Johnson\\', 205662, 6713451, 0.99), (7, \"Let\\'s Get It Up\", 1, 1, 1, \\'Angus Young, Malcolm Young, Brian Johnson\\', 233926, 7636561, 0.99), (8, \\'Inject The Venom\\', 1, 1, 1, \\'Angus Young, Malcolm Young, Brian Johnson\\', 210834, 6852860, 0.99), (9, \\'Snowballed\\', 1, 1, 1, \\'Angus Young, Malcolm Young, Brian Johnson\\', 203102, 6599424, 0.99), (10, \\'Evil Walks\\', 1, 1, 1, \\'Angus Young, Malcolm Young, Brian Johnson\\', 263497, 8611245, 0.99)]', 'id': 'doc_0'}], document_ids={'doc_0'}),\n",
              "  CohereCitation(start=412, end=427, text='Fast As a Shark', documents=[{'output': '[(1, \\'For Those About To Rock (We Salute You)\\', 1, 1, 1, \\'Angus Young, Malcolm Young, Brian Johnson\\', 343719, 11170334, 0.99), (2, \\'Balls to the Wall\\', 2, 2, 1, None, 342562, 5510424, 0.99), (3, \\'Fast As a Shark\\', 3, 2, 1, \\'F. Baltes, S. Kaufman, U. Dirkscneider & W. Hoffman\\', 230619, 3990994, 0.99), (4, \\'Restless and Wild\\', 3, 2, 1, \\'F. Baltes, R.A. Smith-Diesel, S. Kaufman, U. Dirkscneider & W. Hoffman\\', 252051, 4331779, 0.99), (5, \\'Princess of the Dawn\\', 3, 2, 1, \\'Deaffy & R.A. Smith-Diesel\\', 375418, 6290521, 0.99), (6, \\'Put The Finger On You\\', 1, 1, 1, \\'Angus Young, Malcolm Young, Brian Johnson\\', 205662, 6713451, 0.99), (7, \"Let\\'s Get It Up\", 1, 1, 1, \\'Angus Young, Malcolm Young, Brian Johnson\\', 233926, 7636561, 0.99), (8, \\'Inject The Venom\\', 1, 1, 1, \\'Angus Young, Malcolm Young, Brian Johnson\\', 210834, 6852860, 0.99), (9, \\'Snowballed\\', 1, 1, 1, \\'Angus Young, Malcolm Young, Brian Johnson\\', 203102, 6599424, 0.99), (10, \\'Evil Walks\\', 1, 1, 1, \\'Angus Young, Malcolm Young, Brian Johnson\\', 263497, 8611245, 0.99)]', 'id': 'doc_0'}], document_ids={'doc_0'}),\n",
              "  CohereCitation(start=430, end=431, text='3', documents=[{'output': '[(1, \\'For Those About To Rock (We Salute You)\\', 1, 1, 1, \\'Angus Young, Malcolm Young, Brian Johnson\\', 343719, 11170334, 0.99), (2, \\'Balls to the Wall\\', 2, 2, 1, None, 342562, 5510424, 0.99), (3, \\'Fast As a Shark\\', 3, 2, 1, \\'F. Baltes, S. Kaufman, U. Dirkscneider & W. Hoffman\\', 230619, 3990994, 0.99), (4, \\'Restless and Wild\\', 3, 2, 1, \\'F. Baltes, R.A. Smith-Diesel, S. Kaufman, U. Dirkscneider & W. Hoffman\\', 252051, 4331779, 0.99), (5, \\'Princess of the Dawn\\', 3, 2, 1, \\'Deaffy & R.A. Smith-Diesel\\', 375418, 6290521, 0.99), (6, \\'Put The Finger On You\\', 1, 1, 1, \\'Angus Young, Malcolm Young, Brian Johnson\\', 205662, 6713451, 0.99), (7, \"Let\\'s Get It Up\", 1, 1, 1, \\'Angus Young, Malcolm Young, Brian Johnson\\', 233926, 7636561, 0.99), (8, \\'Inject The Venom\\', 1, 1, 1, \\'Angus Young, Malcolm Young, Brian Johnson\\', 210834, 6852860, 0.99), (9, \\'Snowballed\\', 1, 1, 1, \\'Angus Young, Malcolm Young, Brian Johnson\\', 203102, 6599424, 0.99), (10, \\'Evil Walks\\', 1, 1, 1, \\'Angus Young, Malcolm Young, Brian Johnson\\', 263497, 8611245, 0.99)]', 'id': 'doc_0'}], document_ids={'doc_0'}),\n",
              "  CohereCitation(start=434, end=435, text='2', documents=[{'output': '[(1, \\'For Those About To Rock (We Salute You)\\', 1, 1, 1, \\'Angus Young, Malcolm Young, Brian Johnson\\', 343719, 11170334, 0.99), (2, \\'Balls to the Wall\\', 2, 2, 1, None, 342562, 5510424, 0.99), (3, \\'Fast As a Shark\\', 3, 2, 1, \\'F. Baltes, S. Kaufman, U. Dirkscneider & W. Hoffman\\', 230619, 3990994, 0.99), (4, \\'Restless and Wild\\', 3, 2, 1, \\'F. Baltes, R.A. Smith-Diesel, S. Kaufman, U. Dirkscneider & W. Hoffman\\', 252051, 4331779, 0.99), (5, \\'Princess of the Dawn\\', 3, 2, 1, \\'Deaffy & R.A. Smith-Diesel\\', 375418, 6290521, 0.99), (6, \\'Put The Finger On You\\', 1, 1, 1, \\'Angus Young, Malcolm Young, Brian Johnson\\', 205662, 6713451, 0.99), (7, \"Let\\'s Get It Up\", 1, 1, 1, \\'Angus Young, Malcolm Young, Brian Johnson\\', 233926, 7636561, 0.99), (8, \\'Inject The Venom\\', 1, 1, 1, \\'Angus Young, Malcolm Young, Brian Johnson\\', 210834, 6852860, 0.99), (9, \\'Snowballed\\', 1, 1, 1, \\'Angus Young, Malcolm Young, Brian Johnson\\', 203102, 6599424, 0.99), (10, \\'Evil Walks\\', 1, 1, 1, \\'Angus Young, Malcolm Young, Brian Johnson\\', 263497, 8611245, 0.99)]', 'id': 'doc_0'}], document_ids={'doc_0'}),\n",
              "  CohereCitation(start=438, end=439, text='1', documents=[{'output': '[(1, \\'For Those About To Rock (We Salute You)\\', 1, 1, 1, \\'Angus Young, Malcolm Young, Brian Johnson\\', 343719, 11170334, 0.99), (2, \\'Balls to the Wall\\', 2, 2, 1, None, 342562, 5510424, 0.99), (3, \\'Fast As a Shark\\', 3, 2, 1, \\'F. Baltes, S. Kaufman, U. Dirkscneider & W. Hoffman\\', 230619, 3990994, 0.99), (4, \\'Restless and Wild\\', 3, 2, 1, \\'F. Baltes, R.A. Smith-Diesel, S. Kaufman, U. Dirkscneider & W. Hoffman\\', 252051, 4331779, 0.99), (5, \\'Princess of the Dawn\\', 3, 2, 1, \\'Deaffy & R.A. Smith-Diesel\\', 375418, 6290521, 0.99), (6, \\'Put The Finger On You\\', 1, 1, 1, \\'Angus Young, Malcolm Young, Brian Johnson\\', 205662, 6713451, 0.99), (7, \"Let\\'s Get It Up\", 1, 1, 1, \\'Angus Young, Malcolm Young, Brian Johnson\\', 233926, 7636561, 0.99), (8, \\'Inject The Venom\\', 1, 1, 1, \\'Angus Young, Malcolm Young, Brian Johnson\\', 210834, 6852860, 0.99), (9, \\'Snowballed\\', 1, 1, 1, \\'Angus Young, Malcolm Young, Brian Johnson\\', 203102, 6599424, 0.99), (10, \\'Evil Walks\\', 1, 1, 1, \\'Angus Young, Malcolm Young, Brian Johnson\\', 263497, 8611245, 0.99)]', 'id': 'doc_0'}], document_ids={'doc_0'}),\n",
              "  CohereCitation(start=442, end=493, text='F. Baltes, S. Kaufman, U. Dirkscneider & W. Hoffman', documents=[{'output': '[(1, \\'For Those About To Rock (We Salute You)\\', 1, 1, 1, \\'Angus Young, Malcolm Young, Brian Johnson\\', 343719, 11170334, 0.99), (2, \\'Balls to the Wall\\', 2, 2, 1, None, 342562, 5510424, 0.99), (3, \\'Fast As a Shark\\', 3, 2, 1, \\'F. Baltes, S. Kaufman, U. Dirkscneider & W. Hoffman\\', 230619, 3990994, 0.99), (4, \\'Restless and Wild\\', 3, 2, 1, \\'F. Baltes, R.A. Smith-Diesel, S. Kaufman, U. Dirkscneider & W. Hoffman\\', 252051, 4331779, 0.99), (5, \\'Princess of the Dawn\\', 3, 2, 1, \\'Deaffy & R.A. Smith-Diesel\\', 375418, 6290521, 0.99), (6, \\'Put The Finger On You\\', 1, 1, 1, \\'Angus Young, Malcolm Young, Brian Johnson\\', 205662, 6713451, 0.99), (7, \"Let\\'s Get It Up\", 1, 1, 1, \\'Angus Young, Malcolm Young, Brian Johnson\\', 233926, 7636561, 0.99), (8, \\'Inject The Venom\\', 1, 1, 1, \\'Angus Young, Malcolm Young, Brian Johnson\\', 210834, 6852860, 0.99), (9, \\'Snowballed\\', 1, 1, 1, \\'Angus Young, Malcolm Young, Brian Johnson\\', 203102, 6599424, 0.99), (10, \\'Evil Walks\\', 1, 1, 1, \\'Angus Young, Malcolm Young, Brian Johnson\\', 263497, 8611245, 0.99)]', 'id': 'doc_0'}], document_ids={'doc_0'}),\n",
              "  CohereCitation(start=496, end=502, text='230619', documents=[{'output': '[(1, \\'For Those About To Rock (We Salute You)\\', 1, 1, 1, \\'Angus Young, Malcolm Young, Brian Johnson\\', 343719, 11170334, 0.99), (2, \\'Balls to the Wall\\', 2, 2, 1, None, 342562, 5510424, 0.99), (3, \\'Fast As a Shark\\', 3, 2, 1, \\'F. Baltes, S. Kaufman, U. Dirkscneider & W. Hoffman\\', 230619, 3990994, 0.99), (4, \\'Restless and Wild\\', 3, 2, 1, \\'F. Baltes, R.A. Smith-Diesel, S. Kaufman, U. Dirkscneider & W. Hoffman\\', 252051, 4331779, 0.99), (5, \\'Princess of the Dawn\\', 3, 2, 1, \\'Deaffy & R.A. Smith-Diesel\\', 375418, 6290521, 0.99), (6, \\'Put The Finger On You\\', 1, 1, 1, \\'Angus Young, Malcolm Young, Brian Johnson\\', 205662, 6713451, 0.99), (7, \"Let\\'s Get It Up\", 1, 1, 1, \\'Angus Young, Malcolm Young, Brian Johnson\\', 233926, 7636561, 0.99), (8, \\'Inject The Venom\\', 1, 1, 1, \\'Angus Young, Malcolm Young, Brian Johnson\\', 210834, 6852860, 0.99), (9, \\'Snowballed\\', 1, 1, 1, \\'Angus Young, Malcolm Young, Brian Johnson\\', 203102, 6599424, 0.99), (10, \\'Evil Walks\\', 1, 1, 1, \\'Angus Young, Malcolm Young, Brian Johnson\\', 263497, 8611245, 0.99)]', 'id': 'doc_0'}], document_ids={'doc_0'}),\n",
              "  CohereCitation(start=505, end=512, text='3990994', documents=[{'output': '[(1, \\'For Those About To Rock (We Salute You)\\', 1, 1, 1, \\'Angus Young, Malcolm Young, Brian Johnson\\', 343719, 11170334, 0.99), (2, \\'Balls to the Wall\\', 2, 2, 1, None, 342562, 5510424, 0.99), (3, \\'Fast As a Shark\\', 3, 2, 1, \\'F. Baltes, S. Kaufman, U. Dirkscneider & W. Hoffman\\', 230619, 3990994, 0.99), (4, \\'Restless and Wild\\', 3, 2, 1, \\'F. Baltes, R.A. Smith-Diesel, S. Kaufman, U. Dirkscneider & W. Hoffman\\', 252051, 4331779, 0.99), (5, \\'Princess of the Dawn\\', 3, 2, 1, \\'Deaffy & R.A. Smith-Diesel\\', 375418, 6290521, 0.99), (6, \\'Put The Finger On You\\', 1, 1, 1, \\'Angus Young, Malcolm Young, Brian Johnson\\', 205662, 6713451, 0.99), (7, \"Let\\'s Get It Up\", 1, 1, 1, \\'Angus Young, Malcolm Young, Brian Johnson\\', 233926, 7636561, 0.99), (8, \\'Inject The Venom\\', 1, 1, 1, \\'Angus Young, Malcolm Young, Brian Johnson\\', 210834, 6852860, 0.99), (9, \\'Snowballed\\', 1, 1, 1, \\'Angus Young, Malcolm Young, Brian Johnson\\', 203102, 6599424, 0.99), (10, \\'Evil Walks\\', 1, 1, 1, \\'Angus Young, Malcolm Young, Brian Johnson\\', 263497, 8611245, 0.99)]', 'id': 'doc_0'}], document_ids={'doc_0'}),\n",
              "  CohereCitation(start=515, end=519, text='0.99', documents=[{'output': '[(1, \\'For Those About To Rock (We Salute You)\\', 1, 1, 1, \\'Angus Young, Malcolm Young, Brian Johnson\\', 343719, 11170334, 0.99), (2, \\'Balls to the Wall\\', 2, 2, 1, None, 342562, 5510424, 0.99), (3, \\'Fast As a Shark\\', 3, 2, 1, \\'F. Baltes, S. Kaufman, U. Dirkscneider & W. Hoffman\\', 230619, 3990994, 0.99), (4, \\'Restless and Wild\\', 3, 2, 1, \\'F. Baltes, R.A. Smith-Diesel, S. Kaufman, U. Dirkscneider & W. Hoffman\\', 252051, 4331779, 0.99), (5, \\'Princess of the Dawn\\', 3, 2, 1, \\'Deaffy & R.A. Smith-Diesel\\', 375418, 6290521, 0.99), (6, \\'Put The Finger On You\\', 1, 1, 1, \\'Angus Young, Malcolm Young, Brian Johnson\\', 205662, 6713451, 0.99), (7, \"Let\\'s Get It Up\", 1, 1, 1, \\'Angus Young, Malcolm Young, Brian Johnson\\', 233926, 7636561, 0.99), (8, \\'Inject The Venom\\', 1, 1, 1, \\'Angus Young, Malcolm Young, Brian Johnson\\', 210834, 6852860, 0.99), (9, \\'Snowballed\\', 1, 1, 1, \\'Angus Young, Malcolm Young, Brian Johnson\\', 203102, 6599424, 0.99), (10, \\'Evil Walks\\', 1, 1, 1, \\'Angus Young, Malcolm Young, Brian Johnson\\', 263497, 8611245, 0.99)]', 'id': 'doc_0'}], document_ids={'doc_0'}),\n",
              "  CohereCitation(start=524, end=525, text='4', documents=[{'output': '[(1, \\'For Those About To Rock (We Salute You)\\', 1, 1, 1, \\'Angus Young, Malcolm Young, Brian Johnson\\', 343719, 11170334, 0.99), (2, \\'Balls to the Wall\\', 2, 2, 1, None, 342562, 5510424, 0.99), (3, \\'Fast As a Shark\\', 3, 2, 1, \\'F. Baltes, S. Kaufman, U. Dirkscneider & W. Hoffman\\', 230619, 3990994, 0.99), (4, \\'Restless and Wild\\', 3, 2, 1, \\'F. Baltes, R.A. Smith-Diesel, S. Kaufman, U. Dirkscneider & W. Hoffman\\', 252051, 4331779, 0.99), (5, \\'Princess of the Dawn\\', 3, 2, 1, \\'Deaffy & R.A. Smith-Diesel\\', 375418, 6290521, 0.99), (6, \\'Put The Finger On You\\', 1, 1, 1, \\'Angus Young, Malcolm Young, Brian Johnson\\', 205662, 6713451, 0.99), (7, \"Let\\'s Get It Up\", 1, 1, 1, \\'Angus Young, Malcolm Young, Brian Johnson\\', 233926, 7636561, 0.99), (8, \\'Inject The Venom\\', 1, 1, 1, \\'Angus Young, Malcolm Young, Brian Johnson\\', 210834, 6852860, 0.99), (9, \\'Snowballed\\', 1, 1, 1, \\'Angus Young, Malcolm Young, Brian Johnson\\', 203102, 6599424, 0.99), (10, \\'Evil Walks\\', 1, 1, 1, \\'Angus Young, Malcolm Young, Brian Johnson\\', 263497, 8611245, 0.99)]', 'id': 'doc_0'}], document_ids={'doc_0'}),\n",
              "  CohereCitation(start=528, end=545, text='Restless and Wild', documents=[{'output': '[(1, \\'For Those About To Rock (We Salute You)\\', 1, 1, 1, \\'Angus Young, Malcolm Young, Brian Johnson\\', 343719, 11170334, 0.99), (2, \\'Balls to the Wall\\', 2, 2, 1, None, 342562, 5510424, 0.99), (3, \\'Fast As a Shark\\', 3, 2, 1, \\'F. Baltes, S. Kaufman, U. Dirkscneider & W. Hoffman\\', 230619, 3990994, 0.99), (4, \\'Restless and Wild\\', 3, 2, 1, \\'F. Baltes, R.A. Smith-Diesel, S. Kaufman, U. Dirkscneider & W. Hoffman\\', 252051, 4331779, 0.99), (5, \\'Princess of the Dawn\\', 3, 2, 1, \\'Deaffy & R.A. Smith-Diesel\\', 375418, 6290521, 0.99), (6, \\'Put The Finger On You\\', 1, 1, 1, \\'Angus Young, Malcolm Young, Brian Johnson\\', 205662, 6713451, 0.99), (7, \"Let\\'s Get It Up\", 1, 1, 1, \\'Angus Young, Malcolm Young, Brian Johnson\\', 233926, 7636561, 0.99), (8, \\'Inject The Venom\\', 1, 1, 1, \\'Angus Young, Malcolm Young, Brian Johnson\\', 210834, 6852860, 0.99), (9, \\'Snowballed\\', 1, 1, 1, \\'Angus Young, Malcolm Young, Brian Johnson\\', 203102, 6599424, 0.99), (10, \\'Evil Walks\\', 1, 1, 1, \\'Angus Young, Malcolm Young, Brian Johnson\\', 263497, 8611245, 0.99)]', 'id': 'doc_0'}], document_ids={'doc_0'}),\n",
              "  CohereCitation(start=548, end=549, text='3', documents=[{'output': '[(1, \\'For Those About To Rock (We Salute You)\\', 1, 1, 1, \\'Angus Young, Malcolm Young, Brian Johnson\\', 343719, 11170334, 0.99), (2, \\'Balls to the Wall\\', 2, 2, 1, None, 342562, 5510424, 0.99), (3, \\'Fast As a Shark\\', 3, 2, 1, \\'F. Baltes, S. Kaufman, U. Dirkscneider & W. Hoffman\\', 230619, 3990994, 0.99), (4, \\'Restless and Wild\\', 3, 2, 1, \\'F. Baltes, R.A. Smith-Diesel, S. Kaufman, U. Dirkscneider & W. Hoffman\\', 252051, 4331779, 0.99), (5, \\'Princess of the Dawn\\', 3, 2, 1, \\'Deaffy & R.A. Smith-Diesel\\', 375418, 6290521, 0.99), (6, \\'Put The Finger On You\\', 1, 1, 1, \\'Angus Young, Malcolm Young, Brian Johnson\\', 205662, 6713451, 0.99), (7, \"Let\\'s Get It Up\", 1, 1, 1, \\'Angus Young, Malcolm Young, Brian Johnson\\', 233926, 7636561, 0.99), (8, \\'Inject The Venom\\', 1, 1, 1, \\'Angus Young, Malcolm Young, Brian Johnson\\', 210834, 6852860, 0.99), (9, \\'Snowballed\\', 1, 1, 1, \\'Angus Young, Malcolm Young, Brian Johnson\\', 203102, 6599424, 0.99), (10, \\'Evil Walks\\', 1, 1, 1, \\'Angus Young, Malcolm Young, Brian Johnson\\', 263497, 8611245, 0.99)]', 'id': 'doc_0'}], document_ids={'doc_0'}),\n",
              "  CohereCitation(start=552, end=553, text='2', documents=[{'output': '[(1, \\'For Those About To Rock (We Salute You)\\', 1, 1, 1, \\'Angus Young, Malcolm Young, Brian Johnson\\', 343719, 11170334, 0.99), (2, \\'Balls to the Wall\\', 2, 2, 1, None, 342562, 5510424, 0.99), (3, \\'Fast As a Shark\\', 3, 2, 1, \\'F. Baltes, S. Kaufman, U. Dirkscneider & W. Hoffman\\', 230619, 3990994, 0.99), (4, \\'Restless and Wild\\', 3, 2, 1, \\'F. Baltes, R.A. Smith-Diesel, S. Kaufman, U. Dirkscneider & W. Hoffman\\', 252051, 4331779, 0.99), (5, \\'Princess of the Dawn\\', 3, 2, 1, \\'Deaffy & R.A. Smith-Diesel\\', 375418, 6290521, 0.99), (6, \\'Put The Finger On You\\', 1, 1, 1, \\'Angus Young, Malcolm Young, Brian Johnson\\', 205662, 6713451, 0.99), (7, \"Let\\'s Get It Up\", 1, 1, 1, \\'Angus Young, Malcolm Young, Brian Johnson\\', 233926, 7636561, 0.99), (8, \\'Inject The Venom\\', 1, 1, 1, \\'Angus Young, Malcolm Young, Brian Johnson\\', 210834, 6852860, 0.99), (9, \\'Snowballed\\', 1, 1, 1, \\'Angus Young, Malcolm Young, Brian Johnson\\', 203102, 6599424, 0.99), (10, \\'Evil Walks\\', 1, 1, 1, \\'Angus Young, Malcolm Young, Brian Johnson\\', 263497, 8611245, 0.99)]', 'id': 'doc_0'}], document_ids={'doc_0'}),\n",
              "  CohereCitation(start=556, end=557, text='1', documents=[{'output': '[(1, \\'For Those About To Rock (We Salute You)\\', 1, 1, 1, \\'Angus Young, Malcolm Young, Brian Johnson\\', 343719, 11170334, 0.99), (2, \\'Balls to the Wall\\', 2, 2, 1, None, 342562, 5510424, 0.99), (3, \\'Fast As a Shark\\', 3, 2, 1, \\'F. Baltes, S. Kaufman, U. Dirkscneider & W. Hoffman\\', 230619, 3990994, 0.99), (4, \\'Restless and Wild\\', 3, 2, 1, \\'F. Baltes, R.A. Smith-Diesel, S. Kaufman, U. Dirkscneider & W. Hoffman\\', 252051, 4331779, 0.99), (5, \\'Princess of the Dawn\\', 3, 2, 1, \\'Deaffy & R.A. Smith-Diesel\\', 375418, 6290521, 0.99), (6, \\'Put The Finger On You\\', 1, 1, 1, \\'Angus Young, Malcolm Young, Brian Johnson\\', 205662, 6713451, 0.99), (7, \"Let\\'s Get It Up\", 1, 1, 1, \\'Angus Young, Malcolm Young, Brian Johnson\\', 233926, 7636561, 0.99), (8, \\'Inject The Venom\\', 1, 1, 1, \\'Angus Young, Malcolm Young, Brian Johnson\\', 210834, 6852860, 0.99), (9, \\'Snowballed\\', 1, 1, 1, \\'Angus Young, Malcolm Young, Brian Johnson\\', 203102, 6599424, 0.99), (10, \\'Evil Walks\\', 1, 1, 1, \\'Angus Young, Malcolm Young, Brian Johnson\\', 263497, 8611245, 0.99)]', 'id': 'doc_0'}], document_ids={'doc_0'}),\n",
              "  CohereCitation(start=560, end=630, text='F. Baltes, R.A. Smith-Diesel, S. Kaufman, U. Dirkscneider & W. Hoffman', documents=[{'output': '[(1, \\'For Those About To Rock (We Salute You)\\', 1, 1, 1, \\'Angus Young, Malcolm Young, Brian Johnson\\', 343719, 11170334, 0.99), (2, \\'Balls to the Wall\\', 2, 2, 1, None, 342562, 5510424, 0.99), (3, \\'Fast As a Shark\\', 3, 2, 1, \\'F. Baltes, S. Kaufman, U. Dirkscneider & W. Hoffman\\', 230619, 3990994, 0.99), (4, \\'Restless and Wild\\', 3, 2, 1, \\'F. Baltes, R.A. Smith-Diesel, S. Kaufman, U. Dirkscneider & W. Hoffman\\', 252051, 4331779, 0.99), (5, \\'Princess of the Dawn\\', 3, 2, 1, \\'Deaffy & R.A. Smith-Diesel\\', 375418, 6290521, 0.99), (6, \\'Put The Finger On You\\', 1, 1, 1, \\'Angus Young, Malcolm Young, Brian Johnson\\', 205662, 6713451, 0.99), (7, \"Let\\'s Get It Up\", 1, 1, 1, \\'Angus Young, Malcolm Young, Brian Johnson\\', 233926, 7636561, 0.99), (8, \\'Inject The Venom\\', 1, 1, 1, \\'Angus Young, Malcolm Young, Brian Johnson\\', 210834, 6852860, 0.99), (9, \\'Snowballed\\', 1, 1, 1, \\'Angus Young, Malcolm Young, Brian Johnson\\', 203102, 6599424, 0.99), (10, \\'Evil Walks\\', 1, 1, 1, \\'Angus Young, Malcolm Young, Brian Johnson\\', 263497, 8611245, 0.99)]', 'id': 'doc_0'}], document_ids={'doc_0'}),\n",
              "  CohereCitation(start=633, end=639, text='252051', documents=[{'output': '[(1, \\'For Those About To Rock (We Salute You)\\', 1, 1, 1, \\'Angus Young, Malcolm Young, Brian Johnson\\', 343719, 11170334, 0.99), (2, \\'Balls to the Wall\\', 2, 2, 1, None, 342562, 5510424, 0.99), (3, \\'Fast As a Shark\\', 3, 2, 1, \\'F. Baltes, S. Kaufman, U. Dirkscneider & W. Hoffman\\', 230619, 3990994, 0.99), (4, \\'Restless and Wild\\', 3, 2, 1, \\'F. Baltes, R.A. Smith-Diesel, S. Kaufman, U. Dirkscneider & W. Hoffman\\', 252051, 4331779, 0.99), (5, \\'Princess of the Dawn\\', 3, 2, 1, \\'Deaffy & R.A. Smith-Diesel\\', 375418, 6290521, 0.99), (6, \\'Put The Finger On You\\', 1, 1, 1, \\'Angus Young, Malcolm Young, Brian Johnson\\', 205662, 6713451, 0.99), (7, \"Let\\'s Get It Up\", 1, 1, 1, \\'Angus Young, Malcolm Young, Brian Johnson\\', 233926, 7636561, 0.99), (8, \\'Inject The Venom\\', 1, 1, 1, \\'Angus Young, Malcolm Young, Brian Johnson\\', 210834, 6852860, 0.99), (9, \\'Snowballed\\', 1, 1, 1, \\'Angus Young, Malcolm Young, Brian Johnson\\', 203102, 6599424, 0.99), (10, \\'Evil Walks\\', 1, 1, 1, \\'Angus Young, Malcolm Young, Brian Johnson\\', 263497, 8611245, 0.99)]', 'id': 'doc_0'}], document_ids={'doc_0'}),\n",
              "  CohereCitation(start=642, end=649, text='4331779', documents=[{'output': '[(1, \\'For Those About To Rock (We Salute You)\\', 1, 1, 1, \\'Angus Young, Malcolm Young, Brian Johnson\\', 343719, 11170334, 0.99), (2, \\'Balls to the Wall\\', 2, 2, 1, None, 342562, 5510424, 0.99), (3, \\'Fast As a Shark\\', 3, 2, 1, \\'F. Baltes, S. Kaufman, U. Dirkscneider & W. Hoffman\\', 230619, 3990994, 0.99), (4, \\'Restless and Wild\\', 3, 2, 1, \\'F. Baltes, R.A. Smith-Diesel, S. Kaufman, U. Dirkscneider & W. Hoffman\\', 252051, 4331779, 0.99), (5, \\'Princess of the Dawn\\', 3, 2, 1, \\'Deaffy & R.A. Smith-Diesel\\', 375418, 6290521, 0.99), (6, \\'Put The Finger On You\\', 1, 1, 1, \\'Angus Young, Malcolm Young, Brian Johnson\\', 205662, 6713451, 0.99), (7, \"Let\\'s Get It Up\", 1, 1, 1, \\'Angus Young, Malcolm Young, Brian Johnson\\', 233926, 7636561, 0.99), (8, \\'Inject The Venom\\', 1, 1, 1, \\'Angus Young, Malcolm Young, Brian Johnson\\', 210834, 6852860, 0.99), (9, \\'Snowballed\\', 1, 1, 1, \\'Angus Young, Malcolm Young, Brian Johnson\\', 203102, 6599424, 0.99), (10, \\'Evil Walks\\', 1, 1, 1, \\'Angus Young, Malcolm Young, Brian Johnson\\', 263497, 8611245, 0.99)]', 'id': 'doc_0'}], document_ids={'doc_0'}),\n",
              "  CohereCitation(start=652, end=656, text='0.99', documents=[{'output': '[(1, \\'For Those About To Rock (We Salute You)\\', 1, 1, 1, \\'Angus Young, Malcolm Young, Brian Johnson\\', 343719, 11170334, 0.99), (2, \\'Balls to the Wall\\', 2, 2, 1, None, 342562, 5510424, 0.99), (3, \\'Fast As a Shark\\', 3, 2, 1, \\'F. Baltes, S. Kaufman, U. Dirkscneider & W. Hoffman\\', 230619, 3990994, 0.99), (4, \\'Restless and Wild\\', 3, 2, 1, \\'F. Baltes, R.A. Smith-Diesel, S. Kaufman, U. Dirkscneider & W. Hoffman\\', 252051, 4331779, 0.99), (5, \\'Princess of the Dawn\\', 3, 2, 1, \\'Deaffy & R.A. Smith-Diesel\\', 375418, 6290521, 0.99), (6, \\'Put The Finger On You\\', 1, 1, 1, \\'Angus Young, Malcolm Young, Brian Johnson\\', 205662, 6713451, 0.99), (7, \"Let\\'s Get It Up\", 1, 1, 1, \\'Angus Young, Malcolm Young, Brian Johnson\\', 233926, 7636561, 0.99), (8, \\'Inject The Venom\\', 1, 1, 1, \\'Angus Young, Malcolm Young, Brian Johnson\\', 210834, 6852860, 0.99), (9, \\'Snowballed\\', 1, 1, 1, \\'Angus Young, Malcolm Young, Brian Johnson\\', 203102, 6599424, 0.99), (10, \\'Evil Walks\\', 1, 1, 1, \\'Angus Young, Malcolm Young, Brian Johnson\\', 263497, 8611245, 0.99)]', 'id': 'doc_0'}], document_ids={'doc_0'}),\n",
              "  CohereCitation(start=661, end=662, text='5', documents=[{'output': '[(1, \\'For Those About To Rock (We Salute You)\\', 1, 1, 1, \\'Angus Young, Malcolm Young, Brian Johnson\\', 343719, 11170334, 0.99), (2, \\'Balls to the Wall\\', 2, 2, 1, None, 342562, 5510424, 0.99), (3, \\'Fast As a Shark\\', 3, 2, 1, \\'F. Baltes, S. Kaufman, U. Dirkscneider & W. Hoffman\\', 230619, 3990994, 0.99), (4, \\'Restless and Wild\\', 3, 2, 1, \\'F. Baltes, R.A. Smith-Diesel, S. Kaufman, U. Dirkscneider & W. Hoffman\\', 252051, 4331779, 0.99), (5, \\'Princess of the Dawn\\', 3, 2, 1, \\'Deaffy & R.A. Smith-Diesel\\', 375418, 6290521, 0.99), (6, \\'Put The Finger On You\\', 1, 1, 1, \\'Angus Young, Malcolm Young, Brian Johnson\\', 205662, 6713451, 0.99), (7, \"Let\\'s Get It Up\", 1, 1, 1, \\'Angus Young, Malcolm Young, Brian Johnson\\', 233926, 7636561, 0.99), (8, \\'Inject The Venom\\', 1, 1, 1, \\'Angus Young, Malcolm Young, Brian Johnson\\', 210834, 6852860, 0.99), (9, \\'Snowballed\\', 1, 1, 1, \\'Angus Young, Malcolm Young, Brian Johnson\\', 203102, 6599424, 0.99), (10, \\'Evil Walks\\', 1, 1, 1, \\'Angus Young, Malcolm Young, Brian Johnson\\', 263497, 8611245, 0.99)]', 'id': 'doc_0'}], document_ids={'doc_0'}),\n",
              "  CohereCitation(start=665, end=685, text='Princess of the Dawn', documents=[{'output': '[(1, \\'For Those About To Rock (We Salute You)\\', 1, 1, 1, \\'Angus Young, Malcolm Young, Brian Johnson\\', 343719, 11170334, 0.99), (2, \\'Balls to the Wall\\', 2, 2, 1, None, 342562, 5510424, 0.99), (3, \\'Fast As a Shark\\', 3, 2, 1, \\'F. Baltes, S. Kaufman, U. Dirkscneider & W. Hoffman\\', 230619, 3990994, 0.99), (4, \\'Restless and Wild\\', 3, 2, 1, \\'F. Baltes, R.A. Smith-Diesel, S. Kaufman, U. Dirkscneider & W. Hoffman\\', 252051, 4331779, 0.99), (5, \\'Princess of the Dawn\\', 3, 2, 1, \\'Deaffy & R.A. Smith-Diesel\\', 375418, 6290521, 0.99), (6, \\'Put The Finger On You\\', 1, 1, 1, \\'Angus Young, Malcolm Young, Brian Johnson\\', 205662, 6713451, 0.99), (7, \"Let\\'s Get It Up\", 1, 1, 1, \\'Angus Young, Malcolm Young, Brian Johnson\\', 233926, 7636561, 0.99), (8, \\'Inject The Venom\\', 1, 1, 1, \\'Angus Young, Malcolm Young, Brian Johnson\\', 210834, 6852860, 0.99), (9, \\'Snowballed\\', 1, 1, 1, \\'Angus Young, Malcolm Young, Brian Johnson\\', 203102, 6599424, 0.99), (10, \\'Evil Walks\\', 1, 1, 1, \\'Angus Young, Malcolm Young, Brian Johnson\\', 263497, 8611245, 0.99)]', 'id': 'doc_0'}], document_ids={'doc_0'}),\n",
              "  CohereCitation(start=688, end=689, text='3', documents=[{'output': '[(1, \\'For Those About To Rock (We Salute You)\\', 1, 1, 1, \\'Angus Young, Malcolm Young, Brian Johnson\\', 343719, 11170334, 0.99), (2, \\'Balls to the Wall\\', 2, 2, 1, None, 342562, 5510424, 0.99), (3, \\'Fast As a Shark\\', 3, 2, 1, \\'F. Baltes, S. Kaufman, U. Dirkscneider & W. Hoffman\\', 230619, 3990994, 0.99), (4, \\'Restless and Wild\\', 3, 2, 1, \\'F. Baltes, R.A. Smith-Diesel, S. Kaufman, U. Dirkscneider & W. Hoffman\\', 252051, 4331779, 0.99), (5, \\'Princess of the Dawn\\', 3, 2, 1, \\'Deaffy & R.A. Smith-Diesel\\', 375418, 6290521, 0.99), (6, \\'Put The Finger On You\\', 1, 1, 1, \\'Angus Young, Malcolm Young, Brian Johnson\\', 205662, 6713451, 0.99), (7, \"Let\\'s Get It Up\", 1, 1, 1, \\'Angus Young, Malcolm Young, Brian Johnson\\', 233926, 7636561, 0.99), (8, \\'Inject The Venom\\', 1, 1, 1, \\'Angus Young, Malcolm Young, Brian Johnson\\', 210834, 6852860, 0.99), (9, \\'Snowballed\\', 1, 1, 1, \\'Angus Young, Malcolm Young, Brian Johnson\\', 203102, 6599424, 0.99), (10, \\'Evil Walks\\', 1, 1, 1, \\'Angus Young, Malcolm Young, Brian Johnson\\', 263497, 8611245, 0.99)]', 'id': 'doc_0'}], document_ids={'doc_0'}),\n",
              "  CohereCitation(start=692, end=693, text='2', documents=[{'output': '[(1, \\'For Those About To Rock (We Salute You)\\', 1, 1, 1, \\'Angus Young, Malcolm Young, Brian Johnson\\', 343719, 11170334, 0.99), (2, \\'Balls to the Wall\\', 2, 2, 1, None, 342562, 5510424, 0.99), (3, \\'Fast As a Shark\\', 3, 2, 1, \\'F. Baltes, S. Kaufman, U. Dirkscneider & W. Hoffman\\', 230619, 3990994, 0.99), (4, \\'Restless and Wild\\', 3, 2, 1, \\'F. Baltes, R.A. Smith-Diesel, S. Kaufman, U. Dirkscneider & W. Hoffman\\', 252051, 4331779, 0.99), (5, \\'Princess of the Dawn\\', 3, 2, 1, \\'Deaffy & R.A. Smith-Diesel\\', 375418, 6290521, 0.99), (6, \\'Put The Finger On You\\', 1, 1, 1, \\'Angus Young, Malcolm Young, Brian Johnson\\', 205662, 6713451, 0.99), (7, \"Let\\'s Get It Up\", 1, 1, 1, \\'Angus Young, Malcolm Young, Brian Johnson\\', 233926, 7636561, 0.99), (8, \\'Inject The Venom\\', 1, 1, 1, \\'Angus Young, Malcolm Young, Brian Johnson\\', 210834, 6852860, 0.99), (9, \\'Snowballed\\', 1, 1, 1, \\'Angus Young, Malcolm Young, Brian Johnson\\', 203102, 6599424, 0.99), (10, \\'Evil Walks\\', 1, 1, 1, \\'Angus Young, Malcolm Young, Brian Johnson\\', 263497, 8611245, 0.99)]', 'id': 'doc_0'}], document_ids={'doc_0'}),\n",
              "  CohereCitation(start=696, end=697, text='1', documents=[{'output': '[(1, \\'For Those About To Rock (We Salute You)\\', 1, 1, 1, \\'Angus Young, Malcolm Young, Brian Johnson\\', 343719, 11170334, 0.99), (2, \\'Balls to the Wall\\', 2, 2, 1, None, 342562, 5510424, 0.99), (3, \\'Fast As a Shark\\', 3, 2, 1, \\'F. Baltes, S. Kaufman, U. Dirkscneider & W. Hoffman\\', 230619, 3990994, 0.99), (4, \\'Restless and Wild\\', 3, 2, 1, \\'F. Baltes, R.A. Smith-Diesel, S. Kaufman, U. Dirkscneider & W. Hoffman\\', 252051, 4331779, 0.99), (5, \\'Princess of the Dawn\\', 3, 2, 1, \\'Deaffy & R.A. Smith-Diesel\\', 375418, 6290521, 0.99), (6, \\'Put The Finger On You\\', 1, 1, 1, \\'Angus Young, Malcolm Young, Brian Johnson\\', 205662, 6713451, 0.99), (7, \"Let\\'s Get It Up\", 1, 1, 1, \\'Angus Young, Malcolm Young, Brian Johnson\\', 233926, 7636561, 0.99), (8, \\'Inject The Venom\\', 1, 1, 1, \\'Angus Young, Malcolm Young, Brian Johnson\\', 210834, 6852860, 0.99), (9, \\'Snowballed\\', 1, 1, 1, \\'Angus Young, Malcolm Young, Brian Johnson\\', 203102, 6599424, 0.99), (10, \\'Evil Walks\\', 1, 1, 1, \\'Angus Young, Malcolm Young, Brian Johnson\\', 263497, 8611245, 0.99)]', 'id': 'doc_0'}], document_ids={'doc_0'}),\n",
              "  CohereCitation(start=700, end=726, text='Deaffy & R.A. Smith-Diesel', documents=[{'output': '[(1, \\'For Those About To Rock (We Salute You)\\', 1, 1, 1, \\'Angus Young, Malcolm Young, Brian Johnson\\', 343719, 11170334, 0.99), (2, \\'Balls to the Wall\\', 2, 2, 1, None, 342562, 5510424, 0.99), (3, \\'Fast As a Shark\\', 3, 2, 1, \\'F. Baltes, S. Kaufman, U. Dirkscneider & W. Hoffman\\', 230619, 3990994, 0.99), (4, \\'Restless and Wild\\', 3, 2, 1, \\'F. Baltes, R.A. Smith-Diesel, S. Kaufman, U. Dirkscneider & W. Hoffman\\', 252051, 4331779, 0.99), (5, \\'Princess of the Dawn\\', 3, 2, 1, \\'Deaffy & R.A. Smith-Diesel\\', 375418, 6290521, 0.99), (6, \\'Put The Finger On You\\', 1, 1, 1, \\'Angus Young, Malcolm Young, Brian Johnson\\', 205662, 6713451, 0.99), (7, \"Let\\'s Get It Up\", 1, 1, 1, \\'Angus Young, Malcolm Young, Brian Johnson\\', 233926, 7636561, 0.99), (8, \\'Inject The Venom\\', 1, 1, 1, \\'Angus Young, Malcolm Young, Brian Johnson\\', 210834, 6852860, 0.99), (9, \\'Snowballed\\', 1, 1, 1, \\'Angus Young, Malcolm Young, Brian Johnson\\', 203102, 6599424, 0.99), (10, \\'Evil Walks\\', 1, 1, 1, \\'Angus Young, Malcolm Young, Brian Johnson\\', 263497, 8611245, 0.99)]', 'id': 'doc_0'}], document_ids={'doc_0'}),\n",
              "  CohereCitation(start=729, end=735, text='375418', documents=[{'output': '[(1, \\'For Those About To Rock (We Salute You)\\', 1, 1, 1, \\'Angus Young, Malcolm Young, Brian Johnson\\', 343719, 11170334, 0.99), (2, \\'Balls to the Wall\\', 2, 2, 1, None, 342562, 5510424, 0.99), (3, \\'Fast As a Shark\\', 3, 2, 1, \\'F. Baltes, S. Kaufman, U. Dirkscneider & W. Hoffman\\', 230619, 3990994, 0.99), (4, \\'Restless and Wild\\', 3, 2, 1, \\'F. Baltes, R.A. Smith-Diesel, S. Kaufman, U. Dirkscneider & W. Hoffman\\', 252051, 4331779, 0.99), (5, \\'Princess of the Dawn\\', 3, 2, 1, \\'Deaffy & R.A. Smith-Diesel\\', 375418, 6290521, 0.99), (6, \\'Put The Finger On You\\', 1, 1, 1, \\'Angus Young, Malcolm Young, Brian Johnson\\', 205662, 6713451, 0.99), (7, \"Let\\'s Get It Up\", 1, 1, 1, \\'Angus Young, Malcolm Young, Brian Johnson\\', 233926, 7636561, 0.99), (8, \\'Inject The Venom\\', 1, 1, 1, \\'Angus Young, Malcolm Young, Brian Johnson\\', 210834, 6852860, 0.99), (9, \\'Snowballed\\', 1, 1, 1, \\'Angus Young, Malcolm Young, Brian Johnson\\', 203102, 6599424, 0.99), (10, \\'Evil Walks\\', 1, 1, 1, \\'Angus Young, Malcolm Young, Brian Johnson\\', 263497, 8611245, 0.99)]', 'id': 'doc_0'}], document_ids={'doc_0'}),\n",
              "  CohereCitation(start=738, end=745, text='6290521', documents=[{'output': '[(1, \\'For Those About To Rock (We Salute You)\\', 1, 1, 1, \\'Angus Young, Malcolm Young, Brian Johnson\\', 343719, 11170334, 0.99), (2, \\'Balls to the Wall\\', 2, 2, 1, None, 342562, 5510424, 0.99), (3, \\'Fast As a Shark\\', 3, 2, 1, \\'F. Baltes, S. Kaufman, U. Dirkscneider & W. Hoffman\\', 230619, 3990994, 0.99), (4, \\'Restless and Wild\\', 3, 2, 1, \\'F. Baltes, R.A. Smith-Diesel, S. Kaufman, U. Dirkscneider & W. Hoffman\\', 252051, 4331779, 0.99), (5, \\'Princess of the Dawn\\', 3, 2, 1, \\'Deaffy & R.A. Smith-Diesel\\', 375418, 6290521, 0.99), (6, \\'Put The Finger On You\\', 1, 1, 1, \\'Angus Young, Malcolm Young, Brian Johnson\\', 205662, 6713451, 0.99), (7, \"Let\\'s Get It Up\", 1, 1, 1, \\'Angus Young, Malcolm Young, Brian Johnson\\', 233926, 7636561, 0.99), (8, \\'Inject The Venom\\', 1, 1, 1, \\'Angus Young, Malcolm Young, Brian Johnson\\', 210834, 6852860, 0.99), (9, \\'Snowballed\\', 1, 1, 1, \\'Angus Young, Malcolm Young, Brian Johnson\\', 203102, 6599424, 0.99), (10, \\'Evil Walks\\', 1, 1, 1, \\'Angus Young, Malcolm Young, Brian Johnson\\', 263497, 8611245, 0.99)]', 'id': 'doc_0'}], document_ids={'doc_0'}),\n",
              "  CohereCitation(start=748, end=752, text='0.99', documents=[{'output': '[(1, \\'For Those About To Rock (We Salute You)\\', 1, 1, 1, \\'Angus Young, Malcolm Young, Brian Johnson\\', 343719, 11170334, 0.99), (2, \\'Balls to the Wall\\', 2, 2, 1, None, 342562, 5510424, 0.99), (3, \\'Fast As a Shark\\', 3, 2, 1, \\'F. Baltes, S. Kaufman, U. Dirkscneider & W. Hoffman\\', 230619, 3990994, 0.99), (4, \\'Restless and Wild\\', 3, 2, 1, \\'F. Baltes, R.A. Smith-Diesel, S. Kaufman, U. Dirkscneider & W. Hoffman\\', 252051, 4331779, 0.99), (5, \\'Princess of the Dawn\\', 3, 2, 1, \\'Deaffy & R.A. Smith-Diesel\\', 375418, 6290521, 0.99), (6, \\'Put The Finger On You\\', 1, 1, 1, \\'Angus Young, Malcolm Young, Brian Johnson\\', 205662, 6713451, 0.99), (7, \"Let\\'s Get It Up\", 1, 1, 1, \\'Angus Young, Malcolm Young, Brian Johnson\\', 233926, 7636561, 0.99), (8, \\'Inject The Venom\\', 1, 1, 1, \\'Angus Young, Malcolm Young, Brian Johnson\\', 210834, 6852860, 0.99), (9, \\'Snowballed\\', 1, 1, 1, \\'Angus Young, Malcolm Young, Brian Johnson\\', 203102, 6599424, 0.99), (10, \\'Evil Walks\\', 1, 1, 1, \\'Angus Young, Malcolm Young, Brian Johnson\\', 263497, 8611245, 0.99)]', 'id': 'doc_0'}], document_ids={'doc_0'}),\n",
              "  CohereCitation(start=757, end=758, text='6', documents=[{'output': '[(1, \\'For Those About To Rock (We Salute You)\\', 1, 1, 1, \\'Angus Young, Malcolm Young, Brian Johnson\\', 343719, 11170334, 0.99), (2, \\'Balls to the Wall\\', 2, 2, 1, None, 342562, 5510424, 0.99), (3, \\'Fast As a Shark\\', 3, 2, 1, \\'F. Baltes, S. Kaufman, U. Dirkscneider & W. Hoffman\\', 230619, 3990994, 0.99), (4, \\'Restless and Wild\\', 3, 2, 1, \\'F. Baltes, R.A. Smith-Diesel, S. Kaufman, U. Dirkscneider & W. Hoffman\\', 252051, 4331779, 0.99), (5, \\'Princess of the Dawn\\', 3, 2, 1, \\'Deaffy & R.A. Smith-Diesel\\', 375418, 6290521, 0.99), (6, \\'Put The Finger On You\\', 1, 1, 1, \\'Angus Young, Malcolm Young, Brian Johnson\\', 205662, 6713451, 0.99), (7, \"Let\\'s Get It Up\", 1, 1, 1, \\'Angus Young, Malcolm Young, Brian Johnson\\', 233926, 7636561, 0.99), (8, \\'Inject The Venom\\', 1, 1, 1, \\'Angus Young, Malcolm Young, Brian Johnson\\', 210834, 6852860, 0.99), (9, \\'Snowballed\\', 1, 1, 1, \\'Angus Young, Malcolm Young, Brian Johnson\\', 203102, 6599424, 0.99), (10, \\'Evil Walks\\', 1, 1, 1, \\'Angus Young, Malcolm Young, Brian Johnson\\', 263497, 8611245, 0.99)]', 'id': 'doc_0'}], document_ids={'doc_0'}),\n",
              "  CohereCitation(start=761, end=782, text='Put The Finger On You', documents=[{'output': '[(1, \\'For Those About To Rock (We Salute You)\\', 1, 1, 1, \\'Angus Young, Malcolm Young, Brian Johnson\\', 343719, 11170334, 0.99), (2, \\'Balls to the Wall\\', 2, 2, 1, None, 342562, 5510424, 0.99), (3, \\'Fast As a Shark\\', 3, 2, 1, \\'F. Baltes, S. Kaufman, U. Dirkscneider & W. Hoffman\\', 230619, 3990994, 0.99), (4, \\'Restless and Wild\\', 3, 2, 1, \\'F. Baltes, R.A. Smith-Diesel, S. Kaufman, U. Dirkscneider & W. Hoffman\\', 252051, 4331779, 0.99), (5, \\'Princess of the Dawn\\', 3, 2, 1, \\'Deaffy & R.A. Smith-Diesel\\', 375418, 6290521, 0.99), (6, \\'Put The Finger On You\\', 1, 1, 1, \\'Angus Young, Malcolm Young, Brian Johnson\\', 205662, 6713451, 0.99), (7, \"Let\\'s Get It Up\", 1, 1, 1, \\'Angus Young, Malcolm Young, Brian Johnson\\', 233926, 7636561, 0.99), (8, \\'Inject The Venom\\', 1, 1, 1, \\'Angus Young, Malcolm Young, Brian Johnson\\', 210834, 6852860, 0.99), (9, \\'Snowballed\\', 1, 1, 1, \\'Angus Young, Malcolm Young, Brian Johnson\\', 203102, 6599424, 0.99), (10, \\'Evil Walks\\', 1, 1, 1, \\'Angus Young, Malcolm Young, Brian Johnson\\', 263497, 8611245, 0.99)]', 'id': 'doc_0'}], document_ids={'doc_0'}),\n",
              "  CohereCitation(start=785, end=786, text='1', documents=[{'output': '[(1, \\'For Those About To Rock (We Salute You)\\', 1, 1, 1, \\'Angus Young, Malcolm Young, Brian Johnson\\', 343719, 11170334, 0.99), (2, \\'Balls to the Wall\\', 2, 2, 1, None, 342562, 5510424, 0.99), (3, \\'Fast As a Shark\\', 3, 2, 1, \\'F. Baltes, S. Kaufman, U. Dirkscneider & W. Hoffman\\', 230619, 3990994, 0.99), (4, \\'Restless and Wild\\', 3, 2, 1, \\'F. Baltes, R.A. Smith-Diesel, S. Kaufman, U. Dirkscneider & W. Hoffman\\', 252051, 4331779, 0.99), (5, \\'Princess of the Dawn\\', 3, 2, 1, \\'Deaffy & R.A. Smith-Diesel\\', 375418, 6290521, 0.99), (6, \\'Put The Finger On You\\', 1, 1, 1, \\'Angus Young, Malcolm Young, Brian Johnson\\', 205662, 6713451, 0.99), (7, \"Let\\'s Get It Up\", 1, 1, 1, \\'Angus Young, Malcolm Young, Brian Johnson\\', 233926, 7636561, 0.99), (8, \\'Inject The Venom\\', 1, 1, 1, \\'Angus Young, Malcolm Young, Brian Johnson\\', 210834, 6852860, 0.99), (9, \\'Snowballed\\', 1, 1, 1, \\'Angus Young, Malcolm Young, Brian Johnson\\', 203102, 6599424, 0.99), (10, \\'Evil Walks\\', 1, 1, 1, \\'Angus Young, Malcolm Young, Brian Johnson\\', 263497, 8611245, 0.99)]', 'id': 'doc_0'}], document_ids={'doc_0'}),\n",
              "  CohereCitation(start=789, end=790, text='1', documents=[{'output': '[(1, \\'For Those About To Rock (We Salute You)\\', 1, 1, 1, \\'Angus Young, Malcolm Young, Brian Johnson\\', 343719, 11170334, 0.99), (2, \\'Balls to the Wall\\', 2, 2, 1, None, 342562, 5510424, 0.99), (3, \\'Fast As a Shark\\', 3, 2, 1, \\'F. Baltes, S. Kaufman, U. Dirkscneider & W. Hoffman\\', 230619, 3990994, 0.99), (4, \\'Restless and Wild\\', 3, 2, 1, \\'F. Baltes, R.A. Smith-Diesel, S. Kaufman, U. Dirkscneider & W. Hoffman\\', 252051, 4331779, 0.99), (5, \\'Princess of the Dawn\\', 3, 2, 1, \\'Deaffy & R.A. Smith-Diesel\\', 375418, 6290521, 0.99), (6, \\'Put The Finger On You\\', 1, 1, 1, \\'Angus Young, Malcolm Young, Brian Johnson\\', 205662, 6713451, 0.99), (7, \"Let\\'s Get It Up\", 1, 1, 1, \\'Angus Young, Malcolm Young, Brian Johnson\\', 233926, 7636561, 0.99), (8, \\'Inject The Venom\\', 1, 1, 1, \\'Angus Young, Malcolm Young, Brian Johnson\\', 210834, 6852860, 0.99), (9, \\'Snowballed\\', 1, 1, 1, \\'Angus Young, Malcolm Young, Brian Johnson\\', 203102, 6599424, 0.99), (10, \\'Evil Walks\\', 1, 1, 1, \\'Angus Young, Malcolm Young, Brian Johnson\\', 263497, 8611245, 0.99)]', 'id': 'doc_0'}], document_ids={'doc_0'}),\n",
              "  CohereCitation(start=793, end=794, text='1', documents=[{'output': '[(1, \\'For Those About To Rock (We Salute You)\\', 1, 1, 1, \\'Angus Young, Malcolm Young, Brian Johnson\\', 343719, 11170334, 0.99), (2, \\'Balls to the Wall\\', 2, 2, 1, None, 342562, 5510424, 0.99), (3, \\'Fast As a Shark\\', 3, 2, 1, \\'F. Baltes, S. Kaufman, U. Dirkscneider & W. Hoffman\\', 230619, 3990994, 0.99), (4, \\'Restless and Wild\\', 3, 2, 1, \\'F. Baltes, R.A. Smith-Diesel, S. Kaufman, U. Dirkscneider & W. Hoffman\\', 252051, 4331779, 0.99), (5, \\'Princess of the Dawn\\', 3, 2, 1, \\'Deaffy & R.A. Smith-Diesel\\', 375418, 6290521, 0.99), (6, \\'Put The Finger On You\\', 1, 1, 1, \\'Angus Young, Malcolm Young, Brian Johnson\\', 205662, 6713451, 0.99), (7, \"Let\\'s Get It Up\", 1, 1, 1, \\'Angus Young, Malcolm Young, Brian Johnson\\', 233926, 7636561, 0.99), (8, \\'Inject The Venom\\', 1, 1, 1, \\'Angus Young, Malcolm Young, Brian Johnson\\', 210834, 6852860, 0.99), (9, \\'Snowballed\\', 1, 1, 1, \\'Angus Young, Malcolm Young, Brian Johnson\\', 203102, 6599424, 0.99), (10, \\'Evil Walks\\', 1, 1, 1, \\'Angus Young, Malcolm Young, Brian Johnson\\', 263497, 8611245, 0.99)]', 'id': 'doc_0'}], document_ids={'doc_0'}),\n",
              "  CohereCitation(start=797, end=838, text='Angus Young, Malcolm Young, Brian Johnson', documents=[{'output': '[(1, \\'For Those About To Rock (We Salute You)\\', 1, 1, 1, \\'Angus Young, Malcolm Young, Brian Johnson\\', 343719, 11170334, 0.99), (2, \\'Balls to the Wall\\', 2, 2, 1, None, 342562, 5510424, 0.99), (3, \\'Fast As a Shark\\', 3, 2, 1, \\'F. Baltes, S. Kaufman, U. Dirkscneider & W. Hoffman\\', 230619, 3990994, 0.99), (4, \\'Restless and Wild\\', 3, 2, 1, \\'F. Baltes, R.A. Smith-Diesel, S. Kaufman, U. Dirkscneider & W. Hoffman\\', 252051, 4331779, 0.99), (5, \\'Princess of the Dawn\\', 3, 2, 1, \\'Deaffy & R.A. Smith-Diesel\\', 375418, 6290521, 0.99), (6, \\'Put The Finger On You\\', 1, 1, 1, \\'Angus Young, Malcolm Young, Brian Johnson\\', 205662, 6713451, 0.99), (7, \"Let\\'s Get It Up\", 1, 1, 1, \\'Angus Young, Malcolm Young, Brian Johnson\\', 233926, 7636561, 0.99), (8, \\'Inject The Venom\\', 1, 1, 1, \\'Angus Young, Malcolm Young, Brian Johnson\\', 210834, 6852860, 0.99), (9, \\'Snowballed\\', 1, 1, 1, \\'Angus Young, Malcolm Young, Brian Johnson\\', 203102, 6599424, 0.99), (10, \\'Evil Walks\\', 1, 1, 1, \\'Angus Young, Malcolm Young, Brian Johnson\\', 263497, 8611245, 0.99)]', 'id': 'doc_0'}], document_ids={'doc_0'}),\n",
              "  CohereCitation(start=841, end=847, text='205662', documents=[{'output': '[(1, \\'For Those About To Rock (We Salute You)\\', 1, 1, 1, \\'Angus Young, Malcolm Young, Brian Johnson\\', 343719, 11170334, 0.99), (2, \\'Balls to the Wall\\', 2, 2, 1, None, 342562, 5510424, 0.99), (3, \\'Fast As a Shark\\', 3, 2, 1, \\'F. Baltes, S. Kaufman, U. Dirkscneider & W. Hoffman\\', 230619, 3990994, 0.99), (4, \\'Restless and Wild\\', 3, 2, 1, \\'F. Baltes, R.A. Smith-Diesel, S. Kaufman, U. Dirkscneider & W. Hoffman\\', 252051, 4331779, 0.99), (5, \\'Princess of the Dawn\\', 3, 2, 1, \\'Deaffy & R.A. Smith-Diesel\\', 375418, 6290521, 0.99), (6, \\'Put The Finger On You\\', 1, 1, 1, \\'Angus Young, Malcolm Young, Brian Johnson\\', 205662, 6713451, 0.99), (7, \"Let\\'s Get It Up\", 1, 1, 1, \\'Angus Young, Malcolm Young, Brian Johnson\\', 233926, 7636561, 0.99), (8, \\'Inject The Venom\\', 1, 1, 1, \\'Angus Young, Malcolm Young, Brian Johnson\\', 210834, 6852860, 0.99), (9, \\'Snowballed\\', 1, 1, 1, \\'Angus Young, Malcolm Young, Brian Johnson\\', 203102, 6599424, 0.99), (10, \\'Evil Walks\\', 1, 1, 1, \\'Angus Young, Malcolm Young, Brian Johnson\\', 263497, 8611245, 0.99)]', 'id': 'doc_0'}], document_ids={'doc_0'}),\n",
              "  CohereCitation(start=850, end=857, text='6713451', documents=[{'output': '[(1, \\'For Those About To Rock (We Salute You)\\', 1, 1, 1, \\'Angus Young, Malcolm Young, Brian Johnson\\', 343719, 11170334, 0.99), (2, \\'Balls to the Wall\\', 2, 2, 1, None, 342562, 5510424, 0.99), (3, \\'Fast As a Shark\\', 3, 2, 1, \\'F. Baltes, S. Kaufman, U. Dirkscneider & W. Hoffman\\', 230619, 3990994, 0.99), (4, \\'Restless and Wild\\', 3, 2, 1, \\'F. Baltes, R.A. Smith-Diesel, S. Kaufman, U. Dirkscneider & W. Hoffman\\', 252051, 4331779, 0.99), (5, \\'Princess of the Dawn\\', 3, 2, 1, \\'Deaffy & R.A. Smith-Diesel\\', 375418, 6290521, 0.99), (6, \\'Put The Finger On You\\', 1, 1, 1, \\'Angus Young, Malcolm Young, Brian Johnson\\', 205662, 6713451, 0.99), (7, \"Let\\'s Get It Up\", 1, 1, 1, \\'Angus Young, Malcolm Young, Brian Johnson\\', 233926, 7636561, 0.99), (8, \\'Inject The Venom\\', 1, 1, 1, \\'Angus Young, Malcolm Young, Brian Johnson\\', 210834, 6852860, 0.99), (9, \\'Snowballed\\', 1, 1, 1, \\'Angus Young, Malcolm Young, Brian Johnson\\', 203102, 6599424, 0.99), (10, \\'Evil Walks\\', 1, 1, 1, \\'Angus Young, Malcolm Young, Brian Johnson\\', 263497, 8611245, 0.99)]', 'id': 'doc_0'}], document_ids={'doc_0'}),\n",
              "  CohereCitation(start=860, end=864, text='0.99', documents=[{'output': '[(1, \\'For Those About To Rock (We Salute You)\\', 1, 1, 1, \\'Angus Young, Malcolm Young, Brian Johnson\\', 343719, 11170334, 0.99), (2, \\'Balls to the Wall\\', 2, 2, 1, None, 342562, 5510424, 0.99), (3, \\'Fast As a Shark\\', 3, 2, 1, \\'F. Baltes, S. Kaufman, U. Dirkscneider & W. Hoffman\\', 230619, 3990994, 0.99), (4, \\'Restless and Wild\\', 3, 2, 1, \\'F. Baltes, R.A. Smith-Diesel, S. Kaufman, U. Dirkscneider & W. Hoffman\\', 252051, 4331779, 0.99), (5, \\'Princess of the Dawn\\', 3, 2, 1, \\'Deaffy & R.A. Smith-Diesel\\', 375418, 6290521, 0.99), (6, \\'Put The Finger On You\\', 1, 1, 1, \\'Angus Young, Malcolm Young, Brian Johnson\\', 205662, 6713451, 0.99), (7, \"Let\\'s Get It Up\", 1, 1, 1, \\'Angus Young, Malcolm Young, Brian Johnson\\', 233926, 7636561, 0.99), (8, \\'Inject The Venom\\', 1, 1, 1, \\'Angus Young, Malcolm Young, Brian Johnson\\', 210834, 6852860, 0.99), (9, \\'Snowballed\\', 1, 1, 1, \\'Angus Young, Malcolm Young, Brian Johnson\\', 203102, 6599424, 0.99), (10, \\'Evil Walks\\', 1, 1, 1, \\'Angus Young, Malcolm Young, Brian Johnson\\', 263497, 8611245, 0.99)]', 'id': 'doc_0'}], document_ids={'doc_0'}),\n",
              "  CohereCitation(start=869, end=870, text='7', documents=[{'output': '[(1, \\'For Those About To Rock (We Salute You)\\', 1, 1, 1, \\'Angus Young, Malcolm Young, Brian Johnson\\', 343719, 11170334, 0.99), (2, \\'Balls to the Wall\\', 2, 2, 1, None, 342562, 5510424, 0.99), (3, \\'Fast As a Shark\\', 3, 2, 1, \\'F. Baltes, S. Kaufman, U. Dirkscneider & W. Hoffman\\', 230619, 3990994, 0.99), (4, \\'Restless and Wild\\', 3, 2, 1, \\'F. Baltes, R.A. Smith-Diesel, S. Kaufman, U. Dirkscneider & W. Hoffman\\', 252051, 4331779, 0.99), (5, \\'Princess of the Dawn\\', 3, 2, 1, \\'Deaffy & R.A. Smith-Diesel\\', 375418, 6290521, 0.99), (6, \\'Put The Finger On You\\', 1, 1, 1, \\'Angus Young, Malcolm Young, Brian Johnson\\', 205662, 6713451, 0.99), (7, \"Let\\'s Get It Up\", 1, 1, 1, \\'Angus Young, Malcolm Young, Brian Johnson\\', 233926, 7636561, 0.99), (8, \\'Inject The Venom\\', 1, 1, 1, \\'Angus Young, Malcolm Young, Brian Johnson\\', 210834, 6852860, 0.99), (9, \\'Snowballed\\', 1, 1, 1, \\'Angus Young, Malcolm Young, Brian Johnson\\', 203102, 6599424, 0.99), (10, \\'Evil Walks\\', 1, 1, 1, \\'Angus Young, Malcolm Young, Brian Johnson\\', 263497, 8611245, 0.99)]', 'id': 'doc_0'}], document_ids={'doc_0'}),\n",
              "  CohereCitation(start=873, end=888, text=\"Let's Get It Up\", documents=[{'output': '[(1, \\'For Those About To Rock (We Salute You)\\', 1, 1, 1, \\'Angus Young, Malcolm Young, Brian Johnson\\', 343719, 11170334, 0.99), (2, \\'Balls to the Wall\\', 2, 2, 1, None, 342562, 5510424, 0.99), (3, \\'Fast As a Shark\\', 3, 2, 1, \\'F. Baltes, S. Kaufman, U. Dirkscneider & W. Hoffman\\', 230619, 3990994, 0.99), (4, \\'Restless and Wild\\', 3, 2, 1, \\'F. Baltes, R.A. Smith-Diesel, S. Kaufman, U. Dirkscneider & W. Hoffman\\', 252051, 4331779, 0.99), (5, \\'Princess of the Dawn\\', 3, 2, 1, \\'Deaffy & R.A. Smith-Diesel\\', 375418, 6290521, 0.99), (6, \\'Put The Finger On You\\', 1, 1, 1, \\'Angus Young, Malcolm Young, Brian Johnson\\', 205662, 6713451, 0.99), (7, \"Let\\'s Get It Up\", 1, 1, 1, \\'Angus Young, Malcolm Young, Brian Johnson\\', 233926, 7636561, 0.99), (8, \\'Inject The Venom\\', 1, 1, 1, \\'Angus Young, Malcolm Young, Brian Johnson\\', 210834, 6852860, 0.99), (9, \\'Snowballed\\', 1, 1, 1, \\'Angus Young, Malcolm Young, Brian Johnson\\', 203102, 6599424, 0.99), (10, \\'Evil Walks\\', 1, 1, 1, \\'Angus Young, Malcolm Young, Brian Johnson\\', 263497, 8611245, 0.99)]', 'id': 'doc_0'}], document_ids={'doc_0'}),\n",
              "  CohereCitation(start=891, end=892, text='1', documents=[{'output': '[(1, \\'For Those About To Rock (We Salute You)\\', 1, 1, 1, \\'Angus Young, Malcolm Young, Brian Johnson\\', 343719, 11170334, 0.99), (2, \\'Balls to the Wall\\', 2, 2, 1, None, 342562, 5510424, 0.99), (3, \\'Fast As a Shark\\', 3, 2, 1, \\'F. Baltes, S. Kaufman, U. Dirkscneider & W. Hoffman\\', 230619, 3990994, 0.99), (4, \\'Restless and Wild\\', 3, 2, 1, \\'F. Baltes, R.A. Smith-Diesel, S. Kaufman, U. Dirkscneider & W. Hoffman\\', 252051, 4331779, 0.99), (5, \\'Princess of the Dawn\\', 3, 2, 1, \\'Deaffy & R.A. Smith-Diesel\\', 375418, 6290521, 0.99), (6, \\'Put The Finger On You\\', 1, 1, 1, \\'Angus Young, Malcolm Young, Brian Johnson\\', 205662, 6713451, 0.99), (7, \"Let\\'s Get It Up\", 1, 1, 1, \\'Angus Young, Malcolm Young, Brian Johnson\\', 233926, 7636561, 0.99), (8, \\'Inject The Venom\\', 1, 1, 1, \\'Angus Young, Malcolm Young, Brian Johnson\\', 210834, 6852860, 0.99), (9, \\'Snowballed\\', 1, 1, 1, \\'Angus Young, Malcolm Young, Brian Johnson\\', 203102, 6599424, 0.99), (10, \\'Evil Walks\\', 1, 1, 1, \\'Angus Young, Malcolm Young, Brian Johnson\\', 263497, 8611245, 0.99)]', 'id': 'doc_0'}], document_ids={'doc_0'}),\n",
              "  CohereCitation(start=895, end=896, text='1', documents=[{'output': '[(1, \\'For Those About To Rock (We Salute You)\\', 1, 1, 1, \\'Angus Young, Malcolm Young, Brian Johnson\\', 343719, 11170334, 0.99), (2, \\'Balls to the Wall\\', 2, 2, 1, None, 342562, 5510424, 0.99), (3, \\'Fast As a Shark\\', 3, 2, 1, \\'F. Baltes, S. Kaufman, U. Dirkscneider & W. Hoffman\\', 230619, 3990994, 0.99), (4, \\'Restless and Wild\\', 3, 2, 1, \\'F. Baltes, R.A. Smith-Diesel, S. Kaufman, U. Dirkscneider & W. Hoffman\\', 252051, 4331779, 0.99), (5, \\'Princess of the Dawn\\', 3, 2, 1, \\'Deaffy & R.A. Smith-Diesel\\', 375418, 6290521, 0.99), (6, \\'Put The Finger On You\\', 1, 1, 1, \\'Angus Young, Malcolm Young, Brian Johnson\\', 205662, 6713451, 0.99), (7, \"Let\\'s Get It Up\", 1, 1, 1, \\'Angus Young, Malcolm Young, Brian Johnson\\', 233926, 7636561, 0.99), (8, \\'Inject The Venom\\', 1, 1, 1, \\'Angus Young, Malcolm Young, Brian Johnson\\', 210834, 6852860, 0.99), (9, \\'Snowballed\\', 1, 1, 1, \\'Angus Young, Malcolm Young, Brian Johnson\\', 203102, 6599424, 0.99), (10, \\'Evil Walks\\', 1, 1, 1, \\'Angus Young, Malcolm Young, Brian Johnson\\', 263497, 8611245, 0.99)]', 'id': 'doc_0'}], document_ids={'doc_0'}),\n",
              "  CohereCitation(start=899, end=900, text='1', documents=[{'output': '[(1, \\'For Those About To Rock (We Salute You)\\', 1, 1, 1, \\'Angus Young, Malcolm Young, Brian Johnson\\', 343719, 11170334, 0.99), (2, \\'Balls to the Wall\\', 2, 2, 1, None, 342562, 5510424, 0.99), (3, \\'Fast As a Shark\\', 3, 2, 1, \\'F. Baltes, S. Kaufman, U. Dirkscneider & W. Hoffman\\', 230619, 3990994, 0.99), (4, \\'Restless and Wild\\', 3, 2, 1, \\'F. Baltes, R.A. Smith-Diesel, S. Kaufman, U. Dirkscneider & W. Hoffman\\', 252051, 4331779, 0.99), (5, \\'Princess of the Dawn\\', 3, 2, 1, \\'Deaffy & R.A. Smith-Diesel\\', 375418, 6290521, 0.99), (6, \\'Put The Finger On You\\', 1, 1, 1, \\'Angus Young, Malcolm Young, Brian Johnson\\', 205662, 6713451, 0.99), (7, \"Let\\'s Get It Up\", 1, 1, 1, \\'Angus Young, Malcolm Young, Brian Johnson\\', 233926, 7636561, 0.99), (8, \\'Inject The Venom\\', 1, 1, 1, \\'Angus Young, Malcolm Young, Brian Johnson\\', 210834, 6852860, 0.99), (9, \\'Snowballed\\', 1, 1, 1, \\'Angus Young, Malcolm Young, Brian Johnson\\', 203102, 6599424, 0.99), (10, \\'Evil Walks\\', 1, 1, 1, \\'Angus Young, Malcolm Young, Brian Johnson\\', 263497, 8611245, 0.99)]', 'id': 'doc_0'}], document_ids={'doc_0'}),\n",
              "  CohereCitation(start=903, end=944, text='Angus Young, Malcolm Young, Brian Johnson', documents=[{'output': '[(1, \\'For Those About To Rock (We Salute You)\\', 1, 1, 1, \\'Angus Young, Malcolm Young, Brian Johnson\\', 343719, 11170334, 0.99), (2, \\'Balls to the Wall\\', 2, 2, 1, None, 342562, 5510424, 0.99), (3, \\'Fast As a Shark\\', 3, 2, 1, \\'F. Baltes, S. Kaufman, U. Dirkscneider & W. Hoffman\\', 230619, 3990994, 0.99), (4, \\'Restless and Wild\\', 3, 2, 1, \\'F. Baltes, R.A. Smith-Diesel, S. Kaufman, U. Dirkscneider & W. Hoffman\\', 252051, 4331779, 0.99), (5, \\'Princess of the Dawn\\', 3, 2, 1, \\'Deaffy & R.A. Smith-Diesel\\', 375418, 6290521, 0.99), (6, \\'Put The Finger On You\\', 1, 1, 1, \\'Angus Young, Malcolm Young, Brian Johnson\\', 205662, 6713451, 0.99), (7, \"Let\\'s Get It Up\", 1, 1, 1, \\'Angus Young, Malcolm Young, Brian Johnson\\', 233926, 7636561, 0.99), (8, \\'Inject The Venom\\', 1, 1, 1, \\'Angus Young, Malcolm Young, Brian Johnson\\', 210834, 6852860, 0.99), (9, \\'Snowballed\\', 1, 1, 1, \\'Angus Young, Malcolm Young, Brian Johnson\\', 203102, 6599424, 0.99), (10, \\'Evil Walks\\', 1, 1, 1, \\'Angus Young, Malcolm Young, Brian Johnson\\', 263497, 8611245, 0.99)]', 'id': 'doc_0'}], document_ids={'doc_0'}),\n",
              "  CohereCitation(start=947, end=953, text='233926', documents=[{'output': '[(1, \\'For Those About To Rock (We Salute You)\\', 1, 1, 1, \\'Angus Young, Malcolm Young, Brian Johnson\\', 343719, 11170334, 0.99), (2, \\'Balls to the Wall\\', 2, 2, 1, None, 342562, 5510424, 0.99), (3, \\'Fast As a Shark\\', 3, 2, 1, \\'F. Baltes, S. Kaufman, U. Dirkscneider & W. Hoffman\\', 230619, 3990994, 0.99), (4, \\'Restless and Wild\\', 3, 2, 1, \\'F. Baltes, R.A. Smith-Diesel, S. Kaufman, U. Dirkscneider & W. Hoffman\\', 252051, 4331779, 0.99), (5, \\'Princess of the Dawn\\', 3, 2, 1, \\'Deaffy & R.A. Smith-Diesel\\', 375418, 6290521, 0.99), (6, \\'Put The Finger On You\\', 1, 1, 1, \\'Angus Young, Malcolm Young, Brian Johnson\\', 205662, 6713451, 0.99), (7, \"Let\\'s Get It Up\", 1, 1, 1, \\'Angus Young, Malcolm Young, Brian Johnson\\', 233926, 7636561, 0.99), (8, \\'Inject The Venom\\', 1, 1, 1, \\'Angus Young, Malcolm Young, Brian Johnson\\', 210834, 6852860, 0.99), (9, \\'Snowballed\\', 1, 1, 1, \\'Angus Young, Malcolm Young, Brian Johnson\\', 203102, 6599424, 0.99), (10, \\'Evil Walks\\', 1, 1, 1, \\'Angus Young, Malcolm Young, Brian Johnson\\', 263497, 8611245, 0.99)]', 'id': 'doc_0'}], document_ids={'doc_0'}),\n",
              "  CohereCitation(start=956, end=963, text='7636561', documents=[{'output': '[(1, \\'For Those About To Rock (We Salute You)\\', 1, 1, 1, \\'Angus Young, Malcolm Young, Brian Johnson\\', 343719, 11170334, 0.99), (2, \\'Balls to the Wall\\', 2, 2, 1, None, 342562, 5510424, 0.99), (3, \\'Fast As a Shark\\', 3, 2, 1, \\'F. Baltes, S. Kaufman, U. Dirkscneider & W. Hoffman\\', 230619, 3990994, 0.99), (4, \\'Restless and Wild\\', 3, 2, 1, \\'F. Baltes, R.A. Smith-Diesel, S. Kaufman, U. Dirkscneider & W. Hoffman\\', 252051, 4331779, 0.99), (5, \\'Princess of the Dawn\\', 3, 2, 1, \\'Deaffy & R.A. Smith-Diesel\\', 375418, 6290521, 0.99), (6, \\'Put The Finger On You\\', 1, 1, 1, \\'Angus Young, Malcolm Young, Brian Johnson\\', 205662, 6713451, 0.99), (7, \"Let\\'s Get It Up\", 1, 1, 1, \\'Angus Young, Malcolm Young, Brian Johnson\\', 233926, 7636561, 0.99), (8, \\'Inject The Venom\\', 1, 1, 1, \\'Angus Young, Malcolm Young, Brian Johnson\\', 210834, 6852860, 0.99), (9, \\'Snowballed\\', 1, 1, 1, \\'Angus Young, Malcolm Young, Brian Johnson\\', 203102, 6599424, 0.99), (10, \\'Evil Walks\\', 1, 1, 1, \\'Angus Young, Malcolm Young, Brian Johnson\\', 263497, 8611245, 0.99)]', 'id': 'doc_0'}], document_ids={'doc_0'}),\n",
              "  CohereCitation(start=966, end=970, text='0.99', documents=[{'output': '[(1, \\'For Those About To Rock (We Salute You)\\', 1, 1, 1, \\'Angus Young, Malcolm Young, Brian Johnson\\', 343719, 11170334, 0.99), (2, \\'Balls to the Wall\\', 2, 2, 1, None, 342562, 5510424, 0.99), (3, \\'Fast As a Shark\\', 3, 2, 1, \\'F. Baltes, S. Kaufman, U. Dirkscneider & W. Hoffman\\', 230619, 3990994, 0.99), (4, \\'Restless and Wild\\', 3, 2, 1, \\'F. Baltes, R.A. Smith-Diesel, S. Kaufman, U. Dirkscneider & W. Hoffman\\', 252051, 4331779, 0.99), (5, \\'Princess of the Dawn\\', 3, 2, 1, \\'Deaffy & R.A. Smith-Diesel\\', 375418, 6290521, 0.99), (6, \\'Put The Finger On You\\', 1, 1, 1, \\'Angus Young, Malcolm Young, Brian Johnson\\', 205662, 6713451, 0.99), (7, \"Let\\'s Get It Up\", 1, 1, 1, \\'Angus Young, Malcolm Young, Brian Johnson\\', 233926, 7636561, 0.99), (8, \\'Inject The Venom\\', 1, 1, 1, \\'Angus Young, Malcolm Young, Brian Johnson\\', 210834, 6852860, 0.99), (9, \\'Snowballed\\', 1, 1, 1, \\'Angus Young, Malcolm Young, Brian Johnson\\', 203102, 6599424, 0.99), (10, \\'Evil Walks\\', 1, 1, 1, \\'Angus Young, Malcolm Young, Brian Johnson\\', 263497, 8611245, 0.99)]', 'id': 'doc_0'}], document_ids={'doc_0'}),\n",
              "  CohereCitation(start=975, end=976, text='8', documents=[{'output': '[(1, \\'For Those About To Rock (We Salute You)\\', 1, 1, 1, \\'Angus Young, Malcolm Young, Brian Johnson\\', 343719, 11170334, 0.99), (2, \\'Balls to the Wall\\', 2, 2, 1, None, 342562, 5510424, 0.99), (3, \\'Fast As a Shark\\', 3, 2, 1, \\'F. Baltes, S. Kaufman, U. Dirkscneider & W. Hoffman\\', 230619, 3990994, 0.99), (4, \\'Restless and Wild\\', 3, 2, 1, \\'F. Baltes, R.A. Smith-Diesel, S. Kaufman, U. Dirkscneider & W. Hoffman\\', 252051, 4331779, 0.99), (5, \\'Princess of the Dawn\\', 3, 2, 1, \\'Deaffy & R.A. Smith-Diesel\\', 375418, 6290521, 0.99), (6, \\'Put The Finger On You\\', 1, 1, 1, \\'Angus Young, Malcolm Young, Brian Johnson\\', 205662, 6713451, 0.99), (7, \"Let\\'s Get It Up\", 1, 1, 1, \\'Angus Young, Malcolm Young, Brian Johnson\\', 233926, 7636561, 0.99), (8, \\'Inject The Venom\\', 1, 1, 1, \\'Angus Young, Malcolm Young, Brian Johnson\\', 210834, 6852860, 0.99), (9, \\'Snowballed\\', 1, 1, 1, \\'Angus Young, Malcolm Young, Brian Johnson\\', 203102, 6599424, 0.99), (10, \\'Evil Walks\\', 1, 1, 1, \\'Angus Young, Malcolm Young, Brian Johnson\\', 263497, 8611245, 0.99)]', 'id': 'doc_0'}], document_ids={'doc_0'}),\n",
              "  CohereCitation(start=979, end=995, text='Inject The Venom', documents=[{'output': '[(1, \\'For Those About To Rock (We Salute You)\\', 1, 1, 1, \\'Angus Young, Malcolm Young, Brian Johnson\\', 343719, 11170334, 0.99), (2, \\'Balls to the Wall\\', 2, 2, 1, None, 342562, 5510424, 0.99), (3, \\'Fast As a Shark\\', 3, 2, 1, \\'F. Baltes, S. Kaufman, U. Dirkscneider & W. Hoffman\\', 230619, 3990994, 0.99), (4, \\'Restless and Wild\\', 3, 2, 1, \\'F. Baltes, R.A. Smith-Diesel, S. Kaufman, U. Dirkscneider & W. Hoffman\\', 252051, 4331779, 0.99), (5, \\'Princess of the Dawn\\', 3, 2, 1, \\'Deaffy & R.A. Smith-Diesel\\', 375418, 6290521, 0.99), (6, \\'Put The Finger On You\\', 1, 1, 1, \\'Angus Young, Malcolm Young, Brian Johnson\\', 205662, 6713451, 0.99), (7, \"Let\\'s Get It Up\", 1, 1, 1, \\'Angus Young, Malcolm Young, Brian Johnson\\', 233926, 7636561, 0.99), (8, \\'Inject The Venom\\', 1, 1, 1, \\'Angus Young, Malcolm Young, Brian Johnson\\', 210834, 6852860, 0.99), (9, \\'Snowballed\\', 1, 1, 1, \\'Angus Young, Malcolm Young, Brian Johnson\\', 203102, 6599424, 0.99), (10, \\'Evil Walks\\', 1, 1, 1, \\'Angus Young, Malcolm Young, Brian Johnson\\', 263497, 8611245, 0.99)]', 'id': 'doc_0'}], document_ids={'doc_0'}),\n",
              "  CohereCitation(start=998, end=999, text='1', documents=[{'output': '[(1, \\'For Those About To Rock (We Salute You)\\', 1, 1, 1, \\'Angus Young, Malcolm Young, Brian Johnson\\', 343719, 11170334, 0.99), (2, \\'Balls to the Wall\\', 2, 2, 1, None, 342562, 5510424, 0.99), (3, \\'Fast As a Shark\\', 3, 2, 1, \\'F. Baltes, S. Kaufman, U. Dirkscneider & W. Hoffman\\', 230619, 3990994, 0.99), (4, \\'Restless and Wild\\', 3, 2, 1, \\'F. Baltes, R.A. Smith-Diesel, S. Kaufman, U. Dirkscneider & W. Hoffman\\', 252051, 4331779, 0.99), (5, \\'Princess of the Dawn\\', 3, 2, 1, \\'Deaffy & R.A. Smith-Diesel\\', 375418, 6290521, 0.99), (6, \\'Put The Finger On You\\', 1, 1, 1, \\'Angus Young, Malcolm Young, Brian Johnson\\', 205662, 6713451, 0.99), (7, \"Let\\'s Get It Up\", 1, 1, 1, \\'Angus Young, Malcolm Young, Brian Johnson\\', 233926, 7636561, 0.99), (8, \\'Inject The Venom\\', 1, 1, 1, \\'Angus Young, Malcolm Young, Brian Johnson\\', 210834, 6852860, 0.99), (9, \\'Snowballed\\', 1, 1, 1, \\'Angus Young, Malcolm Young, Brian Johnson\\', 203102, 6599424, 0.99), (10, \\'Evil Walks\\', 1, 1, 1, \\'Angus Young, Malcolm Young, Brian Johnson\\', 263497, 8611245, 0.99)]', 'id': 'doc_0'}], document_ids={'doc_0'}),\n",
              "  CohereCitation(start=1002, end=1003, text='1', documents=[{'output': '[(1, \\'For Those About To Rock (We Salute You)\\', 1, 1, 1, \\'Angus Young, Malcolm Young, Brian Johnson\\', 343719, 11170334, 0.99), (2, \\'Balls to the Wall\\', 2, 2, 1, None, 342562, 5510424, 0.99), (3, \\'Fast As a Shark\\', 3, 2, 1, \\'F. Baltes, S. Kaufman, U. Dirkscneider & W. Hoffman\\', 230619, 3990994, 0.99), (4, \\'Restless and Wild\\', 3, 2, 1, \\'F. Baltes, R.A. Smith-Diesel, S. Kaufman, U. Dirkscneider & W. Hoffman\\', 252051, 4331779, 0.99), (5, \\'Princess of the Dawn\\', 3, 2, 1, \\'Deaffy & R.A. Smith-Diesel\\', 375418, 6290521, 0.99), (6, \\'Put The Finger On You\\', 1, 1, 1, \\'Angus Young, Malcolm Young, Brian Johnson\\', 205662, 6713451, 0.99), (7, \"Let\\'s Get It Up\", 1, 1, 1, \\'Angus Young, Malcolm Young, Brian Johnson\\', 233926, 7636561, 0.99), (8, \\'Inject The Venom\\', 1, 1, 1, \\'Angus Young, Malcolm Young, Brian Johnson\\', 210834, 6852860, 0.99), (9, \\'Snowballed\\', 1, 1, 1, \\'Angus Young, Malcolm Young, Brian Johnson\\', 203102, 6599424, 0.99), (10, \\'Evil Walks\\', 1, 1, 1, \\'Angus Young, Malcolm Young, Brian Johnson\\', 263497, 8611245, 0.99)]', 'id': 'doc_0'}], document_ids={'doc_0'}),\n",
              "  CohereCitation(start=1006, end=1007, text='1', documents=[{'output': '[(1, \\'For Those About To Rock (We Salute You)\\', 1, 1, 1, \\'Angus Young, Malcolm Young, Brian Johnson\\', 343719, 11170334, 0.99), (2, \\'Balls to the Wall\\', 2, 2, 1, None, 342562, 5510424, 0.99), (3, \\'Fast As a Shark\\', 3, 2, 1, \\'F. Baltes, S. Kaufman, U. Dirkscneider & W. Hoffman\\', 230619, 3990994, 0.99), (4, \\'Restless and Wild\\', 3, 2, 1, \\'F. Baltes, R.A. Smith-Diesel, S. Kaufman, U. Dirkscneider & W. Hoffman\\', 252051, 4331779, 0.99), (5, \\'Princess of the Dawn\\', 3, 2, 1, \\'Deaffy & R.A. Smith-Diesel\\', 375418, 6290521, 0.99), (6, \\'Put The Finger On You\\', 1, 1, 1, \\'Angus Young, Malcolm Young, Brian Johnson\\', 205662, 6713451, 0.99), (7, \"Let\\'s Get It Up\", 1, 1, 1, \\'Angus Young, Malcolm Young, Brian Johnson\\', 233926, 7636561, 0.99), (8, \\'Inject The Venom\\', 1, 1, 1, \\'Angus Young, Malcolm Young, Brian Johnson\\', 210834, 6852860, 0.99), (9, \\'Snowballed\\', 1, 1, 1, \\'Angus Young, Malcolm Young, Brian Johnson\\', 203102, 6599424, 0.99), (10, \\'Evil Walks\\', 1, 1, 1, \\'Angus Young, Malcolm Young, Brian Johnson\\', 263497, 8611245, 0.99)]', 'id': 'doc_0'}], document_ids={'doc_0'}),\n",
              "  CohereCitation(start=1010, end=1051, text='Angus Young, Malcolm Young, Brian Johnson', documents=[{'output': '[(1, \\'For Those About To Rock (We Salute You)\\', 1, 1, 1, \\'Angus Young, Malcolm Young, Brian Johnson\\', 343719, 11170334, 0.99), (2, \\'Balls to the Wall\\', 2, 2, 1, None, 342562, 5510424, 0.99), (3, \\'Fast As a Shark\\', 3, 2, 1, \\'F. Baltes, S. Kaufman, U. Dirkscneider & W. Hoffman\\', 230619, 3990994, 0.99), (4, \\'Restless and Wild\\', 3, 2, 1, \\'F. Baltes, R.A. Smith-Diesel, S. Kaufman, U. Dirkscneider & W. Hoffman\\', 252051, 4331779, 0.99), (5, \\'Princess of the Dawn\\', 3, 2, 1, \\'Deaffy & R.A. Smith-Diesel\\', 375418, 6290521, 0.99), (6, \\'Put The Finger On You\\', 1, 1, 1, \\'Angus Young, Malcolm Young, Brian Johnson\\', 205662, 6713451, 0.99), (7, \"Let\\'s Get It Up\", 1, 1, 1, \\'Angus Young, Malcolm Young, Brian Johnson\\', 233926, 7636561, 0.99), (8, \\'Inject The Venom\\', 1, 1, 1, \\'Angus Young, Malcolm Young, Brian Johnson\\', 210834, 6852860, 0.99), (9, \\'Snowballed\\', 1, 1, 1, \\'Angus Young, Malcolm Young, Brian Johnson\\', 203102, 6599424, 0.99), (10, \\'Evil Walks\\', 1, 1, 1, \\'Angus Young, Malcolm Young, Brian Johnson\\', 263497, 8611245, 0.99)]', 'id': 'doc_0'}], document_ids={'doc_0'}),\n",
              "  CohereCitation(start=1054, end=1060, text='210834', documents=[{'output': '[(1, \\'For Those About To Rock (We Salute You)\\', 1, 1, 1, \\'Angus Young, Malcolm Young, Brian Johnson\\', 343719, 11170334, 0.99), (2, \\'Balls to the Wall\\', 2, 2, 1, None, 342562, 5510424, 0.99), (3, \\'Fast As a Shark\\', 3, 2, 1, \\'F. Baltes, S. Kaufman, U. Dirkscneider & W. Hoffman\\', 230619, 3990994, 0.99), (4, \\'Restless and Wild\\', 3, 2, 1, \\'F. Baltes, R.A. Smith-Diesel, S. Kaufman, U. Dirkscneider & W. Hoffman\\', 252051, 4331779, 0.99), (5, \\'Princess of the Dawn\\', 3, 2, 1, \\'Deaffy & R.A. Smith-Diesel\\', 375418, 6290521, 0.99), (6, \\'Put The Finger On You\\', 1, 1, 1, \\'Angus Young, Malcolm Young, Brian Johnson\\', 205662, 6713451, 0.99), (7, \"Let\\'s Get It Up\", 1, 1, 1, \\'Angus Young, Malcolm Young, Brian Johnson\\', 233926, 7636561, 0.99), (8, \\'Inject The Venom\\', 1, 1, 1, \\'Angus Young, Malcolm Young, Brian Johnson\\', 210834, 6852860, 0.99), (9, \\'Snowballed\\', 1, 1, 1, \\'Angus Young, Malcolm Young, Brian Johnson\\', 203102, 6599424, 0.99), (10, \\'Evil Walks\\', 1, 1, 1, \\'Angus Young, Malcolm Young, Brian Johnson\\', 263497, 8611245, 0.99)]', 'id': 'doc_0'}], document_ids={'doc_0'}),\n",
              "  CohereCitation(start=1063, end=1070, text='6852860', documents=[{'output': '[(1, \\'For Those About To Rock (We Salute You)\\', 1, 1, 1, \\'Angus Young, Malcolm Young, Brian Johnson\\', 343719, 11170334, 0.99), (2, \\'Balls to the Wall\\', 2, 2, 1, None, 342562, 5510424, 0.99), (3, \\'Fast As a Shark\\', 3, 2, 1, \\'F. Baltes, S. Kaufman, U. Dirkscneider & W. Hoffman\\', 230619, 3990994, 0.99), (4, \\'Restless and Wild\\', 3, 2, 1, \\'F. Baltes, R.A. Smith-Diesel, S. Kaufman, U. Dirkscneider & W. Hoffman\\', 252051, 4331779, 0.99), (5, \\'Princess of the Dawn\\', 3, 2, 1, \\'Deaffy & R.A. Smith-Diesel\\', 375418, 6290521, 0.99), (6, \\'Put The Finger On You\\', 1, 1, 1, \\'Angus Young, Malcolm Young, Brian Johnson\\', 205662, 6713451, 0.99), (7, \"Let\\'s Get It Up\", 1, 1, 1, \\'Angus Young, Malcolm Young, Brian Johnson\\', 233926, 7636561, 0.99), (8, \\'Inject The Venom\\', 1, 1, 1, \\'Angus Young, Malcolm Young, Brian Johnson\\', 210834, 6852860, 0.99), (9, \\'Snowballed\\', 1, 1, 1, \\'Angus Young, Malcolm Young, Brian Johnson\\', 203102, 6599424, 0.99), (10, \\'Evil Walks\\', 1, 1, 1, \\'Angus Young, Malcolm Young, Brian Johnson\\', 263497, 8611245, 0.99)]', 'id': 'doc_0'}], document_ids={'doc_0'}),\n",
              "  CohereCitation(start=1073, end=1077, text='0.99', documents=[{'output': '[(1, \\'For Those About To Rock (We Salute You)\\', 1, 1, 1, \\'Angus Young, Malcolm Young, Brian Johnson\\', 343719, 11170334, 0.99), (2, \\'Balls to the Wall\\', 2, 2, 1, None, 342562, 5510424, 0.99), (3, \\'Fast As a Shark\\', 3, 2, 1, \\'F. Baltes, S. Kaufman, U. Dirkscneider & W. Hoffman\\', 230619, 3990994, 0.99), (4, \\'Restless and Wild\\', 3, 2, 1, \\'F. Baltes, R.A. Smith-Diesel, S. Kaufman, U. Dirkscneider & W. Hoffman\\', 252051, 4331779, 0.99), (5, \\'Princess of the Dawn\\', 3, 2, 1, \\'Deaffy & R.A. Smith-Diesel\\', 375418, 6290521, 0.99), (6, \\'Put The Finger On You\\', 1, 1, 1, \\'Angus Young, Malcolm Young, Brian Johnson\\', 205662, 6713451, 0.99), (7, \"Let\\'s Get It Up\", 1, 1, 1, \\'Angus Young, Malcolm Young, Brian Johnson\\', 233926, 7636561, 0.99), (8, \\'Inject The Venom\\', 1, 1, 1, \\'Angus Young, Malcolm Young, Brian Johnson\\', 210834, 6852860, 0.99), (9, \\'Snowballed\\', 1, 1, 1, \\'Angus Young, Malcolm Young, Brian Johnson\\', 203102, 6599424, 0.99), (10, \\'Evil Walks\\', 1, 1, 1, \\'Angus Young, Malcolm Young, Brian Johnson\\', 263497, 8611245, 0.99)]', 'id': 'doc_0'}], document_ids={'doc_0'}),\n",
              "  CohereCitation(start=1082, end=1083, text='9', documents=[{'output': '[(1, \\'For Those About To Rock (We Salute You)\\', 1, 1, 1, \\'Angus Young, Malcolm Young, Brian Johnson\\', 343719, 11170334, 0.99), (2, \\'Balls to the Wall\\', 2, 2, 1, None, 342562, 5510424, 0.99), (3, \\'Fast As a Shark\\', 3, 2, 1, \\'F. Baltes, S. Kaufman, U. Dirkscneider & W. Hoffman\\', 230619, 3990994, 0.99), (4, \\'Restless and Wild\\', 3, 2, 1, \\'F. Baltes, R.A. Smith-Diesel, S. Kaufman, U. Dirkscneider & W. Hoffman\\', 252051, 4331779, 0.99), (5, \\'Princess of the Dawn\\', 3, 2, 1, \\'Deaffy & R.A. Smith-Diesel\\', 375418, 6290521, 0.99), (6, \\'Put The Finger On You\\', 1, 1, 1, \\'Angus Young, Malcolm Young, Brian Johnson\\', 205662, 6713451, 0.99), (7, \"Let\\'s Get It Up\", 1, 1, 1, \\'Angus Young, Malcolm Young, Brian Johnson\\', 233926, 7636561, 0.99), (8, \\'Inject The Venom\\', 1, 1, 1, \\'Angus Young, Malcolm Young, Brian Johnson\\', 210834, 6852860, 0.99), (9, \\'Snowballed\\', 1, 1, 1, \\'Angus Young, Malcolm Young, Brian Johnson\\', 203102, 6599424, 0.99), (10, \\'Evil Walks\\', 1, 1, 1, \\'Angus Young, Malcolm Young, Brian Johnson\\', 263497, 8611245, 0.99)]', 'id': 'doc_0'}], document_ids={'doc_0'}),\n",
              "  CohereCitation(start=1086, end=1096, text='Snowballed', documents=[{'output': '[(1, \\'For Those About To Rock (We Salute You)\\', 1, 1, 1, \\'Angus Young, Malcolm Young, Brian Johnson\\', 343719, 11170334, 0.99), (2, \\'Balls to the Wall\\', 2, 2, 1, None, 342562, 5510424, 0.99), (3, \\'Fast As a Shark\\', 3, 2, 1, \\'F. Baltes, S. Kaufman, U. Dirkscneider & W. Hoffman\\', 230619, 3990994, 0.99), (4, \\'Restless and Wild\\', 3, 2, 1, \\'F. Baltes, R.A. Smith-Diesel, S. Kaufman, U. Dirkscneider & W. Hoffman\\', 252051, 4331779, 0.99), (5, \\'Princess of the Dawn\\', 3, 2, 1, \\'Deaffy & R.A. Smith-Diesel\\', 375418, 6290521, 0.99), (6, \\'Put The Finger On You\\', 1, 1, 1, \\'Angus Young, Malcolm Young, Brian Johnson\\', 205662, 6713451, 0.99), (7, \"Let\\'s Get It Up\", 1, 1, 1, \\'Angus Young, Malcolm Young, Brian Johnson\\', 233926, 7636561, 0.99), (8, \\'Inject The Venom\\', 1, 1, 1, \\'Angus Young, Malcolm Young, Brian Johnson\\', 210834, 6852860, 0.99), (9, \\'Snowballed\\', 1, 1, 1, \\'Angus Young, Malcolm Young, Brian Johnson\\', 203102, 6599424, 0.99), (10, \\'Evil Walks\\', 1, 1, 1, \\'Angus Young, Malcolm Young, Brian Johnson\\', 263497, 8611245, 0.99)]', 'id': 'doc_0'}], document_ids={'doc_0'}),\n",
              "  CohereCitation(start=1099, end=1100, text='1', documents=[{'output': '[(1, \\'For Those About To Rock (We Salute You)\\', 1, 1, 1, \\'Angus Young, Malcolm Young, Brian Johnson\\', 343719, 11170334, 0.99), (2, \\'Balls to the Wall\\', 2, 2, 1, None, 342562, 5510424, 0.99), (3, \\'Fast As a Shark\\', 3, 2, 1, \\'F. Baltes, S. Kaufman, U. Dirkscneider & W. Hoffman\\', 230619, 3990994, 0.99), (4, \\'Restless and Wild\\', 3, 2, 1, \\'F. Baltes, R.A. Smith-Diesel, S. Kaufman, U. Dirkscneider & W. Hoffman\\', 252051, 4331779, 0.99), (5, \\'Princess of the Dawn\\', 3, 2, 1, \\'Deaffy & R.A. Smith-Diesel\\', 375418, 6290521, 0.99), (6, \\'Put The Finger On You\\', 1, 1, 1, \\'Angus Young, Malcolm Young, Brian Johnson\\', 205662, 6713451, 0.99), (7, \"Let\\'s Get It Up\", 1, 1, 1, \\'Angus Young, Malcolm Young, Brian Johnson\\', 233926, 7636561, 0.99), (8, \\'Inject The Venom\\', 1, 1, 1, \\'Angus Young, Malcolm Young, Brian Johnson\\', 210834, 6852860, 0.99), (9, \\'Snowballed\\', 1, 1, 1, \\'Angus Young, Malcolm Young, Brian Johnson\\', 203102, 6599424, 0.99), (10, \\'Evil Walks\\', 1, 1, 1, \\'Angus Young, Malcolm Young, Brian Johnson\\', 263497, 8611245, 0.99)]', 'id': 'doc_0'}], document_ids={'doc_0'}),\n",
              "  CohereCitation(start=1103, end=1104, text='1', documents=[{'output': '[(1, \\'For Those About To Rock (We Salute You)\\', 1, 1, 1, \\'Angus Young, Malcolm Young, Brian Johnson\\', 343719, 11170334, 0.99), (2, \\'Balls to the Wall\\', 2, 2, 1, None, 342562, 5510424, 0.99), (3, \\'Fast As a Shark\\', 3, 2, 1, \\'F. Baltes, S. Kaufman, U. Dirkscneider & W. Hoffman\\', 230619, 3990994, 0.99), (4, \\'Restless and Wild\\', 3, 2, 1, \\'F. Baltes, R.A. Smith-Diesel, S. Kaufman, U. Dirkscneider & W. Hoffman\\', 252051, 4331779, 0.99), (5, \\'Princess of the Dawn\\', 3, 2, 1, \\'Deaffy & R.A. Smith-Diesel\\', 375418, 6290521, 0.99), (6, \\'Put The Finger On You\\', 1, 1, 1, \\'Angus Young, Malcolm Young, Brian Johnson\\', 205662, 6713451, 0.99), (7, \"Let\\'s Get It Up\", 1, 1, 1, \\'Angus Young, Malcolm Young, Brian Johnson\\', 233926, 7636561, 0.99), (8, \\'Inject The Venom\\', 1, 1, 1, \\'Angus Young, Malcolm Young, Brian Johnson\\', 210834, 6852860, 0.99), (9, \\'Snowballed\\', 1, 1, 1, \\'Angus Young, Malcolm Young, Brian Johnson\\', 203102, 6599424, 0.99), (10, \\'Evil Walks\\', 1, 1, 1, \\'Angus Young, Malcolm Young, Brian Johnson\\', 263497, 8611245, 0.99)]', 'id': 'doc_0'}], document_ids={'doc_0'}),\n",
              "  CohereCitation(start=1107, end=1108, text='1', documents=[{'output': '[(1, \\'For Those About To Rock (We Salute You)\\', 1, 1, 1, \\'Angus Young, Malcolm Young, Brian Johnson\\', 343719, 11170334, 0.99), (2, \\'Balls to the Wall\\', 2, 2, 1, None, 342562, 5510424, 0.99), (3, \\'Fast As a Shark\\', 3, 2, 1, \\'F. Baltes, S. Kaufman, U. Dirkscneider & W. Hoffman\\', 230619, 3990994, 0.99), (4, \\'Restless and Wild\\', 3, 2, 1, \\'F. Baltes, R.A. Smith-Diesel, S. Kaufman, U. Dirkscneider & W. Hoffman\\', 252051, 4331779, 0.99), (5, \\'Princess of the Dawn\\', 3, 2, 1, \\'Deaffy & R.A. Smith-Diesel\\', 375418, 6290521, 0.99), (6, \\'Put The Finger On You\\', 1, 1, 1, \\'Angus Young, Malcolm Young, Brian Johnson\\', 205662, 6713451, 0.99), (7, \"Let\\'s Get It Up\", 1, 1, 1, \\'Angus Young, Malcolm Young, Brian Johnson\\', 233926, 7636561, 0.99), (8, \\'Inject The Venom\\', 1, 1, 1, \\'Angus Young, Malcolm Young, Brian Johnson\\', 210834, 6852860, 0.99), (9, \\'Snowballed\\', 1, 1, 1, \\'Angus Young, Malcolm Young, Brian Johnson\\', 203102, 6599424, 0.99), (10, \\'Evil Walks\\', 1, 1, 1, \\'Angus Young, Malcolm Young, Brian Johnson\\', 263497, 8611245, 0.99)]', 'id': 'doc_0'}], document_ids={'doc_0'}),\n",
              "  CohereCitation(start=1111, end=1152, text='Angus Young, Malcolm Young, Brian Johnson', documents=[{'output': '[(1, \\'For Those About To Rock (We Salute You)\\', 1, 1, 1, \\'Angus Young, Malcolm Young, Brian Johnson\\', 343719, 11170334, 0.99), (2, \\'Balls to the Wall\\', 2, 2, 1, None, 342562, 5510424, 0.99), (3, \\'Fast As a Shark\\', 3, 2, 1, \\'F. Baltes, S. Kaufman, U. Dirkscneider & W. Hoffman\\', 230619, 3990994, 0.99), (4, \\'Restless and Wild\\', 3, 2, 1, \\'F. Baltes, R.A. Smith-Diesel, S. Kaufman, U. Dirkscneider & W. Hoffman\\', 252051, 4331779, 0.99), (5, \\'Princess of the Dawn\\', 3, 2, 1, \\'Deaffy & R.A. Smith-Diesel\\', 375418, 6290521, 0.99), (6, \\'Put The Finger On You\\', 1, 1, 1, \\'Angus Young, Malcolm Young, Brian Johnson\\', 205662, 6713451, 0.99), (7, \"Let\\'s Get It Up\", 1, 1, 1, \\'Angus Young, Malcolm Young, Brian Johnson\\', 233926, 7636561, 0.99), (8, \\'Inject The Venom\\', 1, 1, 1, \\'Angus Young, Malcolm Young, Brian Johnson\\', 210834, 6852860, 0.99), (9, \\'Snowballed\\', 1, 1, 1, \\'Angus Young, Malcolm Young, Brian Johnson\\', 203102, 6599424, 0.99), (10, \\'Evil Walks\\', 1, 1, 1, \\'Angus Young, Malcolm Young, Brian Johnson\\', 263497, 8611245, 0.99)]', 'id': 'doc_0'}], document_ids={'doc_0'}),\n",
              "  CohereCitation(start=1155, end=1161, text='203102', documents=[{'output': '[(1, \\'For Those About To Rock (We Salute You)\\', 1, 1, 1, \\'Angus Young, Malcolm Young, Brian Johnson\\', 343719, 11170334, 0.99), (2, \\'Balls to the Wall\\', 2, 2, 1, None, 342562, 5510424, 0.99), (3, \\'Fast As a Shark\\', 3, 2, 1, \\'F. Baltes, S. Kaufman, U. Dirkscneider & W. Hoffman\\', 230619, 3990994, 0.99), (4, \\'Restless and Wild\\', 3, 2, 1, \\'F. Baltes, R.A. Smith-Diesel, S. Kaufman, U. Dirkscneider & W. Hoffman\\', 252051, 4331779, 0.99), (5, \\'Princess of the Dawn\\', 3, 2, 1, \\'Deaffy & R.A. Smith-Diesel\\', 375418, 6290521, 0.99), (6, \\'Put The Finger On You\\', 1, 1, 1, \\'Angus Young, Malcolm Young, Brian Johnson\\', 205662, 6713451, 0.99), (7, \"Let\\'s Get It Up\", 1, 1, 1, \\'Angus Young, Malcolm Young, Brian Johnson\\', 233926, 7636561, 0.99), (8, \\'Inject The Venom\\', 1, 1, 1, \\'Angus Young, Malcolm Young, Brian Johnson\\', 210834, 6852860, 0.99), (9, \\'Snowballed\\', 1, 1, 1, \\'Angus Young, Malcolm Young, Brian Johnson\\', 203102, 6599424, 0.99), (10, \\'Evil Walks\\', 1, 1, 1, \\'Angus Young, Malcolm Young, Brian Johnson\\', 263497, 8611245, 0.99)]', 'id': 'doc_0'}], document_ids={'doc_0'}),\n",
              "  CohereCitation(start=1164, end=1171, text='6599424', documents=[{'output': '[(1, \\'For Those About To Rock (We Salute You)\\', 1, 1, 1, \\'Angus Young, Malcolm Young, Brian Johnson\\', 343719, 11170334, 0.99), (2, \\'Balls to the Wall\\', 2, 2, 1, None, 342562, 5510424, 0.99), (3, \\'Fast As a Shark\\', 3, 2, 1, \\'F. Baltes, S. Kaufman, U. Dirkscneider & W. Hoffman\\', 230619, 3990994, 0.99), (4, \\'Restless and Wild\\', 3, 2, 1, \\'F. Baltes, R.A. Smith-Diesel, S. Kaufman, U. Dirkscneider & W. Hoffman\\', 252051, 4331779, 0.99), (5, \\'Princess of the Dawn\\', 3, 2, 1, \\'Deaffy & R.A. Smith-Diesel\\', 375418, 6290521, 0.99), (6, \\'Put The Finger On You\\', 1, 1, 1, \\'Angus Young, Malcolm Young, Brian Johnson\\', 205662, 6713451, 0.99), (7, \"Let\\'s Get It Up\", 1, 1, 1, \\'Angus Young, Malcolm Young, Brian Johnson\\', 233926, 7636561, 0.99), (8, \\'Inject The Venom\\', 1, 1, 1, \\'Angus Young, Malcolm Young, Brian Johnson\\', 210834, 6852860, 0.99), (9, \\'Snowballed\\', 1, 1, 1, \\'Angus Young, Malcolm Young, Brian Johnson\\', 203102, 6599424, 0.99), (10, \\'Evil Walks\\', 1, 1, 1, \\'Angus Young, Malcolm Young, Brian Johnson\\', 263497, 8611245, 0.99)]', 'id': 'doc_0'}], document_ids={'doc_0'}),\n",
              "  CohereCitation(start=1174, end=1178, text='0.99', documents=[{'output': '[(1, \\'For Those About To Rock (We Salute You)\\', 1, 1, 1, \\'Angus Young, Malcolm Young, Brian Johnson\\', 343719, 11170334, 0.99), (2, \\'Balls to the Wall\\', 2, 2, 1, None, 342562, 5510424, 0.99), (3, \\'Fast As a Shark\\', 3, 2, 1, \\'F. Baltes, S. Kaufman, U. Dirkscneider & W. Hoffman\\', 230619, 3990994, 0.99), (4, \\'Restless and Wild\\', 3, 2, 1, \\'F. Baltes, R.A. Smith-Diesel, S. Kaufman, U. Dirkscneider & W. Hoffman\\', 252051, 4331779, 0.99), (5, \\'Princess of the Dawn\\', 3, 2, 1, \\'Deaffy & R.A. Smith-Diesel\\', 375418, 6290521, 0.99), (6, \\'Put The Finger On You\\', 1, 1, 1, \\'Angus Young, Malcolm Young, Brian Johnson\\', 205662, 6713451, 0.99), (7, \"Let\\'s Get It Up\", 1, 1, 1, \\'Angus Young, Malcolm Young, Brian Johnson\\', 233926, 7636561, 0.99), (8, \\'Inject The Venom\\', 1, 1, 1, \\'Angus Young, Malcolm Young, Brian Johnson\\', 210834, 6852860, 0.99), (9, \\'Snowballed\\', 1, 1, 1, \\'Angus Young, Malcolm Young, Brian Johnson\\', 203102, 6599424, 0.99), (10, \\'Evil Walks\\', 1, 1, 1, \\'Angus Young, Malcolm Young, Brian Johnson\\', 263497, 8611245, 0.99)]', 'id': 'doc_0'}], document_ids={'doc_0'}),\n",
              "  CohereCitation(start=1183, end=1185, text='10', documents=[{'output': '[(1, \\'For Those About To Rock (We Salute You)\\', 1, 1, 1, \\'Angus Young, Malcolm Young, Brian Johnson\\', 343719, 11170334, 0.99), (2, \\'Balls to the Wall\\', 2, 2, 1, None, 342562, 5510424, 0.99), (3, \\'Fast As a Shark\\', 3, 2, 1, \\'F. Baltes, S. Kaufman, U. Dirkscneider & W. Hoffman\\', 230619, 3990994, 0.99), (4, \\'Restless and Wild\\', 3, 2, 1, \\'F. Baltes, R.A. Smith-Diesel, S. Kaufman, U. Dirkscneider & W. Hoffman\\', 252051, 4331779, 0.99), (5, \\'Princess of the Dawn\\', 3, 2, 1, \\'Deaffy & R.A. Smith-Diesel\\', 375418, 6290521, 0.99), (6, \\'Put The Finger On You\\', 1, 1, 1, \\'Angus Young, Malcolm Young, Brian Johnson\\', 205662, 6713451, 0.99), (7, \"Let\\'s Get It Up\", 1, 1, 1, \\'Angus Young, Malcolm Young, Brian Johnson\\', 233926, 7636561, 0.99), (8, \\'Inject The Venom\\', 1, 1, 1, \\'Angus Young, Malcolm Young, Brian Johnson\\', 210834, 6852860, 0.99), (9, \\'Snowballed\\', 1, 1, 1, \\'Angus Young, Malcolm Young, Brian Johnson\\', 203102, 6599424, 0.99), (10, \\'Evil Walks\\', 1, 1, 1, \\'Angus Young, Malcolm Young, Brian Johnson\\', 263497, 8611245, 0.99)]', 'id': 'doc_0'}], document_ids={'doc_0'}),\n",
              "  CohereCitation(start=1188, end=1198, text='Evil Walks', documents=[{'output': '[(1, \\'For Those About To Rock (We Salute You)\\', 1, 1, 1, \\'Angus Young, Malcolm Young, Brian Johnson\\', 343719, 11170334, 0.99), (2, \\'Balls to the Wall\\', 2, 2, 1, None, 342562, 5510424, 0.99), (3, \\'Fast As a Shark\\', 3, 2, 1, \\'F. Baltes, S. Kaufman, U. Dirkscneider & W. Hoffman\\', 230619, 3990994, 0.99), (4, \\'Restless and Wild\\', 3, 2, 1, \\'F. Baltes, R.A. Smith-Diesel, S. Kaufman, U. Dirkscneider & W. Hoffman\\', 252051, 4331779, 0.99), (5, \\'Princess of the Dawn\\', 3, 2, 1, \\'Deaffy & R.A. Smith-Diesel\\', 375418, 6290521, 0.99), (6, \\'Put The Finger On You\\', 1, 1, 1, \\'Angus Young, Malcolm Young, Brian Johnson\\', 205662, 6713451, 0.99), (7, \"Let\\'s Get It Up\", 1, 1, 1, \\'Angus Young, Malcolm Young, Brian Johnson\\', 233926, 7636561, 0.99), (8, \\'Inject The Venom\\', 1, 1, 1, \\'Angus Young, Malcolm Young, Brian Johnson\\', 210834, 6852860, 0.99), (9, \\'Snowballed\\', 1, 1, 1, \\'Angus Young, Malcolm Young, Brian Johnson\\', 203102, 6599424, 0.99), (10, \\'Evil Walks\\', 1, 1, 1, \\'Angus Young, Malcolm Young, Brian Johnson\\', 263497, 8611245, 0.99)]', 'id': 'doc_0'}], document_ids={'doc_0'}),\n",
              "  CohereCitation(start=1201, end=1202, text='1', documents=[{'output': '[(1, \\'For Those About To Rock (We Salute You)\\', 1, 1, 1, \\'Angus Young, Malcolm Young, Brian Johnson\\', 343719, 11170334, 0.99), (2, \\'Balls to the Wall\\', 2, 2, 1, None, 342562, 5510424, 0.99), (3, \\'Fast As a Shark\\', 3, 2, 1, \\'F. Baltes, S. Kaufman, U. Dirkscneider & W. Hoffman\\', 230619, 3990994, 0.99), (4, \\'Restless and Wild\\', 3, 2, 1, \\'F. Baltes, R.A. Smith-Diesel, S. Kaufman, U. Dirkscneider & W. Hoffman\\', 252051, 4331779, 0.99), (5, \\'Princess of the Dawn\\', 3, 2, 1, \\'Deaffy & R.A. Smith-Diesel\\', 375418, 6290521, 0.99), (6, \\'Put The Finger On You\\', 1, 1, 1, \\'Angus Young, Malcolm Young, Brian Johnson\\', 205662, 6713451, 0.99), (7, \"Let\\'s Get It Up\", 1, 1, 1, \\'Angus Young, Malcolm Young, Brian Johnson\\', 233926, 7636561, 0.99), (8, \\'Inject The Venom\\', 1, 1, 1, \\'Angus Young, Malcolm Young, Brian Johnson\\', 210834, 6852860, 0.99), (9, \\'Snowballed\\', 1, 1, 1, \\'Angus Young, Malcolm Young, Brian Johnson\\', 203102, 6599424, 0.99), (10, \\'Evil Walks\\', 1, 1, 1, \\'Angus Young, Malcolm Young, Brian Johnson\\', 263497, 8611245, 0.99)]', 'id': 'doc_0'}], document_ids={'doc_0'}),\n",
              "  CohereCitation(start=1205, end=1206, text='1', documents=[{'output': '[(1, \\'For Those About To Rock (We Salute You)\\', 1, 1, 1, \\'Angus Young, Malcolm Young, Brian Johnson\\', 343719, 11170334, 0.99), (2, \\'Balls to the Wall\\', 2, 2, 1, None, 342562, 5510424, 0.99), (3, \\'Fast As a Shark\\', 3, 2, 1, \\'F. Baltes, S. Kaufman, U. Dirkscneider & W. Hoffman\\', 230619, 3990994, 0.99), (4, \\'Restless and Wild\\', 3, 2, 1, \\'F. Baltes, R.A. Smith-Diesel, S. Kaufman, U. Dirkscneider & W. Hoffman\\', 252051, 4331779, 0.99), (5, \\'Princess of the Dawn\\', 3, 2, 1, \\'Deaffy & R.A. Smith-Diesel\\', 375418, 6290521, 0.99), (6, \\'Put The Finger On You\\', 1, 1, 1, \\'Angus Young, Malcolm Young, Brian Johnson\\', 205662, 6713451, 0.99), (7, \"Let\\'s Get It Up\", 1, 1, 1, \\'Angus Young, Malcolm Young, Brian Johnson\\', 233926, 7636561, 0.99), (8, \\'Inject The Venom\\', 1, 1, 1, \\'Angus Young, Malcolm Young, Brian Johnson\\', 210834, 6852860, 0.99), (9, \\'Snowballed\\', 1, 1, 1, \\'Angus Young, Malcolm Young, Brian Johnson\\', 203102, 6599424, 0.99), (10, \\'Evil Walks\\', 1, 1, 1, \\'Angus Young, Malcolm Young, Brian Johnson\\', 263497, 8611245, 0.99)]', 'id': 'doc_0'}], document_ids={'doc_0'}),\n",
              "  CohereCitation(start=1209, end=1210, text='1', documents=[{'output': '[(1, \\'For Those About To Rock (We Salute You)\\', 1, 1, 1, \\'Angus Young, Malcolm Young, Brian Johnson\\', 343719, 11170334, 0.99), (2, \\'Balls to the Wall\\', 2, 2, 1, None, 342562, 5510424, 0.99), (3, \\'Fast As a Shark\\', 3, 2, 1, \\'F. Baltes, S. Kaufman, U. Dirkscneider & W. Hoffman\\', 230619, 3990994, 0.99), (4, \\'Restless and Wild\\', 3, 2, 1, \\'F. Baltes, R.A. Smith-Diesel, S. Kaufman, U. Dirkscneider & W. Hoffman\\', 252051, 4331779, 0.99), (5, \\'Princess of the Dawn\\', 3, 2, 1, \\'Deaffy & R.A. Smith-Diesel\\', 375418, 6290521, 0.99), (6, \\'Put The Finger On You\\', 1, 1, 1, \\'Angus Young, Malcolm Young, Brian Johnson\\', 205662, 6713451, 0.99), (7, \"Let\\'s Get It Up\", 1, 1, 1, \\'Angus Young, Malcolm Young, Brian Johnson\\', 233926, 7636561, 0.99), (8, \\'Inject The Venom\\', 1, 1, 1, \\'Angus Young, Malcolm Young, Brian Johnson\\', 210834, 6852860, 0.99), (9, \\'Snowballed\\', 1, 1, 1, \\'Angus Young, Malcolm Young, Brian Johnson\\', 203102, 6599424, 0.99), (10, \\'Evil Walks\\', 1, 1, 1, \\'Angus Young, Malcolm Young, Brian Johnson\\', 263497, 8611245, 0.99)]', 'id': 'doc_0'}], document_ids={'doc_0'}),\n",
              "  CohereCitation(start=1213, end=1254, text='Angus Young, Malcolm Young, Brian Johnson', documents=[{'output': '[(1, \\'For Those About To Rock (We Salute You)\\', 1, 1, 1, \\'Angus Young, Malcolm Young, Brian Johnson\\', 343719, 11170334, 0.99), (2, \\'Balls to the Wall\\', 2, 2, 1, None, 342562, 5510424, 0.99), (3, \\'Fast As a Shark\\', 3, 2, 1, \\'F. Baltes, S. Kaufman, U. Dirkscneider & W. Hoffman\\', 230619, 3990994, 0.99), (4, \\'Restless and Wild\\', 3, 2, 1, \\'F. Baltes, R.A. Smith-Diesel, S. Kaufman, U. Dirkscneider & W. Hoffman\\', 252051, 4331779, 0.99), (5, \\'Princess of the Dawn\\', 3, 2, 1, \\'Deaffy & R.A. Smith-Diesel\\', 375418, 6290521, 0.99), (6, \\'Put The Finger On You\\', 1, 1, 1, \\'Angus Young, Malcolm Young, Brian Johnson\\', 205662, 6713451, 0.99), (7, \"Let\\'s Get It Up\", 1, 1, 1, \\'Angus Young, Malcolm Young, Brian Johnson\\', 233926, 7636561, 0.99), (8, \\'Inject The Venom\\', 1, 1, 1, \\'Angus Young, Malcolm Young, Brian Johnson\\', 210834, 6852860, 0.99), (9, \\'Snowballed\\', 1, 1, 1, \\'Angus Young, Malcolm Young, Brian Johnson\\', 203102, 6599424, 0.99), (10, \\'Evil Walks\\', 1, 1, 1, \\'Angus Young, Malcolm Young, Brian Johnson\\', 263497, 8611245, 0.99)]', 'id': 'doc_0'}], document_ids={'doc_0'}),\n",
              "  CohereCitation(start=1257, end=1263, text='263497', documents=[{'output': '[(1, \\'For Those About To Rock (We Salute You)\\', 1, 1, 1, \\'Angus Young, Malcolm Young, Brian Johnson\\', 343719, 11170334, 0.99), (2, \\'Balls to the Wall\\', 2, 2, 1, None, 342562, 5510424, 0.99), (3, \\'Fast As a Shark\\', 3, 2, 1, \\'F. Baltes, S. Kaufman, U. Dirkscneider & W. Hoffman\\', 230619, 3990994, 0.99), (4, \\'Restless and Wild\\', 3, 2, 1, \\'F. Baltes, R.A. Smith-Diesel, S. Kaufman, U. Dirkscneider & W. Hoffman\\', 252051, 4331779, 0.99), (5, \\'Princess of the Dawn\\', 3, 2, 1, \\'Deaffy & R.A. Smith-Diesel\\', 375418, 6290521, 0.99), (6, \\'Put The Finger On You\\', 1, 1, 1, \\'Angus Young, Malcolm Young, Brian Johnson\\', 205662, 6713451, 0.99), (7, \"Let\\'s Get It Up\", 1, 1, 1, \\'Angus Young, Malcolm Young, Brian Johnson\\', 233926, 7636561, 0.99), (8, \\'Inject The Venom\\', 1, 1, 1, \\'Angus Young, Malcolm Young, Brian Johnson\\', 210834, 6852860, 0.99), (9, \\'Snowballed\\', 1, 1, 1, \\'Angus Young, Malcolm Young, Brian Johnson\\', 203102, 6599424, 0.99), (10, \\'Evil Walks\\', 1, 1, 1, \\'Angus Young, Malcolm Young, Brian Johnson\\', 263497, 8611245, 0.99)]', 'id': 'doc_0'}], document_ids={'doc_0'}),\n",
              "  CohereCitation(start=1266, end=1273, text='8611245', documents=[{'output': '[(1, \\'For Those About To Rock (We Salute You)\\', 1, 1, 1, \\'Angus Young, Malcolm Young, Brian Johnson\\', 343719, 11170334, 0.99), (2, \\'Balls to the Wall\\', 2, 2, 1, None, 342562, 5510424, 0.99), (3, \\'Fast As a Shark\\', 3, 2, 1, \\'F. Baltes, S. Kaufman, U. Dirkscneider & W. Hoffman\\', 230619, 3990994, 0.99), (4, \\'Restless and Wild\\', 3, 2, 1, \\'F. Baltes, R.A. Smith-Diesel, S. Kaufman, U. Dirkscneider & W. Hoffman\\', 252051, 4331779, 0.99), (5, \\'Princess of the Dawn\\', 3, 2, 1, \\'Deaffy & R.A. Smith-Diesel\\', 375418, 6290521, 0.99), (6, \\'Put The Finger On You\\', 1, 1, 1, \\'Angus Young, Malcolm Young, Brian Johnson\\', 205662, 6713451, 0.99), (7, \"Let\\'s Get It Up\", 1, 1, 1, \\'Angus Young, Malcolm Young, Brian Johnson\\', 233926, 7636561, 0.99), (8, \\'Inject The Venom\\', 1, 1, 1, \\'Angus Young, Malcolm Young, Brian Johnson\\', 210834, 6852860, 0.99), (9, \\'Snowballed\\', 1, 1, 1, \\'Angus Young, Malcolm Young, Brian Johnson\\', 203102, 6599424, 0.99), (10, \\'Evil Walks\\', 1, 1, 1, \\'Angus Young, Malcolm Young, Brian Johnson\\', 263497, 8611245, 0.99)]', 'id': 'doc_0'}], document_ids={'doc_0'}),\n",
              "  CohereCitation(start=1276, end=1280, text='0.99', documents=[{'output': '[(1, \\'For Those About To Rock (We Salute You)\\', 1, 1, 1, \\'Angus Young, Malcolm Young, Brian Johnson\\', 343719, 11170334, 0.99), (2, \\'Balls to the Wall\\', 2, 2, 1, None, 342562, 5510424, 0.99), (3, \\'Fast As a Shark\\', 3, 2, 1, \\'F. Baltes, S. Kaufman, U. Dirkscneider & W. Hoffman\\', 230619, 3990994, 0.99), (4, \\'Restless and Wild\\', 3, 2, 1, \\'F. Baltes, R.A. Smith-Diesel, S. Kaufman, U. Dirkscneider & W. Hoffman\\', 252051, 4331779, 0.99), (5, \\'Princess of the Dawn\\', 3, 2, 1, \\'Deaffy & R.A. Smith-Diesel\\', 375418, 6290521, 0.99), (6, \\'Put The Finger On You\\', 1, 1, 1, \\'Angus Young, Malcolm Young, Brian Johnson\\', 205662, 6713451, 0.99), (7, \"Let\\'s Get It Up\", 1, 1, 1, \\'Angus Young, Malcolm Young, Brian Johnson\\', 233926, 7636561, 0.99), (8, \\'Inject The Venom\\', 1, 1, 1, \\'Angus Young, Malcolm Young, Brian Johnson\\', 210834, 6852860, 0.99), (9, \\'Snowballed\\', 1, 1, 1, \\'Angus Young, Malcolm Young, Brian Johnson\\', 203102, 6599424, 0.99), (10, \\'Evil Walks\\', 1, 1, 1, \\'Angus Young, Malcolm Young, Brian Johnson\\', 263497, 8611245, 0.99)]', 'id': 'doc_0'}], document_ids={'doc_0'})],\n",
              " 'intermediate_steps': [(AgentActionMessageLog(tool='sql_db_query', tool_input={'query': 'SELECT * FROM tracks LIMIT 10'}, log=\"\\nI will use the SQL query tool to select the first 10 rows of the tracks table.\\n{'tool_name': 'sql_db_query', 'parameters': {'query': 'SELECT * FROM tracks LIMIT 10'}}\\n\", message_log=[AIMessage(content='\\nPlan: I will use the SQL query tool to select the first 10 rows of the tracks table.\\nAction: ```json\\n[\\n    {\\n        \"tool_name\": \"sql_db_query\",\\n        \"parameters\": {\\n            \"query\": \"SELECT * FROM tracks LIMIT 10\"\\n        }\\n    }\\n]\\n```')]),\n",
              "   '[(1, \\'For Those About To Rock (We Salute You)\\', 1, 1, 1, \\'Angus Young, Malcolm Young, Brian Johnson\\', 343719, 11170334, 0.99), (2, \\'Balls to the Wall\\', 2, 2, 1, None, 342562, 5510424, 0.99), (3, \\'Fast As a Shark\\', 3, 2, 1, \\'F. Baltes, S. Kaufman, U. Dirkscneider & W. Hoffman\\', 230619, 3990994, 0.99), (4, \\'Restless and Wild\\', 3, 2, 1, \\'F. Baltes, R.A. Smith-Diesel, S. Kaufman, U. Dirkscneider & W. Hoffman\\', 252051, 4331779, 0.99), (5, \\'Princess of the Dawn\\', 3, 2, 1, \\'Deaffy & R.A. Smith-Diesel\\', 375418, 6290521, 0.99), (6, \\'Put The Finger On You\\', 1, 1, 1, \\'Angus Young, Malcolm Young, Brian Johnson\\', 205662, 6713451, 0.99), (7, \"Let\\'s Get It Up\", 1, 1, 1, \\'Angus Young, Malcolm Young, Brian Johnson\\', 233926, 7636561, 0.99), (8, \\'Inject The Venom\\', 1, 1, 1, \\'Angus Young, Malcolm Young, Brian Johnson\\', 210834, 6852860, 0.99), (9, \\'Snowballed\\', 1, 1, 1, \\'Angus Young, Malcolm Young, Brian Johnson\\', 203102, 6599424, 0.99), (10, \\'Evil Walks\\', 1, 1, 1, \\'Angus Young, Malcolm Young, Brian Johnson\\', 263497, 8611245, 0.99)]')]}"
            ]
          },
          "metadata": {},
          "execution_count": 75
        }
      ],
      "source": [
        "agent_executor.invoke({\n",
        "  # \"input\": 'show the first row of the Playlist and Genre tables?',\n",
        "  \"input\": 'show the first 10 rows of tracks tables?',\n",
        "})"
      ]
    },
    {
      "cell_type": "markdown",
      "id": "3e77d393-7fd8-42df-8ed2-59badb3b6d5b",
      "metadata": {
        "id": "3e77d393-7fd8-42df-8ed2-59badb3b6d5b"
      },
      "source": [
        "Here we see that the tool takes a list of tables to query the sql_db_schema tool to retrieve the various schemas"
      ]
    },
    {
      "cell_type": "code",
      "execution_count": 47,
      "id": "4466e2b1-8cd7-4e50-aab4-8a6d9f809491",
      "metadata": {
        "id": "4466e2b1-8cd7-4e50-aab4-8a6d9f809491",
        "outputId": "f528b75c-db79-4cef-913c-dacdb637e1a4",
        "colab": {
          "base_uri": "https://localhost:8080/"
        }
      },
      "outputs": [
        {
          "output_type": "stream",
          "name": "stdout",
          "text": [
            "\n",
            "\n",
            "\u001b[1m> Entering new AgentExecutor chain...\u001b[0m\n",
            "\u001b[32;1m\u001b[1;3m\n",
            "I will run a SQL query to find the countries with the most invoices.\n",
            "{'tool_name': 'sql_db_query', 'parameters': {'query': 'SELECT country, COUNT(*) AS invoice_count FROM invoices GROUP BY country ORDER BY invoice_count DESC LIMIT 5'}}\n",
            "\u001b[0m\u001b[36;1m\u001b[1;3mError: (sqlite3.OperationalError) no such column: country\n",
            "[SQL: SELECT country, COUNT(*) AS invoice_count FROM invoices GROUP BY country ORDER BY invoice_count DESC LIMIT 5]\n",
            "(Background on this error at: https://sqlalche.me/e/20/e3q8)\u001b[0m\u001b[32;1m\u001b[1;3m\n",
            "I received an error message saying that there is no 'country' column in the 'invoices' table. I will run another query to find the column names in the 'invoices' table.\n",
            "{'tool_name': 'sql_db_schema', 'parameters': {'table_names': 'invoices'}}\n",
            "\u001b[0m\u001b[33;1m\u001b[1;3m\n",
            "CREATE TABLE invoices (\n",
            "\t\"InvoiceId\" INTEGER NOT NULL, \n",
            "\t\"CustomerId\" INTEGER NOT NULL, \n",
            "\t\"InvoiceDate\" DATETIME NOT NULL, \n",
            "\t\"BillingAddress\" NVARCHAR(70), \n",
            "\t\"BillingCity\" NVARCHAR(40), \n",
            "\t\"BillingState\" NVARCHAR(40), \n",
            "\t\"BillingCountry\" NVARCHAR(40), \n",
            "\t\"BillingPostalCode\" NVARCHAR(10), \n",
            "\t\"Total\" NUMERIC(10, 2) NOT NULL, \n",
            "\tPRIMARY KEY (\"InvoiceId\"), \n",
            "\tFOREIGN KEY(\"CustomerId\") REFERENCES customers (\"CustomerId\")\n",
            ")\n",
            "\n",
            "/*\n",
            "3 rows from invoices table:\n",
            "InvoiceId\tCustomerId\tInvoiceDate\tBillingAddress\tBillingCity\tBillingState\tBillingCountry\tBillingPostalCode\tTotal\n",
            "1\t2\t2009-01-01 00:00:00\tTheodor-Heuss-Straße 34\tStuttgart\tNone\tGermany\t70174\t1.98\n",
            "2\t4\t2009-01-02 00:00:00\tUllevålsveien 14\tOslo\tNone\tNorway\t0171\t3.96\n",
            "3\t8\t2009-01-03 00:00:00\tGrétrystraat 63\tBrussels\tNone\tBelgium\t1000\t5.94\n",
            "*/\u001b[0m\u001b[32;1m\u001b[1;3mRelevant Documents: 0,1\n",
            "Cited Documents: 0,1\n",
            "Answer: I'm sorry, I couldn't find the country column in the invoices table. The column names in the invoices table are:\n",
            "- InvoiceId\n",
            "- CustomerId\n",
            "- InvoiceDate\n",
            "- BillingAddress\n",
            "- BillingCity\n",
            "- BillingState\n",
            "- BillingCountry\n",
            "- BillingPostalCode\n",
            "- Total\n",
            "Grounded answer: I'm sorry, I couldn't find the country column in the invoices table. The column names in the invoices table are:\n",
            "- <co: 1>InvoiceId</co: 1>\n",
            "- <co: 1>CustomerId</co: 1>\n",
            "- <co: 1>InvoiceDate</co: 1>\n",
            "- <co: 1>BillingAddress</co: 1>\n",
            "- <co: 1>BillingCity</co: 1>\n",
            "- <co: 1>BillingState</co: 1>\n",
            "- <co: 1>BillingCountry</co: 1>\n",
            "- <co: 1>BillingPostalCode</co: 1>\n",
            "- <co: 1>Total</co: 1>\u001b[0m\n",
            "\n",
            "\u001b[1m> Finished chain.\u001b[0m\n"
          ]
        },
        {
          "output_type": "execute_result",
          "data": {
            "text/plain": [
              "{'input': 'which countries have the most invoices?',\n",
              " 'output': \"I'm sorry, I couldn't find the country column in the invoices table. The column names in the invoices table are:\\n- InvoiceId\\n- CustomerId\\n- InvoiceDate\\n- BillingAddress\\n- BillingCity\\n- BillingState\\n- BillingCountry\\n- BillingPostalCode\\n- Total\",\n",
              " 'citations': [CohereCitation(start=115, end=124, text='InvoiceId', documents=[{'output': '\\nCREATE TABLE invoices (\\n\\t\"InvoiceId\" INTEGER NOT NULL, \\n\\t\"CustomerId\" INTEGER NOT NULL, \\n\\t\"InvoiceDate\" DATETIME NOT NULL, \\n\\t\"BillingAddress\" NVARCHAR(70), \\n\\t\"BillingCity\" NVARCHAR(40), \\n\\t\"BillingState\" NVARCHAR(40), \\n\\t\"BillingCountry\" NVARCHAR(40), \\n\\t\"BillingPostalCode\" NVARCHAR(10), \\n\\t\"Total\" NUMERIC(10, 2) NOT NULL, \\n\\tPRIMARY KEY (\"InvoiceId\"), \\n\\tFOREIGN KEY(\"CustomerId\") REFERENCES customers (\"CustomerId\")\\n)\\n\\n/*\\n3 rows from invoices table:\\nInvoiceId\\tCustomerId\\tInvoiceDate\\tBillingAddress\\tBillingCity\\tBillingState\\tBillingCountry\\tBillingPostalCode\\tTotal\\n1\\t2\\t2009-01-01 00:00:00\\tTheodor-Heuss-Straße 34\\tStuttgart\\tNone\\tGermany\\t70174\\t1.98\\n2\\t4\\t2009-01-02 00:00:00\\tUllevålsveien 14\\tOslo\\tNone\\tNorway\\t0171\\t3.96\\n3\\t8\\t2009-01-03 00:00:00\\tGrétrystraat 63\\tBrussels\\tNone\\tBelgium\\t1000\\t5.94\\n*/', 'id': 'doc_1'}], document_ids={'doc_1'}),\n",
              "  CohereCitation(start=127, end=137, text='CustomerId', documents=[{'output': '\\nCREATE TABLE invoices (\\n\\t\"InvoiceId\" INTEGER NOT NULL, \\n\\t\"CustomerId\" INTEGER NOT NULL, \\n\\t\"InvoiceDate\" DATETIME NOT NULL, \\n\\t\"BillingAddress\" NVARCHAR(70), \\n\\t\"BillingCity\" NVARCHAR(40), \\n\\t\"BillingState\" NVARCHAR(40), \\n\\t\"BillingCountry\" NVARCHAR(40), \\n\\t\"BillingPostalCode\" NVARCHAR(10), \\n\\t\"Total\" NUMERIC(10, 2) NOT NULL, \\n\\tPRIMARY KEY (\"InvoiceId\"), \\n\\tFOREIGN KEY(\"CustomerId\") REFERENCES customers (\"CustomerId\")\\n)\\n\\n/*\\n3 rows from invoices table:\\nInvoiceId\\tCustomerId\\tInvoiceDate\\tBillingAddress\\tBillingCity\\tBillingState\\tBillingCountry\\tBillingPostalCode\\tTotal\\n1\\t2\\t2009-01-01 00:00:00\\tTheodor-Heuss-Straße 34\\tStuttgart\\tNone\\tGermany\\t70174\\t1.98\\n2\\t4\\t2009-01-02 00:00:00\\tUllevålsveien 14\\tOslo\\tNone\\tNorway\\t0171\\t3.96\\n3\\t8\\t2009-01-03 00:00:00\\tGrétrystraat 63\\tBrussels\\tNone\\tBelgium\\t1000\\t5.94\\n*/', 'id': 'doc_1'}], document_ids={'doc_1'}),\n",
              "  CohereCitation(start=140, end=151, text='InvoiceDate', documents=[{'output': '\\nCREATE TABLE invoices (\\n\\t\"InvoiceId\" INTEGER NOT NULL, \\n\\t\"CustomerId\" INTEGER NOT NULL, \\n\\t\"InvoiceDate\" DATETIME NOT NULL, \\n\\t\"BillingAddress\" NVARCHAR(70), \\n\\t\"BillingCity\" NVARCHAR(40), \\n\\t\"BillingState\" NVARCHAR(40), \\n\\t\"BillingCountry\" NVARCHAR(40), \\n\\t\"BillingPostalCode\" NVARCHAR(10), \\n\\t\"Total\" NUMERIC(10, 2) NOT NULL, \\n\\tPRIMARY KEY (\"InvoiceId\"), \\n\\tFOREIGN KEY(\"CustomerId\") REFERENCES customers (\"CustomerId\")\\n)\\n\\n/*\\n3 rows from invoices table:\\nInvoiceId\\tCustomerId\\tInvoiceDate\\tBillingAddress\\tBillingCity\\tBillingState\\tBillingCountry\\tBillingPostalCode\\tTotal\\n1\\t2\\t2009-01-01 00:00:00\\tTheodor-Heuss-Straße 34\\tStuttgart\\tNone\\tGermany\\t70174\\t1.98\\n2\\t4\\t2009-01-02 00:00:00\\tUllevålsveien 14\\tOslo\\tNone\\tNorway\\t0171\\t3.96\\n3\\t8\\t2009-01-03 00:00:00\\tGrétrystraat 63\\tBrussels\\tNone\\tBelgium\\t1000\\t5.94\\n*/', 'id': 'doc_1'}], document_ids={'doc_1'}),\n",
              "  CohereCitation(start=154, end=168, text='BillingAddress', documents=[{'output': '\\nCREATE TABLE invoices (\\n\\t\"InvoiceId\" INTEGER NOT NULL, \\n\\t\"CustomerId\" INTEGER NOT NULL, \\n\\t\"InvoiceDate\" DATETIME NOT NULL, \\n\\t\"BillingAddress\" NVARCHAR(70), \\n\\t\"BillingCity\" NVARCHAR(40), \\n\\t\"BillingState\" NVARCHAR(40), \\n\\t\"BillingCountry\" NVARCHAR(40), \\n\\t\"BillingPostalCode\" NVARCHAR(10), \\n\\t\"Total\" NUMERIC(10, 2) NOT NULL, \\n\\tPRIMARY KEY (\"InvoiceId\"), \\n\\tFOREIGN KEY(\"CustomerId\") REFERENCES customers (\"CustomerId\")\\n)\\n\\n/*\\n3 rows from invoices table:\\nInvoiceId\\tCustomerId\\tInvoiceDate\\tBillingAddress\\tBillingCity\\tBillingState\\tBillingCountry\\tBillingPostalCode\\tTotal\\n1\\t2\\t2009-01-01 00:00:00\\tTheodor-Heuss-Straße 34\\tStuttgart\\tNone\\tGermany\\t70174\\t1.98\\n2\\t4\\t2009-01-02 00:00:00\\tUllevålsveien 14\\tOslo\\tNone\\tNorway\\t0171\\t3.96\\n3\\t8\\t2009-01-03 00:00:00\\tGrétrystraat 63\\tBrussels\\tNone\\tBelgium\\t1000\\t5.94\\n*/', 'id': 'doc_1'}], document_ids={'doc_1'}),\n",
              "  CohereCitation(start=171, end=182, text='BillingCity', documents=[{'output': '\\nCREATE TABLE invoices (\\n\\t\"InvoiceId\" INTEGER NOT NULL, \\n\\t\"CustomerId\" INTEGER NOT NULL, \\n\\t\"InvoiceDate\" DATETIME NOT NULL, \\n\\t\"BillingAddress\" NVARCHAR(70), \\n\\t\"BillingCity\" NVARCHAR(40), \\n\\t\"BillingState\" NVARCHAR(40), \\n\\t\"BillingCountry\" NVARCHAR(40), \\n\\t\"BillingPostalCode\" NVARCHAR(10), \\n\\t\"Total\" NUMERIC(10, 2) NOT NULL, \\n\\tPRIMARY KEY (\"InvoiceId\"), \\n\\tFOREIGN KEY(\"CustomerId\") REFERENCES customers (\"CustomerId\")\\n)\\n\\n/*\\n3 rows from invoices table:\\nInvoiceId\\tCustomerId\\tInvoiceDate\\tBillingAddress\\tBillingCity\\tBillingState\\tBillingCountry\\tBillingPostalCode\\tTotal\\n1\\t2\\t2009-01-01 00:00:00\\tTheodor-Heuss-Straße 34\\tStuttgart\\tNone\\tGermany\\t70174\\t1.98\\n2\\t4\\t2009-01-02 00:00:00\\tUllevålsveien 14\\tOslo\\tNone\\tNorway\\t0171\\t3.96\\n3\\t8\\t2009-01-03 00:00:00\\tGrétrystraat 63\\tBrussels\\tNone\\tBelgium\\t1000\\t5.94\\n*/', 'id': 'doc_1'}], document_ids={'doc_1'}),\n",
              "  CohereCitation(start=185, end=197, text='BillingState', documents=[{'output': '\\nCREATE TABLE invoices (\\n\\t\"InvoiceId\" INTEGER NOT NULL, \\n\\t\"CustomerId\" INTEGER NOT NULL, \\n\\t\"InvoiceDate\" DATETIME NOT NULL, \\n\\t\"BillingAddress\" NVARCHAR(70), \\n\\t\"BillingCity\" NVARCHAR(40), \\n\\t\"BillingState\" NVARCHAR(40), \\n\\t\"BillingCountry\" NVARCHAR(40), \\n\\t\"BillingPostalCode\" NVARCHAR(10), \\n\\t\"Total\" NUMERIC(10, 2) NOT NULL, \\n\\tPRIMARY KEY (\"InvoiceId\"), \\n\\tFOREIGN KEY(\"CustomerId\") REFERENCES customers (\"CustomerId\")\\n)\\n\\n/*\\n3 rows from invoices table:\\nInvoiceId\\tCustomerId\\tInvoiceDate\\tBillingAddress\\tBillingCity\\tBillingState\\tBillingCountry\\tBillingPostalCode\\tTotal\\n1\\t2\\t2009-01-01 00:00:00\\tTheodor-Heuss-Straße 34\\tStuttgart\\tNone\\tGermany\\t70174\\t1.98\\n2\\t4\\t2009-01-02 00:00:00\\tUllevålsveien 14\\tOslo\\tNone\\tNorway\\t0171\\t3.96\\n3\\t8\\t2009-01-03 00:00:00\\tGrétrystraat 63\\tBrussels\\tNone\\tBelgium\\t1000\\t5.94\\n*/', 'id': 'doc_1'}], document_ids={'doc_1'}),\n",
              "  CohereCitation(start=200, end=214, text='BillingCountry', documents=[{'output': '\\nCREATE TABLE invoices (\\n\\t\"InvoiceId\" INTEGER NOT NULL, \\n\\t\"CustomerId\" INTEGER NOT NULL, \\n\\t\"InvoiceDate\" DATETIME NOT NULL, \\n\\t\"BillingAddress\" NVARCHAR(70), \\n\\t\"BillingCity\" NVARCHAR(40), \\n\\t\"BillingState\" NVARCHAR(40), \\n\\t\"BillingCountry\" NVARCHAR(40), \\n\\t\"BillingPostalCode\" NVARCHAR(10), \\n\\t\"Total\" NUMERIC(10, 2) NOT NULL, \\n\\tPRIMARY KEY (\"InvoiceId\"), \\n\\tFOREIGN KEY(\"CustomerId\") REFERENCES customers (\"CustomerId\")\\n)\\n\\n/*\\n3 rows from invoices table:\\nInvoiceId\\tCustomerId\\tInvoiceDate\\tBillingAddress\\tBillingCity\\tBillingState\\tBillingCountry\\tBillingPostalCode\\tTotal\\n1\\t2\\t2009-01-01 00:00:00\\tTheodor-Heuss-Straße 34\\tStuttgart\\tNone\\tGermany\\t70174\\t1.98\\n2\\t4\\t2009-01-02 00:00:00\\tUllevålsveien 14\\tOslo\\tNone\\tNorway\\t0171\\t3.96\\n3\\t8\\t2009-01-03 00:00:00\\tGrétrystraat 63\\tBrussels\\tNone\\tBelgium\\t1000\\t5.94\\n*/', 'id': 'doc_1'}], document_ids={'doc_1'}),\n",
              "  CohereCitation(start=217, end=234, text='BillingPostalCode', documents=[{'output': '\\nCREATE TABLE invoices (\\n\\t\"InvoiceId\" INTEGER NOT NULL, \\n\\t\"CustomerId\" INTEGER NOT NULL, \\n\\t\"InvoiceDate\" DATETIME NOT NULL, \\n\\t\"BillingAddress\" NVARCHAR(70), \\n\\t\"BillingCity\" NVARCHAR(40), \\n\\t\"BillingState\" NVARCHAR(40), \\n\\t\"BillingCountry\" NVARCHAR(40), \\n\\t\"BillingPostalCode\" NVARCHAR(10), \\n\\t\"Total\" NUMERIC(10, 2) NOT NULL, \\n\\tPRIMARY KEY (\"InvoiceId\"), \\n\\tFOREIGN KEY(\"CustomerId\") REFERENCES customers (\"CustomerId\")\\n)\\n\\n/*\\n3 rows from invoices table:\\nInvoiceId\\tCustomerId\\tInvoiceDate\\tBillingAddress\\tBillingCity\\tBillingState\\tBillingCountry\\tBillingPostalCode\\tTotal\\n1\\t2\\t2009-01-01 00:00:00\\tTheodor-Heuss-Straße 34\\tStuttgart\\tNone\\tGermany\\t70174\\t1.98\\n2\\t4\\t2009-01-02 00:00:00\\tUllevålsveien 14\\tOslo\\tNone\\tNorway\\t0171\\t3.96\\n3\\t8\\t2009-01-03 00:00:00\\tGrétrystraat 63\\tBrussels\\tNone\\tBelgium\\t1000\\t5.94\\n*/', 'id': 'doc_1'}], document_ids={'doc_1'}),\n",
              "  CohereCitation(start=237, end=242, text='Total', documents=[{'output': '\\nCREATE TABLE invoices (\\n\\t\"InvoiceId\" INTEGER NOT NULL, \\n\\t\"CustomerId\" INTEGER NOT NULL, \\n\\t\"InvoiceDate\" DATETIME NOT NULL, \\n\\t\"BillingAddress\" NVARCHAR(70), \\n\\t\"BillingCity\" NVARCHAR(40), \\n\\t\"BillingState\" NVARCHAR(40), \\n\\t\"BillingCountry\" NVARCHAR(40), \\n\\t\"BillingPostalCode\" NVARCHAR(10), \\n\\t\"Total\" NUMERIC(10, 2) NOT NULL, \\n\\tPRIMARY KEY (\"InvoiceId\"), \\n\\tFOREIGN KEY(\"CustomerId\") REFERENCES customers (\"CustomerId\")\\n)\\n\\n/*\\n3 rows from invoices table:\\nInvoiceId\\tCustomerId\\tInvoiceDate\\tBillingAddress\\tBillingCity\\tBillingState\\tBillingCountry\\tBillingPostalCode\\tTotal\\n1\\t2\\t2009-01-01 00:00:00\\tTheodor-Heuss-Straße 34\\tStuttgart\\tNone\\tGermany\\t70174\\t1.98\\n2\\t4\\t2009-01-02 00:00:00\\tUllevålsveien 14\\tOslo\\tNone\\tNorway\\t0171\\t3.96\\n3\\t8\\t2009-01-03 00:00:00\\tGrétrystraat 63\\tBrussels\\tNone\\tBelgium\\t1000\\t5.94\\n*/', 'id': 'doc_1'}], document_ids={'doc_1'})],\n",
              " 'intermediate_steps': [(AgentActionMessageLog(tool='sql_db_query', tool_input={'query': 'SELECT country, COUNT(*) AS invoice_count FROM invoices GROUP BY country ORDER BY invoice_count DESC LIMIT 5'}, log=\"\\nI will run a SQL query to find the countries with the most invoices.\\n{'tool_name': 'sql_db_query', 'parameters': {'query': 'SELECT country, COUNT(*) AS invoice_count FROM invoices GROUP BY country ORDER BY invoice_count DESC LIMIT 5'}}\\n\", message_log=[AIMessage(content='\\nPlan: I will run a SQL query to find the countries with the most invoices.\\nAction: ```json\\n[\\n    {\\n        \"tool_name\": \"sql_db_query\",\\n        \"parameters\": {\\n            \"query\": \"SELECT country, COUNT(*) AS invoice_count FROM invoices GROUP BY country ORDER BY invoice_count DESC LIMIT 5\"\\n        }\\n    }\\n]\\n```')]),\n",
              "   'Error: (sqlite3.OperationalError) no such column: country\\n[SQL: SELECT country, COUNT(*) AS invoice_count FROM invoices GROUP BY country ORDER BY invoice_count DESC LIMIT 5]\\n(Background on this error at: https://sqlalche.me/e/20/e3q8)'),\n",
              "  (AgentActionMessageLog(tool='sql_db_schema', tool_input={'table_names': 'invoices'}, log=\"\\nI received an error message saying that there is no 'country' column in the 'invoices' table. I will run another query to find the column names in the 'invoices' table.\\n{'tool_name': 'sql_db_schema', 'parameters': {'table_names': 'invoices'}}\\n\", message_log=[AIMessage(content='\\nReflection: I received an error message saying that there is no \\'country\\' column in the \\'invoices\\' table. I will run another query to find the column names in the \\'invoices\\' table.\\nAction: ```json\\n[\\n    {\\n        \"tool_name\": \"sql_db_schema\",\\n        \"parameters\": {\\n            \"table_names\": \"invoices\"\\n        }\\n    }\\n]\\n```')]),\n",
              "   '\\nCREATE TABLE invoices (\\n\\t\"InvoiceId\" INTEGER NOT NULL, \\n\\t\"CustomerId\" INTEGER NOT NULL, \\n\\t\"InvoiceDate\" DATETIME NOT NULL, \\n\\t\"BillingAddress\" NVARCHAR(70), \\n\\t\"BillingCity\" NVARCHAR(40), \\n\\t\"BillingState\" NVARCHAR(40), \\n\\t\"BillingCountry\" NVARCHAR(40), \\n\\t\"BillingPostalCode\" NVARCHAR(10), \\n\\t\"Total\" NUMERIC(10, 2) NOT NULL, \\n\\tPRIMARY KEY (\"InvoiceId\"), \\n\\tFOREIGN KEY(\"CustomerId\") REFERENCES customers (\"CustomerId\")\\n)\\n\\n/*\\n3 rows from invoices table:\\nInvoiceId\\tCustomerId\\tInvoiceDate\\tBillingAddress\\tBillingCity\\tBillingState\\tBillingCountry\\tBillingPostalCode\\tTotal\\n1\\t2\\t2009-01-01 00:00:00\\tTheodor-Heuss-Straße 34\\tStuttgart\\tNone\\tGermany\\t70174\\t1.98\\n2\\t4\\t2009-01-02 00:00:00\\tUllevålsveien 14\\tOslo\\tNone\\tNorway\\t0171\\t3.96\\n3\\t8\\t2009-01-03 00:00:00\\tGrétrystraat 63\\tBrussels\\tNone\\tBelgium\\t1000\\t5.94\\n*/')]}"
            ]
          },
          "metadata": {},
          "execution_count": 47
        }
      ],
      "source": [
        "agent_executor.invoke({\n",
        "   \"input\": 'which countries have the most invoices?',\n",
        "})"
      ]
    },
    {
      "cell_type": "markdown",
      "id": "634500b5-8980-4ee9-93a3-172130feeb5a",
      "metadata": {
        "id": "634500b5-8980-4ee9-93a3-172130feeb5a"
      },
      "source": [
        "The agent initially makes some errors as it jumps to answer the question using the db_query tool, but it then realizes it needs to figure out what tables it has access to and what they look like. It then fixes the sql code and is able to generate the right answer"
      ]
    },
    {
      "cell_type": "code",
      "execution_count": null,
      "id": "95144085-9a57-4b7d-ac8e-c0996c0d3e81",
      "metadata": {
        "id": "95144085-9a57-4b7d-ac8e-c0996c0d3e81",
        "outputId": "868a1323-a8a6-4f27-c405-3493c41587ee"
      },
      "outputs": [
        {
          "name": "stdout",
          "output_type": "stream",
          "text": [
            "\n",
            "\n",
            "\u001b[1m> Entering new AgentExecutor chain...\u001b[0m\n",
            "\u001b[32;1m\u001b[1;3m\n",
            "I will search for the customer who has spent the most money and write an answer based on the results.\n",
            "{'tool_name': 'sql_db_query', 'parameters': {'query': 'SELECT customer_name, SUM(total_price) AS total_spent FROM orders GROUP BY customer_name ORDER BY total_spent DESC LIMIT 1;'}}\n",
            "\u001b[0m\u001b[36;1m\u001b[1;3mError: (sqlite3.OperationalError) no such table: orders\n",
            "[SQL: SELECT customer_name, SUM(total_price) AS total_spent FROM orders GROUP BY customer_name ORDER BY total_spent DESC LIMIT 1;]\n",
            "(Background on this error at: https://sqlalche.me/e/20/e3q8)\u001b[0m\u001b[32;1m\u001b[1;3m\n",
            "I received an error message. I will now use the sql_db_list_tables tool to find out which tables are available.\n",
            "{'tool_name': 'sql_db_list_tables', 'parameters': {'tool_input': ''}}\n",
            "\u001b[0m\u001b[38;5;200m\u001b[1;3mAlbum, Artist, Customer, Employee, Genre, Invoice, InvoiceLine, MediaType, Playlist, PlaylistTrack, Track\u001b[0m\u001b[32;1m\u001b[1;3m\n",
            "I found that there is a 'Customer' table and an 'Invoice' table. I will now use the sql_db_schema tool to find out more about these tables.\n",
            "{'tool_name': 'sql_db_schema', 'parameters': {'table_names': 'Customer,Invoice'}}\n",
            "\u001b[0m\u001b[33;1m\u001b[1;3m\n",
            "CREATE TABLE \"Customer\" (\n",
            "\t\"CustomerId\" INTEGER NOT NULL, \n",
            "\t\"FirstName\" NVARCHAR(40) NOT NULL, \n",
            "\t\"LastName\" NVARCHAR(20) NOT NULL, \n",
            "\t\"Company\" NVARCHAR(80), \n",
            "\t\"Address\" NVARCHAR(70), \n",
            "\t\"City\" NVARCHAR(40), \n",
            "\t\"State\" NVARCHAR(40), \n",
            "\t\"Country\" NVARCHAR(40), \n",
            "\t\"PostalCode\" NVARCHAR(10), \n",
            "\t\"Phone\" NVARCHAR(24), \n",
            "\t\"Fax\" NVARCHAR(24), \n",
            "\t\"Email\" NVARCHAR(60) NOT NULL, \n",
            "\t\"SupportRepId\" INTEGER, \n",
            "\tPRIMARY KEY (\"CustomerId\"), \n",
            "\tFOREIGN KEY(\"SupportRepId\") REFERENCES \"Employee\" (\"EmployeeId\")\n",
            ")\n",
            "\n",
            "/*\n",
            "3 rows from Customer table:\n",
            "CustomerId\tFirstName\tLastName\tCompany\tAddress\tCity\tState\tCountry\tPostalCode\tPhone\tFax\tEmail\tSupportRepId\n",
            "1\tLuís\tGonçalves\tEmbraer - Empresa Brasileira de Aeronáutica S.A.\tAv. Brigadeiro Faria Lima, 2170\tSão José dos Campos\tSP\tBrazil\t12227-000\t+55 (12) 3923-5555\t+55 (12) 3923-5566\tluisg@embraer.com.br\t3\n",
            "2\tLeonie\tKöhler\tNone\tTheodor-Heuss-Straße 34\tStuttgart\tNone\tGermany\t70174\t+49 0711 2842222\tNone\tleonekohler@surfeu.de\t5\n",
            "3\tFrançois\tTremblay\tNone\t1498 rue Bélanger\tMontréal\tQC\tCanada\tH2G 1A7\t+1 (514) 721-4711\tNone\tftremblay@gmail.com\t3\n",
            "*/\n",
            "\n",
            "\n",
            "CREATE TABLE \"Invoice\" (\n",
            "\t\"InvoiceId\" INTEGER NOT NULL, \n",
            "\t\"CustomerId\" INTEGER NOT NULL, \n",
            "\t\"InvoiceDate\" DATETIME NOT NULL, \n",
            "\t\"BillingAddress\" NVARCHAR(70), \n",
            "\t\"BillingCity\" NVARCHAR(40), \n",
            "\t\"BillingState\" NVARCHAR(40), \n",
            "\t\"BillingCountry\" NVARCHAR(40), \n",
            "\t\"BillingPostalCode\" NVARCHAR(10), \n",
            "\t\"Total\" NUMERIC(10, 2) NOT NULL, \n",
            "\tPRIMARY KEY (\"InvoiceId\"), \n",
            "\tFOREIGN KEY(\"CustomerId\") REFERENCES \"Customer\" (\"CustomerId\")\n",
            ")\n",
            "\n",
            "/*\n",
            "3 rows from Invoice table:\n",
            "InvoiceId\tCustomerId\tInvoiceDate\tBillingAddress\tBillingCity\tBillingState\tBillingCountry\tBillingPostalCode\tTotal\n",
            "1\t2\t2021-01-01 00:00:00\tTheodor-Heuss-Straße 34\tStuttgart\tNone\tGermany\t70174\t1.98\n",
            "2\t4\t2021-01-02 00:00:00\tUllevålsveien 14\tOslo\tNone\tNorway\t0171\t3.96\n",
            "3\t8\t2021-01-03 00:00:00\tGrétrystraat 63\tBrussels\tNone\tBelgium\t1000\t5.94\n",
            "*/\u001b[0m\u001b[32;1m\u001b[1;3m\n",
            "I found that the 'Customer' table contains information about customers, including their names, addresses, and phone numbers. The 'Invoice' table contains information about invoices, including the customer ID, invoice date, and total amount. I will now write a new query to find the customer who has spent the most money.\n",
            "{'tool_name': 'sql_db_query', 'parameters': {'query': 'SELECT c.FirstName, c.LastName, SUM(i.Total) AS total_spent FROM Customer c JOIN Invoice i ON c.CustomerId = i.CustomerId GROUP BY c.CustomerId ORDER BY total_spent DESC LIMIT 1;'}}\n",
            "\u001b[0m\u001b[36;1m\u001b[1;3m[('Helena', 'Holý', 49.62)]\u001b[0m\u001b[32;1m\u001b[1;3mRelevant Documents: 1,2,3\n",
            "Cited Documents: 3\n",
            "Answer: The best customer is Helena Holý, who has spent a total of 49.62.\n",
            "Grounded answer: The best customer is <co: 3>Helena Holý</co: 3>, who has spent a total of <co: 3>49.62</co: 3>.\u001b[0m\n",
            "\n",
            "\u001b[1m> Finished chain.\u001b[0m\n"
          ]
        },
        {
          "data": {
            "text/plain": [
              "{'input': 'who is the best customer? The customer who has spent the most money is the best.',\n",
              " 'output': 'The best customer is Helena Holý, who has spent a total of 49.62.',\n",
              " 'citations': [CohereCitation(start=21, end=32, text='Helena Holý', documents=[{'output': \"[('Helena', 'Holý', 49.62)]\"}]),\n",
              "  CohereCitation(start=59, end=64, text='49.62', documents=[{'output': \"[('Helena', 'Holý', 49.62)]\"}])],\n",
              " 'intermediate_steps': [(AgentActionMessageLog(tool='sql_db_query', tool_input={'query': 'SELECT customer_name, SUM(total_price) AS total_spent FROM orders GROUP BY customer_name ORDER BY total_spent DESC LIMIT 1;'}, log=\"\\nI will search for the customer who has spent the most money and write an answer based on the results.\\n{'tool_name': 'sql_db_query', 'parameters': {'query': 'SELECT customer_name, SUM(total_price) AS total_spent FROM orders GROUP BY customer_name ORDER BY total_spent DESC LIMIT 1;'}}\\n\", message_log=[AIMessage(content='\\nPlan: I will search for the customer who has spent the most money and write an answer based on the results.\\nAction: ```json\\n[\\n    {\\n        \"tool_name\": \"sql_db_query\",\\n        \"parameters\": {\\n            \"query\": \"SELECT customer_name, SUM(total_price) AS total_spent FROM orders GROUP BY customer_name ORDER BY total_spent DESC LIMIT 1;\"\\n        }\\n    }\\n]\\n```')]),\n",
              "   'Error: (sqlite3.OperationalError) no such table: orders\\n[SQL: SELECT customer_name, SUM(total_price) AS total_spent FROM orders GROUP BY customer_name ORDER BY total_spent DESC LIMIT 1;]\\n(Background on this error at: https://sqlalche.me/e/20/e3q8)'),\n",
              "  (AgentActionMessageLog(tool='sql_db_list_tables', tool_input={'tool_input': ''}, log=\"\\nI received an error message. I will now use the sql_db_list_tables tool to find out which tables are available.\\n{'tool_name': 'sql_db_list_tables', 'parameters': {'tool_input': ''}}\\n\", message_log=[AIMessage(content='\\nReflection: I received an error message. I will now use the sql_db_list_tables tool to find out which tables are available.\\nAction: ```json\\n[\\n    {\\n        \"tool_name\": \"sql_db_list_tables\",\\n        \"parameters\": {\\n            \"tool_input\": \"\"\\n        }\\n    }\\n]\\n```')]),\n",
              "   'Album, Artist, Customer, Employee, Genre, Invoice, InvoiceLine, MediaType, Playlist, PlaylistTrack, Track'),\n",
              "  (AgentActionMessageLog(tool='sql_db_schema', tool_input={'table_names': 'Customer,Invoice'}, log=\"\\nI found that there is a 'Customer' table and an 'Invoice' table. I will now use the sql_db_schema tool to find out more about these tables.\\n{'tool_name': 'sql_db_schema', 'parameters': {'table_names': 'Customer,Invoice'}}\\n\", message_log=[AIMessage(content='\\nReflection: I found that there is a \\'Customer\\' table and an \\'Invoice\\' table. I will now use the sql_db_schema tool to find out more about these tables.\\nAction: ```json\\n[\\n    {\\n        \"tool_name\": \"sql_db_schema\",\\n        \"parameters\": {\\n            \"table_names\": \"Customer,Invoice\"\\n        }\\n    }\\n]\\n```')]),\n",
              "   '\\nCREATE TABLE \"Customer\" (\\n\\t\"CustomerId\" INTEGER NOT NULL, \\n\\t\"FirstName\" NVARCHAR(40) NOT NULL, \\n\\t\"LastName\" NVARCHAR(20) NOT NULL, \\n\\t\"Company\" NVARCHAR(80), \\n\\t\"Address\" NVARCHAR(70), \\n\\t\"City\" NVARCHAR(40), \\n\\t\"State\" NVARCHAR(40), \\n\\t\"Country\" NVARCHAR(40), \\n\\t\"PostalCode\" NVARCHAR(10), \\n\\t\"Phone\" NVARCHAR(24), \\n\\t\"Fax\" NVARCHAR(24), \\n\\t\"Email\" NVARCHAR(60) NOT NULL, \\n\\t\"SupportRepId\" INTEGER, \\n\\tPRIMARY KEY (\"CustomerId\"), \\n\\tFOREIGN KEY(\"SupportRepId\") REFERENCES \"Employee\" (\"EmployeeId\")\\n)\\n\\n/*\\n3 rows from Customer table:\\nCustomerId\\tFirstName\\tLastName\\tCompany\\tAddress\\tCity\\tState\\tCountry\\tPostalCode\\tPhone\\tFax\\tEmail\\tSupportRepId\\n1\\tLuís\\tGonçalves\\tEmbraer - Empresa Brasileira de Aeronáutica S.A.\\tAv. Brigadeiro Faria Lima, 2170\\tSão José dos Campos\\tSP\\tBrazil\\t12227-000\\t+55 (12) 3923-5555\\t+55 (12) 3923-5566\\tluisg@embraer.com.br\\t3\\n2\\tLeonie\\tKöhler\\tNone\\tTheodor-Heuss-Straße 34\\tStuttgart\\tNone\\tGermany\\t70174\\t+49 0711 2842222\\tNone\\tleonekohler@surfeu.de\\t5\\n3\\tFrançois\\tTremblay\\tNone\\t1498 rue Bélanger\\tMontréal\\tQC\\tCanada\\tH2G 1A7\\t+1 (514) 721-4711\\tNone\\tftremblay@gmail.com\\t3\\n*/\\n\\n\\nCREATE TABLE \"Invoice\" (\\n\\t\"InvoiceId\" INTEGER NOT NULL, \\n\\t\"CustomerId\" INTEGER NOT NULL, \\n\\t\"InvoiceDate\" DATETIME NOT NULL, \\n\\t\"BillingAddress\" NVARCHAR(70), \\n\\t\"BillingCity\" NVARCHAR(40), \\n\\t\"BillingState\" NVARCHAR(40), \\n\\t\"BillingCountry\" NVARCHAR(40), \\n\\t\"BillingPostalCode\" NVARCHAR(10), \\n\\t\"Total\" NUMERIC(10, 2) NOT NULL, \\n\\tPRIMARY KEY (\"InvoiceId\"), \\n\\tFOREIGN KEY(\"CustomerId\") REFERENCES \"Customer\" (\"CustomerId\")\\n)\\n\\n/*\\n3 rows from Invoice table:\\nInvoiceId\\tCustomerId\\tInvoiceDate\\tBillingAddress\\tBillingCity\\tBillingState\\tBillingCountry\\tBillingPostalCode\\tTotal\\n1\\t2\\t2021-01-01 00:00:00\\tTheodor-Heuss-Straße 34\\tStuttgart\\tNone\\tGermany\\t70174\\t1.98\\n2\\t4\\t2021-01-02 00:00:00\\tUllevålsveien 14\\tOslo\\tNone\\tNorway\\t0171\\t3.96\\n3\\t8\\t2021-01-03 00:00:00\\tGrétrystraat 63\\tBrussels\\tNone\\tBelgium\\t1000\\t5.94\\n*/'),\n",
              "  (AgentActionMessageLog(tool='sql_db_query', tool_input={'query': 'SELECT c.FirstName, c.LastName, SUM(i.Total) AS total_spent FROM Customer c JOIN Invoice i ON c.CustomerId = i.CustomerId GROUP BY c.CustomerId ORDER BY total_spent DESC LIMIT 1;'}, log=\"\\nI found that the 'Customer' table contains information about customers, including their names, addresses, and phone numbers. The 'Invoice' table contains information about invoices, including the customer ID, invoice date, and total amount. I will now write a new query to find the customer who has spent the most money.\\n{'tool_name': 'sql_db_query', 'parameters': {'query': 'SELECT c.FirstName, c.LastName, SUM(i.Total) AS total_spent FROM Customer c JOIN Invoice i ON c.CustomerId = i.CustomerId GROUP BY c.CustomerId ORDER BY total_spent DESC LIMIT 1;'}}\\n\", message_log=[AIMessage(content='\\nReflection: I found that the \\'Customer\\' table contains information about customers, including their names, addresses, and phone numbers. The \\'Invoice\\' table contains information about invoices, including the customer ID, invoice date, and total amount. I will now write a new query to find the customer who has spent the most money.\\nAction: ```json\\n[\\n    {\\n        \"tool_name\": \"sql_db_query\",\\n        \"parameters\": {\\n            \"query\": \"SELECT c.FirstName, c.LastName, SUM(i.Total) AS total_spent FROM Customer c JOIN Invoice i ON c.CustomerId = i.CustomerId GROUP BY c.CustomerId ORDER BY total_spent DESC LIMIT 1;\"\\n        }\\n    }\\n]\\n```')]),\n",
              "   \"[('Helena', 'Holý', 49.62)]\")]}"
            ]
          },
          "execution_count": 18,
          "metadata": {},
          "output_type": "execute_result"
        }
      ],
      "source": [
        "agent_executor.invoke({\n",
        "   \"input\": 'who is the best customer? The customer who has spent the most money is the best.',\n",
        "})"
      ]
    },
    {
      "cell_type": "markdown",
      "id": "14ca1ab1-1deb-4c25-bc2d-6f047bcb49d9",
      "metadata": {
        "id": "14ca1ab1-1deb-4c25-bc2d-6f047bcb49d9"
      },
      "source": [
        "As you can see, the agent makes an error, but is able to rectify itself. It also manages to generate SQL query over two tables in the database"
      ]
    },
    {
      "cell_type": "markdown",
      "id": "1c9ea4d9-8f92-4780-b33e-e348b2fa854f",
      "metadata": {
        "id": "1c9ea4d9-8f92-4780-b33e-e348b2fa854f"
      },
      "source": [
        "<a id=\"sec_step2\"></a>\n",
        "# SQL Agent with context"
      ]
    },
    {
      "cell_type": "markdown",
      "id": "1883f0f6-c1b9-41d0-9049-68d2101f8a9e",
      "metadata": {
        "id": "1883f0f6-c1b9-41d0-9049-68d2101f8a9e"
      },
      "source": [
        "From our experiments, we have found that passing in additional context to the preamble can help reduce the initial failures. This context is provided by the SQLDBToolkit and contains the first 3 rows of the tables in the Database"
      ]
    },
    {
      "cell_type": "code",
      "execution_count": 48,
      "id": "fd781ff2-ee5f-4fef-b1b4-fde58562383c",
      "metadata": {
        "id": "fd781ff2-ee5f-4fef-b1b4-fde58562383c",
        "outputId": "1a93a5d7-37f9-44bf-fa5a-8b8f3092007b",
        "colab": {
          "base_uri": "https://localhost:8080/"
        }
      },
      "outputs": [
        {
          "output_type": "execute_result",
          "data": {
            "text/plain": [
              "{'table_info': '\\nCREATE TABLE albums (\\n\\t\"AlbumId\" INTEGER NOT NULL, \\n\\t\"Title\" NVARCHAR(160) NOT NULL, \\n\\t\"ArtistId\" INTEGER NOT NULL, \\n\\tPRIMARY KEY (\"AlbumId\"), \\n\\tFOREIGN KEY(\"ArtistId\") REFERENCES artists (\"ArtistId\")\\n)\\n\\n/*\\n3 rows from albums table:\\nAlbumId\\tTitle\\tArtistId\\n1\\tFor Those About To Rock We Salute You\\t1\\n2\\tBalls to the Wall\\t2\\n3\\tRestless and Wild\\t2\\n*/\\n\\n\\nCREATE TABLE artists (\\n\\t\"ArtistId\" INTEGER NOT NULL, \\n\\t\"Name\" NVARCHAR(120), \\n\\tPRIMARY KEY (\"ArtistId\")\\n)\\n\\n/*\\n3 rows from artists table:\\nArtistId\\tName\\n1\\tAC/DC\\n2\\tAccept\\n3\\tAerosmith\\n*/\\n\\n\\nCREATE TABLE customers (\\n\\t\"CustomerId\" INTEGER NOT NULL, \\n\\t\"FirstName\" NVARCHAR(40) NOT NULL, \\n\\t\"LastName\" NVARCHAR(20) NOT NULL, \\n\\t\"Company\" NVARCHAR(80), \\n\\t\"Address\" NVARCHAR(70), \\n\\t\"City\" NVARCHAR(40), \\n\\t\"State\" NVARCHAR(40), \\n\\t\"Country\" NVARCHAR(40), \\n\\t\"PostalCode\" NVARCHAR(10), \\n\\t\"Phone\" NVARCHAR(24), \\n\\t\"Fax\" NVARCHAR(24), \\n\\t\"Email\" NVARCHAR(60) NOT NULL, \\n\\t\"SupportRepId\" INTEGER, \\n\\tPRIMARY KEY (\"CustomerId\"), \\n\\tFOREIGN KEY(\"SupportRepId\") REFERENCES employees (\"EmployeeId\")\\n)\\n\\n/*\\n3 rows from customers table:\\nCustomerId\\tFirstName\\tLastName\\tCompany\\tAddress\\tCity\\tState\\tCountry\\tPostalCode\\tPhone\\tFax\\tEmail\\tSupportRepId\\n1\\tLuís\\tGonçalves\\tEmbraer - Empresa Brasileira de Aeronáutica S.A.\\tAv. Brigadeiro Faria Lima, 2170\\tSão José dos Campos\\tSP\\tBrazil\\t12227-000\\t+55 (12) 3923-5555\\t+55 (12) 3923-5566\\tluisg@embraer.com.br\\t3\\n2\\tLeonie\\tKöhler\\tNone\\tTheodor-Heuss-Straße 34\\tStuttgart\\tNone\\tGermany\\t70174\\t+49 0711 2842222\\tNone\\tleonekohler@surfeu.de\\t5\\n3\\tFrançois\\tTremblay\\tNone\\t1498 rue Bélanger\\tMontréal\\tQC\\tCanada\\tH2G 1A7\\t+1 (514) 721-4711\\tNone\\tftremblay@gmail.com\\t3\\n*/\\n\\n\\nCREATE TABLE employees (\\n\\t\"EmployeeId\" INTEGER NOT NULL, \\n\\t\"LastName\" NVARCHAR(20) NOT NULL, \\n\\t\"FirstName\" NVARCHAR(20) NOT NULL, \\n\\t\"Title\" NVARCHAR(30), \\n\\t\"ReportsTo\" INTEGER, \\n\\t\"BirthDate\" DATETIME, \\n\\t\"HireDate\" DATETIME, \\n\\t\"Address\" NVARCHAR(70), \\n\\t\"City\" NVARCHAR(40), \\n\\t\"State\" NVARCHAR(40), \\n\\t\"Country\" NVARCHAR(40), \\n\\t\"PostalCode\" NVARCHAR(10), \\n\\t\"Phone\" NVARCHAR(24), \\n\\t\"Fax\" NVARCHAR(24), \\n\\t\"Email\" NVARCHAR(60), \\n\\tPRIMARY KEY (\"EmployeeId\"), \\n\\tFOREIGN KEY(\"ReportsTo\") REFERENCES employees (\"EmployeeId\")\\n)\\n\\n/*\\n3 rows from employees table:\\nEmployeeId\\tLastName\\tFirstName\\tTitle\\tReportsTo\\tBirthDate\\tHireDate\\tAddress\\tCity\\tState\\tCountry\\tPostalCode\\tPhone\\tFax\\tEmail\\n1\\tAdams\\tAndrew\\tGeneral Manager\\tNone\\t1962-02-18 00:00:00\\t2002-08-14 00:00:00\\t11120 Jasper Ave NW\\tEdmonton\\tAB\\tCanada\\tT5K 2N1\\t+1 (780) 428-9482\\t+1 (780) 428-3457\\tandrew@chinookcorp.com\\n2\\tEdwards\\tNancy\\tSales Manager\\t1\\t1958-12-08 00:00:00\\t2002-05-01 00:00:00\\t825 8 Ave SW\\tCalgary\\tAB\\tCanada\\tT2P 2T3\\t+1 (403) 262-3443\\t+1 (403) 262-3322\\tnancy@chinookcorp.com\\n3\\tPeacock\\tJane\\tSales Support Agent\\t2\\t1973-08-29 00:00:00\\t2002-04-01 00:00:00\\t1111 6 Ave SW\\tCalgary\\tAB\\tCanada\\tT2P 5M5\\t+1 (403) 262-3443\\t+1 (403) 262-6712\\tjane@chinookcorp.com\\n*/\\n\\n\\nCREATE TABLE genres (\\n\\t\"GenreId\" INTEGER NOT NULL, \\n\\t\"Name\" NVARCHAR(120), \\n\\tPRIMARY KEY (\"GenreId\")\\n)\\n\\n/*\\n3 rows from genres table:\\nGenreId\\tName\\n1\\tRock\\n2\\tJazz\\n3\\tMetal\\n*/\\n\\n\\nCREATE TABLE invoice_items (\\n\\t\"InvoiceLineId\" INTEGER NOT NULL, \\n\\t\"InvoiceId\" INTEGER NOT NULL, \\n\\t\"TrackId\" INTEGER NOT NULL, \\n\\t\"UnitPrice\" NUMERIC(10, 2) NOT NULL, \\n\\t\"Quantity\" INTEGER NOT NULL, \\n\\tPRIMARY KEY (\"InvoiceLineId\"), \\n\\tFOREIGN KEY(\"TrackId\") REFERENCES tracks (\"TrackId\"), \\n\\tFOREIGN KEY(\"InvoiceId\") REFERENCES invoices (\"InvoiceId\")\\n)\\n\\n/*\\n3 rows from invoice_items table:\\nInvoiceLineId\\tInvoiceId\\tTrackId\\tUnitPrice\\tQuantity\\n1\\t1\\t2\\t0.99\\t1\\n2\\t1\\t4\\t0.99\\t1\\n3\\t2\\t6\\t0.99\\t1\\n*/\\n\\n\\nCREATE TABLE invoices (\\n\\t\"InvoiceId\" INTEGER NOT NULL, \\n\\t\"CustomerId\" INTEGER NOT NULL, \\n\\t\"InvoiceDate\" DATETIME NOT NULL, \\n\\t\"BillingAddress\" NVARCHAR(70), \\n\\t\"BillingCity\" NVARCHAR(40), \\n\\t\"BillingState\" NVARCHAR(40), \\n\\t\"BillingCountry\" NVARCHAR(40), \\n\\t\"BillingPostalCode\" NVARCHAR(10), \\n\\t\"Total\" NUMERIC(10, 2) NOT NULL, \\n\\tPRIMARY KEY (\"InvoiceId\"), \\n\\tFOREIGN KEY(\"CustomerId\") REFERENCES customers (\"CustomerId\")\\n)\\n\\n/*\\n3 rows from invoices table:\\nInvoiceId\\tCustomerId\\tInvoiceDate\\tBillingAddress\\tBillingCity\\tBillingState\\tBillingCountry\\tBillingPostalCode\\tTotal\\n1\\t2\\t2009-01-01 00:00:00\\tTheodor-Heuss-Straße 34\\tStuttgart\\tNone\\tGermany\\t70174\\t1.98\\n2\\t4\\t2009-01-02 00:00:00\\tUllevålsveien 14\\tOslo\\tNone\\tNorway\\t0171\\t3.96\\n3\\t8\\t2009-01-03 00:00:00\\tGrétrystraat 63\\tBrussels\\tNone\\tBelgium\\t1000\\t5.94\\n*/\\n\\n\\nCREATE TABLE media_types (\\n\\t\"MediaTypeId\" INTEGER NOT NULL, \\n\\t\"Name\" NVARCHAR(120), \\n\\tPRIMARY KEY (\"MediaTypeId\")\\n)\\n\\n/*\\n3 rows from media_types table:\\nMediaTypeId\\tName\\n1\\tMPEG audio file\\n2\\tProtected AAC audio file\\n3\\tProtected MPEG-4 video file\\n*/\\n\\n\\nCREATE TABLE playlist_track (\\n\\t\"PlaylistId\" INTEGER NOT NULL, \\n\\t\"TrackId\" INTEGER NOT NULL, \\n\\tPRIMARY KEY (\"PlaylistId\", \"TrackId\"), \\n\\tFOREIGN KEY(\"TrackId\") REFERENCES tracks (\"TrackId\"), \\n\\tFOREIGN KEY(\"PlaylistId\") REFERENCES playlists (\"PlaylistId\")\\n)\\n\\n/*\\n3 rows from playlist_track table:\\nPlaylistId\\tTrackId\\n1\\t3402\\n1\\t3389\\n1\\t3390\\n*/\\n\\n\\nCREATE TABLE playlists (\\n\\t\"PlaylistId\" INTEGER NOT NULL, \\n\\t\"Name\" NVARCHAR(120), \\n\\tPRIMARY KEY (\"PlaylistId\")\\n)\\n\\n/*\\n3 rows from playlists table:\\nPlaylistId\\tName\\n1\\tMusic\\n2\\tMovies\\n3\\tTV Shows\\n*/\\n\\n\\nCREATE TABLE tracks (\\n\\t\"TrackId\" INTEGER NOT NULL, \\n\\t\"Name\" NVARCHAR(200) NOT NULL, \\n\\t\"AlbumId\" INTEGER, \\n\\t\"MediaTypeId\" INTEGER NOT NULL, \\n\\t\"GenreId\" INTEGER, \\n\\t\"Composer\" NVARCHAR(220), \\n\\t\"Milliseconds\" INTEGER NOT NULL, \\n\\t\"Bytes\" INTEGER, \\n\\t\"UnitPrice\" NUMERIC(10, 2) NOT NULL, \\n\\tPRIMARY KEY (\"TrackId\"), \\n\\tFOREIGN KEY(\"MediaTypeId\") REFERENCES media_types (\"MediaTypeId\"), \\n\\tFOREIGN KEY(\"GenreId\") REFERENCES genres (\"GenreId\"), \\n\\tFOREIGN KEY(\"AlbumId\") REFERENCES albums (\"AlbumId\")\\n)\\n\\n/*\\n3 rows from tracks table:\\nTrackId\\tName\\tAlbumId\\tMediaTypeId\\tGenreId\\tComposer\\tMilliseconds\\tBytes\\tUnitPrice\\n1\\tFor Those About To Rock (We Salute You)\\t1\\t1\\t1\\tAngus Young, Malcolm Young, Brian Johnson\\t343719\\t11170334\\t0.99\\n2\\tBalls to the Wall\\t2\\t2\\t1\\tNone\\t342562\\t5510424\\t0.99\\n3\\tFast As a Shark\\t3\\t2\\t1\\tF. Baltes, S. Kaufman, U. Dirkscneider & W. Hoffman\\t230619\\t3990994\\t0.99\\n*/',\n",
              " 'table_names': 'albums, artists, customers, employees, genres, invoice_items, invoices, media_types, playlist_track, playlists, tracks'}"
            ]
          },
          "metadata": {},
          "execution_count": 48
        }
      ],
      "source": [
        "context"
      ]
    },
    {
      "cell_type": "markdown",
      "id": "d726ce1f-1b47-4b06-bd2e-8969c429dde9",
      "metadata": {
        "id": "d726ce1f-1b47-4b06-bd2e-8969c429dde9"
      },
      "source": [
        "We can pass this context into the preamble and re-run a query to see how it performs."
      ]
    },
    {
      "cell_type": "code",
      "execution_count": 49,
      "id": "06913698-60ee-4b10-b28b-6462c565ad63",
      "metadata": {
        "id": "06913698-60ee-4b10-b28b-6462c565ad63"
      },
      "outputs": [],
      "source": [
        "preamble=\"\"\"## Task And Context\n",
        "You use your advanced complex reasoning capabilities to help people by answering their questions and other requests interactively. You will be asked a very wide array of requests on all kinds of topics. You will be equipped with a wide range of search engines or similar tools to help you, which you use to research your answer. You may need to use multiple tools in parallel or sequentially to complete your task. You should focus on serving the user's needs as best you can, which will be wide-ranging.\n",
        "\n",
        "## Style Guide\n",
        "Unless the user asks for a different style of answer, you should answer in full sentences, using proper grammar and spelling.\n",
        "\n",
        "## Additional Information\n",
        "You are an expert who answers the user's question by creating SQL queries and executing them.\n",
        "You are equipped with a number of relevant SQL tools.\n",
        "\n",
        "Here is information about the database:\n",
        "{schema_info}\n",
        "\"\"\".format(schema_info=context)"
      ]
    },
    {
      "cell_type": "code",
      "execution_count": 50,
      "id": "ad461d18-6ae9-40b5-8c85-a48ab9aa6bc0",
      "metadata": {
        "id": "ad461d18-6ae9-40b5-8c85-a48ab9aa6bc0",
        "outputId": "123d6d6d-ce3d-48bc-cb56-2c5c82b594a3",
        "colab": {
          "base_uri": "https://localhost:8080/"
        }
      },
      "outputs": [
        {
          "output_type": "stream",
          "name": "stdout",
          "text": [
            "\n",
            "\n",
            "\u001b[1m> Entering new AgentExecutor chain...\u001b[0m\n",
            "\u001b[32;1m\u001b[1;3m\n",
            "I will first find the total amount spent by each customer, then I will find the customer with the highest amount spent.\n",
            "{'tool_name': 'sql_db_query', 'parameters': {'query': 'SELECT CustomerId, SUM(Total) AS TotalSpent FROM invoices GROUP BY CustomerId ORDER BY TotalSpent DESC'}}\n",
            "\u001b[0m\u001b[36;1m\u001b[1;3m[(6, 49.620000000000005), (26, 47.620000000000005), (57, 46.62), (45, 45.62), (46, 45.62), (28, 43.620000000000005), (24, 43.62), (37, 43.62), (7, 42.62), (25, 42.62), (44, 41.620000000000005), (5, 40.620000000000005), (43, 40.620000000000005), (48, 40.62), (17, 39.620000000000005), (34, 39.620000000000005), (1, 39.62), (3, 39.62), (4, 39.62), (20, 39.62), (22, 39.62), (42, 39.62), (15, 38.620000000000005), (19, 38.620000000000005), (39, 38.620000000000005), (40, 38.620000000000005), (51, 38.620000000000005), (58, 38.620000000000005), (2, 37.620000000000005), (9, 37.620000000000005), (10, 37.620000000000005), (11, 37.620000000000005), (13, 37.620000000000005), (14, 37.620000000000005), (18, 37.620000000000005), (27, 37.620000000000005), (30, 37.620000000000005), (31, 37.620000000000005), (32, 37.620000000000005), (35, 37.620000000000005), (36, 37.620000000000005), (38, 37.620000000000005), (41, 37.620000000000005), (47, 37.620000000000005), (49, 37.620000000000005), (52, 37.620000000000005), (53, 37.620000000000005), (55, 37.620000000000005), (56, 37.620000000000005), (8, 37.62), (12, 37.62), (16, 37.62), (21, 37.62), (23, 37.62), (29, 37.62), (33, 37.62), (50, 37.62), (54, 37.62), (59, 36.64)]\u001b[0m\u001b[32;1m\u001b[1;3mRelevant Documents: 0\n",
            "Cited Documents: 0\n",
            "Answer: The best customer is the one with CustomerId 6, who has spent a total of $49.62.\n",
            "Grounded answer: The best customer is the one with <co: 0>CustomerId 6</co: 0>, who has spent a total of <co: 0>$49.62</co: 0>.\u001b[0m\n",
            "\n",
            "\u001b[1m> Finished chain.\u001b[0m\n"
          ]
        },
        {
          "output_type": "execute_result",
          "data": {
            "text/plain": [
              "{'input': 'provide the name of the best customer? The customer who has spent the most money is the best.',\n",
              " 'preamble': '## Task And Context\\nYou use your advanced complex reasoning capabilities to help people by answering their questions and other requests interactively. You will be asked a very wide array of requests on all kinds of topics. You will be equipped with a wide range of search engines or similar tools to help you, which you use to research your answer. You may need to use multiple tools in parallel or sequentially to complete your task. You should focus on serving the user\\'s needs as best you can, which will be wide-ranging.\\n\\n## Style Guide\\nUnless the user asks for a different style of answer, you should answer in full sentences, using proper grammar and spelling.\\n\\n## Additional Information\\nYou are an expert who answers the user\\'s question by creating SQL queries and executing them.\\nYou are equipped with a number of relevant SQL tools.\\n\\nHere is information about the database:\\n{\\'table_info\\': \\'\\\\nCREATE TABLE albums (\\\\n\\\\t\"AlbumId\" INTEGER NOT NULL, \\\\n\\\\t\"Title\" NVARCHAR(160) NOT NULL, \\\\n\\\\t\"ArtistId\" INTEGER NOT NULL, \\\\n\\\\tPRIMARY KEY (\"AlbumId\"), \\\\n\\\\tFOREIGN KEY(\"ArtistId\") REFERENCES artists (\"ArtistId\")\\\\n)\\\\n\\\\n/*\\\\n3 rows from albums table:\\\\nAlbumId\\\\tTitle\\\\tArtistId\\\\n1\\\\tFor Those About To Rock We Salute You\\\\t1\\\\n2\\\\tBalls to the Wall\\\\t2\\\\n3\\\\tRestless and Wild\\\\t2\\\\n*/\\\\n\\\\n\\\\nCREATE TABLE artists (\\\\n\\\\t\"ArtistId\" INTEGER NOT NULL, \\\\n\\\\t\"Name\" NVARCHAR(120), \\\\n\\\\tPRIMARY KEY (\"ArtistId\")\\\\n)\\\\n\\\\n/*\\\\n3 rows from artists table:\\\\nArtistId\\\\tName\\\\n1\\\\tAC/DC\\\\n2\\\\tAccept\\\\n3\\\\tAerosmith\\\\n*/\\\\n\\\\n\\\\nCREATE TABLE customers (\\\\n\\\\t\"CustomerId\" INTEGER NOT NULL, \\\\n\\\\t\"FirstName\" NVARCHAR(40) NOT NULL, \\\\n\\\\t\"LastName\" NVARCHAR(20) NOT NULL, \\\\n\\\\t\"Company\" NVARCHAR(80), \\\\n\\\\t\"Address\" NVARCHAR(70), \\\\n\\\\t\"City\" NVARCHAR(40), \\\\n\\\\t\"State\" NVARCHAR(40), \\\\n\\\\t\"Country\" NVARCHAR(40), \\\\n\\\\t\"PostalCode\" NVARCHAR(10), \\\\n\\\\t\"Phone\" NVARCHAR(24), \\\\n\\\\t\"Fax\" NVARCHAR(24), \\\\n\\\\t\"Email\" NVARCHAR(60) NOT NULL, \\\\n\\\\t\"SupportRepId\" INTEGER, \\\\n\\\\tPRIMARY KEY (\"CustomerId\"), \\\\n\\\\tFOREIGN KEY(\"SupportRepId\") REFERENCES employees (\"EmployeeId\")\\\\n)\\\\n\\\\n/*\\\\n3 rows from customers table:\\\\nCustomerId\\\\tFirstName\\\\tLastName\\\\tCompany\\\\tAddress\\\\tCity\\\\tState\\\\tCountry\\\\tPostalCode\\\\tPhone\\\\tFax\\\\tEmail\\\\tSupportRepId\\\\n1\\\\tLuís\\\\tGonçalves\\\\tEmbraer - Empresa Brasileira de Aeronáutica S.A.\\\\tAv. Brigadeiro Faria Lima, 2170\\\\tSão José dos Campos\\\\tSP\\\\tBrazil\\\\t12227-000\\\\t+55 (12) 3923-5555\\\\t+55 (12) 3923-5566\\\\tluisg@embraer.com.br\\\\t3\\\\n2\\\\tLeonie\\\\tKöhler\\\\tNone\\\\tTheodor-Heuss-Straße 34\\\\tStuttgart\\\\tNone\\\\tGermany\\\\t70174\\\\t+49 0711 2842222\\\\tNone\\\\tleonekohler@surfeu.de\\\\t5\\\\n3\\\\tFrançois\\\\tTremblay\\\\tNone\\\\t1498 rue Bélanger\\\\tMontréal\\\\tQC\\\\tCanada\\\\tH2G 1A7\\\\t+1 (514) 721-4711\\\\tNone\\\\tftremblay@gmail.com\\\\t3\\\\n*/\\\\n\\\\n\\\\nCREATE TABLE employees (\\\\n\\\\t\"EmployeeId\" INTEGER NOT NULL, \\\\n\\\\t\"LastName\" NVARCHAR(20) NOT NULL, \\\\n\\\\t\"FirstName\" NVARCHAR(20) NOT NULL, \\\\n\\\\t\"Title\" NVARCHAR(30), \\\\n\\\\t\"ReportsTo\" INTEGER, \\\\n\\\\t\"BirthDate\" DATETIME, \\\\n\\\\t\"HireDate\" DATETIME, \\\\n\\\\t\"Address\" NVARCHAR(70), \\\\n\\\\t\"City\" NVARCHAR(40), \\\\n\\\\t\"State\" NVARCHAR(40), \\\\n\\\\t\"Country\" NVARCHAR(40), \\\\n\\\\t\"PostalCode\" NVARCHAR(10), \\\\n\\\\t\"Phone\" NVARCHAR(24), \\\\n\\\\t\"Fax\" NVARCHAR(24), \\\\n\\\\t\"Email\" NVARCHAR(60), \\\\n\\\\tPRIMARY KEY (\"EmployeeId\"), \\\\n\\\\tFOREIGN KEY(\"ReportsTo\") REFERENCES employees (\"EmployeeId\")\\\\n)\\\\n\\\\n/*\\\\n3 rows from employees table:\\\\nEmployeeId\\\\tLastName\\\\tFirstName\\\\tTitle\\\\tReportsTo\\\\tBirthDate\\\\tHireDate\\\\tAddress\\\\tCity\\\\tState\\\\tCountry\\\\tPostalCode\\\\tPhone\\\\tFax\\\\tEmail\\\\n1\\\\tAdams\\\\tAndrew\\\\tGeneral Manager\\\\tNone\\\\t1962-02-18 00:00:00\\\\t2002-08-14 00:00:00\\\\t11120 Jasper Ave NW\\\\tEdmonton\\\\tAB\\\\tCanada\\\\tT5K 2N1\\\\t+1 (780) 428-9482\\\\t+1 (780) 428-3457\\\\tandrew@chinookcorp.com\\\\n2\\\\tEdwards\\\\tNancy\\\\tSales Manager\\\\t1\\\\t1958-12-08 00:00:00\\\\t2002-05-01 00:00:00\\\\t825 8 Ave SW\\\\tCalgary\\\\tAB\\\\tCanada\\\\tT2P 2T3\\\\t+1 (403) 262-3443\\\\t+1 (403) 262-3322\\\\tnancy@chinookcorp.com\\\\n3\\\\tPeacock\\\\tJane\\\\tSales Support Agent\\\\t2\\\\t1973-08-29 00:00:00\\\\t2002-04-01 00:00:00\\\\t1111 6 Ave SW\\\\tCalgary\\\\tAB\\\\tCanada\\\\tT2P 5M5\\\\t+1 (403) 262-3443\\\\t+1 (403) 262-6712\\\\tjane@chinookcorp.com\\\\n*/\\\\n\\\\n\\\\nCREATE TABLE genres (\\\\n\\\\t\"GenreId\" INTEGER NOT NULL, \\\\n\\\\t\"Name\" NVARCHAR(120), \\\\n\\\\tPRIMARY KEY (\"GenreId\")\\\\n)\\\\n\\\\n/*\\\\n3 rows from genres table:\\\\nGenreId\\\\tName\\\\n1\\\\tRock\\\\n2\\\\tJazz\\\\n3\\\\tMetal\\\\n*/\\\\n\\\\n\\\\nCREATE TABLE invoice_items (\\\\n\\\\t\"InvoiceLineId\" INTEGER NOT NULL, \\\\n\\\\t\"InvoiceId\" INTEGER NOT NULL, \\\\n\\\\t\"TrackId\" INTEGER NOT NULL, \\\\n\\\\t\"UnitPrice\" NUMERIC(10, 2) NOT NULL, \\\\n\\\\t\"Quantity\" INTEGER NOT NULL, \\\\n\\\\tPRIMARY KEY (\"InvoiceLineId\"), \\\\n\\\\tFOREIGN KEY(\"TrackId\") REFERENCES tracks (\"TrackId\"), \\\\n\\\\tFOREIGN KEY(\"InvoiceId\") REFERENCES invoices (\"InvoiceId\")\\\\n)\\\\n\\\\n/*\\\\n3 rows from invoice_items table:\\\\nInvoiceLineId\\\\tInvoiceId\\\\tTrackId\\\\tUnitPrice\\\\tQuantity\\\\n1\\\\t1\\\\t2\\\\t0.99\\\\t1\\\\n2\\\\t1\\\\t4\\\\t0.99\\\\t1\\\\n3\\\\t2\\\\t6\\\\t0.99\\\\t1\\\\n*/\\\\n\\\\n\\\\nCREATE TABLE invoices (\\\\n\\\\t\"InvoiceId\" INTEGER NOT NULL, \\\\n\\\\t\"CustomerId\" INTEGER NOT NULL, \\\\n\\\\t\"InvoiceDate\" DATETIME NOT NULL, \\\\n\\\\t\"BillingAddress\" NVARCHAR(70), \\\\n\\\\t\"BillingCity\" NVARCHAR(40), \\\\n\\\\t\"BillingState\" NVARCHAR(40), \\\\n\\\\t\"BillingCountry\" NVARCHAR(40), \\\\n\\\\t\"BillingPostalCode\" NVARCHAR(10), \\\\n\\\\t\"Total\" NUMERIC(10, 2) NOT NULL, \\\\n\\\\tPRIMARY KEY (\"InvoiceId\"), \\\\n\\\\tFOREIGN KEY(\"CustomerId\") REFERENCES customers (\"CustomerId\")\\\\n)\\\\n\\\\n/*\\\\n3 rows from invoices table:\\\\nInvoiceId\\\\tCustomerId\\\\tInvoiceDate\\\\tBillingAddress\\\\tBillingCity\\\\tBillingState\\\\tBillingCountry\\\\tBillingPostalCode\\\\tTotal\\\\n1\\\\t2\\\\t2009-01-01 00:00:00\\\\tTheodor-Heuss-Straße 34\\\\tStuttgart\\\\tNone\\\\tGermany\\\\t70174\\\\t1.98\\\\n2\\\\t4\\\\t2009-01-02 00:00:00\\\\tUllevålsveien 14\\\\tOslo\\\\tNone\\\\tNorway\\\\t0171\\\\t3.96\\\\n3\\\\t8\\\\t2009-01-03 00:00:00\\\\tGrétrystraat 63\\\\tBrussels\\\\tNone\\\\tBelgium\\\\t1000\\\\t5.94\\\\n*/\\\\n\\\\n\\\\nCREATE TABLE media_types (\\\\n\\\\t\"MediaTypeId\" INTEGER NOT NULL, \\\\n\\\\t\"Name\" NVARCHAR(120), \\\\n\\\\tPRIMARY KEY (\"MediaTypeId\")\\\\n)\\\\n\\\\n/*\\\\n3 rows from media_types table:\\\\nMediaTypeId\\\\tName\\\\n1\\\\tMPEG audio file\\\\n2\\\\tProtected AAC audio file\\\\n3\\\\tProtected MPEG-4 video file\\\\n*/\\\\n\\\\n\\\\nCREATE TABLE playlist_track (\\\\n\\\\t\"PlaylistId\" INTEGER NOT NULL, \\\\n\\\\t\"TrackId\" INTEGER NOT NULL, \\\\n\\\\tPRIMARY KEY (\"PlaylistId\", \"TrackId\"), \\\\n\\\\tFOREIGN KEY(\"TrackId\") REFERENCES tracks (\"TrackId\"), \\\\n\\\\tFOREIGN KEY(\"PlaylistId\") REFERENCES playlists (\"PlaylistId\")\\\\n)\\\\n\\\\n/*\\\\n3 rows from playlist_track table:\\\\nPlaylistId\\\\tTrackId\\\\n1\\\\t3402\\\\n1\\\\t3389\\\\n1\\\\t3390\\\\n*/\\\\n\\\\n\\\\nCREATE TABLE playlists (\\\\n\\\\t\"PlaylistId\" INTEGER NOT NULL, \\\\n\\\\t\"Name\" NVARCHAR(120), \\\\n\\\\tPRIMARY KEY (\"PlaylistId\")\\\\n)\\\\n\\\\n/*\\\\n3 rows from playlists table:\\\\nPlaylistId\\\\tName\\\\n1\\\\tMusic\\\\n2\\\\tMovies\\\\n3\\\\tTV Shows\\\\n*/\\\\n\\\\n\\\\nCREATE TABLE tracks (\\\\n\\\\t\"TrackId\" INTEGER NOT NULL, \\\\n\\\\t\"Name\" NVARCHAR(200) NOT NULL, \\\\n\\\\t\"AlbumId\" INTEGER, \\\\n\\\\t\"MediaTypeId\" INTEGER NOT NULL, \\\\n\\\\t\"GenreId\" INTEGER, \\\\n\\\\t\"Composer\" NVARCHAR(220), \\\\n\\\\t\"Milliseconds\" INTEGER NOT NULL, \\\\n\\\\t\"Bytes\" INTEGER, \\\\n\\\\t\"UnitPrice\" NUMERIC(10, 2) NOT NULL, \\\\n\\\\tPRIMARY KEY (\"TrackId\"), \\\\n\\\\tFOREIGN KEY(\"MediaTypeId\") REFERENCES media_types (\"MediaTypeId\"), \\\\n\\\\tFOREIGN KEY(\"GenreId\") REFERENCES genres (\"GenreId\"), \\\\n\\\\tFOREIGN KEY(\"AlbumId\") REFERENCES albums (\"AlbumId\")\\\\n)\\\\n\\\\n/*\\\\n3 rows from tracks table:\\\\nTrackId\\\\tName\\\\tAlbumId\\\\tMediaTypeId\\\\tGenreId\\\\tComposer\\\\tMilliseconds\\\\tBytes\\\\tUnitPrice\\\\n1\\\\tFor Those About To Rock (We Salute You)\\\\t1\\\\t1\\\\t1\\\\tAngus Young, Malcolm Young, Brian Johnson\\\\t343719\\\\t11170334\\\\t0.99\\\\n2\\\\tBalls to the Wall\\\\t2\\\\t2\\\\t1\\\\tNone\\\\t342562\\\\t5510424\\\\t0.99\\\\n3\\\\tFast As a Shark\\\\t3\\\\t2\\\\t1\\\\tF. Baltes, S. Kaufman, U. Dirkscneider & W. Hoffman\\\\t230619\\\\t3990994\\\\t0.99\\\\n*/\\', \\'table_names\\': \\'albums, artists, customers, employees, genres, invoice_items, invoices, media_types, playlist_track, playlists, tracks\\'}\\n',\n",
              " 'output': 'The best customer is the one with CustomerId 6, who has spent a total of $49.62.',\n",
              " 'citations': [CohereCitation(start=34, end=46, text='CustomerId 6', documents=[{'output': '[(6, 49.620000000000005), (26, 47.620000000000005), (57, 46.62), (45, 45.62), (46, 45.62), (28, 43.620000000000005), (24, 43.62), (37, 43.62), (7, 42.62), (25, 42.62), (44, 41.620000000000005), (5, 40.620000000000005), (43, 40.620000000000005), (48, 40.62), (17, 39.620000000000005), (34, 39.620000000000005), (1, 39.62), (3, 39.62), (4, 39.62), (20, 39.62), (22, 39.62), (42, 39.62), (15, 38.620000000000005), (19, 38.620000000000005), (39, 38.620000000000005), (40, 38.620000000000005), (51, 38.620000000000005), (58, 38.620000000000005), (2, 37.620000000000005), (9, 37.620000000000005), (10, 37.620000000000005), (11, 37.620000000000005), (13, 37.620000000000005), (14, 37.620000000000005), (18, 37.620000000000005), (27, 37.620000000000005), (30, 37.620000000000005), (31, 37.620000000000005), (32, 37.620000000000005), (35, 37.620000000000005), (36, 37.620000000000005), (38, 37.620000000000005), (41, 37.620000000000005), (47, 37.620000000000005), (49, 37.620000000000005), (52, 37.620000000000005), (53, 37.620000000000005), (55, 37.620000000000005), (56, 37.620000000000005), (8, 37.62), (12, 37.62), (16, 37.62), (21, 37.62), (23, 37.62), (29, 37.62), (33, 37.62), (50, 37.62), (54, 37.62), (59, 36.64)]', 'id': 'doc_0'}], document_ids={'doc_0'}),\n",
              "  CohereCitation(start=73, end=79, text='$49.62', documents=[{'output': '[(6, 49.620000000000005), (26, 47.620000000000005), (57, 46.62), (45, 45.62), (46, 45.62), (28, 43.620000000000005), (24, 43.62), (37, 43.62), (7, 42.62), (25, 42.62), (44, 41.620000000000005), (5, 40.620000000000005), (43, 40.620000000000005), (48, 40.62), (17, 39.620000000000005), (34, 39.620000000000005), (1, 39.62), (3, 39.62), (4, 39.62), (20, 39.62), (22, 39.62), (42, 39.62), (15, 38.620000000000005), (19, 38.620000000000005), (39, 38.620000000000005), (40, 38.620000000000005), (51, 38.620000000000005), (58, 38.620000000000005), (2, 37.620000000000005), (9, 37.620000000000005), (10, 37.620000000000005), (11, 37.620000000000005), (13, 37.620000000000005), (14, 37.620000000000005), (18, 37.620000000000005), (27, 37.620000000000005), (30, 37.620000000000005), (31, 37.620000000000005), (32, 37.620000000000005), (35, 37.620000000000005), (36, 37.620000000000005), (38, 37.620000000000005), (41, 37.620000000000005), (47, 37.620000000000005), (49, 37.620000000000005), (52, 37.620000000000005), (53, 37.620000000000005), (55, 37.620000000000005), (56, 37.620000000000005), (8, 37.62), (12, 37.62), (16, 37.62), (21, 37.62), (23, 37.62), (29, 37.62), (33, 37.62), (50, 37.62), (54, 37.62), (59, 36.64)]', 'id': 'doc_0'}], document_ids={'doc_0'})],\n",
              " 'intermediate_steps': [(AgentActionMessageLog(tool='sql_db_query', tool_input={'query': 'SELECT CustomerId, SUM(Total) AS TotalSpent FROM invoices GROUP BY CustomerId ORDER BY TotalSpent DESC'}, log=\"\\nI will first find the total amount spent by each customer, then I will find the customer with the highest amount spent.\\n{'tool_name': 'sql_db_query', 'parameters': {'query': 'SELECT CustomerId, SUM(Total) AS TotalSpent FROM invoices GROUP BY CustomerId ORDER BY TotalSpent DESC'}}\\n\", message_log=[AIMessage(content='\\nPlan: I will first find the total amount spent by each customer, then I will find the customer with the highest amount spent.\\nAction: ```json\\n[\\n    {\\n        \"tool_name\": \"sql_db_query\",\\n        \"parameters\": {\\n            \"query\": \"SELECT CustomerId, SUM(Total) AS TotalSpent FROM invoices GROUP BY CustomerId ORDER BY TotalSpent DESC\"\\n        }\\n    }\\n]\\n```')]),\n",
              "   '[(6, 49.620000000000005), (26, 47.620000000000005), (57, 46.62), (45, 45.62), (46, 45.62), (28, 43.620000000000005), (24, 43.62), (37, 43.62), (7, 42.62), (25, 42.62), (44, 41.620000000000005), (5, 40.620000000000005), (43, 40.620000000000005), (48, 40.62), (17, 39.620000000000005), (34, 39.620000000000005), (1, 39.62), (3, 39.62), (4, 39.62), (20, 39.62), (22, 39.62), (42, 39.62), (15, 38.620000000000005), (19, 38.620000000000005), (39, 38.620000000000005), (40, 38.620000000000005), (51, 38.620000000000005), (58, 38.620000000000005), (2, 37.620000000000005), (9, 37.620000000000005), (10, 37.620000000000005), (11, 37.620000000000005), (13, 37.620000000000005), (14, 37.620000000000005), (18, 37.620000000000005), (27, 37.620000000000005), (30, 37.620000000000005), (31, 37.620000000000005), (32, 37.620000000000005), (35, 37.620000000000005), (36, 37.620000000000005), (38, 37.620000000000005), (41, 37.620000000000005), (47, 37.620000000000005), (49, 37.620000000000005), (52, 37.620000000000005), (53, 37.620000000000005), (55, 37.620000000000005), (56, 37.620000000000005), (8, 37.62), (12, 37.62), (16, 37.62), (21, 37.62), (23, 37.62), (29, 37.62), (33, 37.62), (50, 37.62), (54, 37.62), (59, 36.64)]')]}"
            ]
          },
          "metadata": {},
          "execution_count": 50
        }
      ],
      "source": [
        "agent_executor.invoke({\n",
        "   \"input\": 'provide the name of the best customer? The customer who has spent the most money is the best.',\n",
        "   \"preamble\": preamble\n",
        "})"
      ]
    },
    {
      "cell_type": "markdown",
      "id": "b1cfcaaa-b1c0-4ded-baaa-7bbdb097be6e",
      "metadata": {
        "id": "b1cfcaaa-b1c0-4ded-baaa-7bbdb097be6e"
      },
      "source": [
        "Great, we can see that passing that additional context actually avoids the error seen in the previous section and gets to the answer in one tool call. Of course this works as long as you have a few tables and a few columns per table. We will follow up with more techniques to improve stability and scalability in another notebook."
      ]
    },
    {
      "cell_type": "code",
      "execution_count": null,
      "id": "95a1feed-1480-497d-bacf-9ab2667b573c",
      "metadata": {
        "id": "95a1feed-1480-497d-bacf-9ab2667b573c"
      },
      "outputs": [],
      "source": []
    }
  ],
  "metadata": {
    "colab": {
      "provenance": [],
      "machine_shape": "hm",
      "gpuType": "T4",
      "include_colab_link": true
    },
    "kernelspec": {
      "display_name": "Python 3",
      "name": "python3"
    },
    "language_info": {
      "codemirror_mode": {
        "name": "ipython",
        "version": 3
      },
      "file_extension": ".py",
      "mimetype": "text/x-python",
      "name": "python",
      "nbconvert_exporter": "python",
      "pygments_lexer": "ipython3",
      "version": "3.10.14"
    },
    "accelerator": "GPU"
  },
  "nbformat": 4,
  "nbformat_minor": 5
}